{
 "cells": [
  {
   "cell_type": "markdown",
   "metadata": {},
   "source": [
    "# Fermi GC Queries\n",
    "\n",
    "Queries on the Galactic Center (GC) with Fermi Science Tools (FST).\n",
    "\n",
    "**Queries**\n",
    "* ```L200406170016F357373F97```"
   ]
  },
  {
   "cell_type": "code",
   "execution_count": 1,
   "metadata": {},
   "outputs": [
    {
     "name": "stdout",
     "output_type": "stream",
     "text": [
      "/home/mpotto/Pesquisa/astroph/assignments/fermi-config\n"
     ]
    }
   ],
   "source": [
    "% cd /home/mpotto/Pesquisa/astroph/assignments/fermi-config/"
   ]
  },
  {
   "cell_type": "code",
   "execution_count": 2,
   "metadata": {},
   "outputs": [],
   "source": [
    "from fermipy.gtanalysis import GTAnalysis"
   ]
  },
  {
   "cell_type": "code",
   "execution_count": 3,
   "metadata": {},
   "outputs": [
    {
     "name": "stderr",
     "output_type": "stream",
     "text": [
      "2020-04-06 19:35:26 INFO    GTAnalysis.__init__(): \n",
      "--------------------------------------------------------------------------------\n",
      "fermipy version 0.18.1 \n",
      "ScienceTools version unknown\n"
     ]
    }
   ],
   "source": [
    "gta = GTAnalysis('config.yaml', logging={'verbosity':3})"
   ]
  },
  {
   "cell_type": "code",
   "execution_count": 4,
   "metadata": {},
   "outputs": [
    {
     "name": "stderr",
     "output_type": "stream",
     "text": [
      "2020-04-06 19:35:27 INFO    GTAnalysis.setup(): Running setup.\n",
      "2020-04-06 19:35:27 INFO    GTBinnedAnalysis.setup(): Running setup for component 00\n",
      "2020-04-06 19:35:27 INFO    GTBinnedAnalysis.run_gtapp(): Running gtselect.\n",
      "2020-04-06 19:35:27 INFO    GTBinnedAnalysis.run_gtapp(): time -p gtselect infile=ft1.fits outfile=/home/mpotto/Pesquisa/astroph/assignments/fermi-config/ft1_00.fits ra=266.405 dec=-28.9362 rad=7.57106781187 tmin=378691203.0 tmax=379123202.0 emin=100.0 emax=300000.0 zmin=0.0 zmax=90.0 evclass=128 evtype=3 convtype=-1 phasemin=0.0 phasemax=1.0 evtable=\"EVENTS\" chatter=3 clobber=yes debug=no gui=no mode=\"ql\"\n",
      "2020-04-06 19:35:28 INFO    GTBinnedAnalysis.run_gtapp(): \n",
      "2020-04-06 19:35:28 INFO    GTBinnedAnalysis.run_gtapp(): WARNING: version mismatch between CFITSIO header (v3.43) and linked library (v3.41).\n",
      "2020-04-06 19:35:28 INFO    GTBinnedAnalysis.run_gtapp(): \n",
      "2020-04-06 19:35:28 INFO    GTBinnedAnalysis.run_gtapp(): This is gtselect version HEAD\n",
      "2020-04-06 19:35:28 INFO    GTBinnedAnalysis.run_gtapp(): Applying filter string: ((EVENT_CLASS&o200) != o0) && angsep(RA,DEC,266.405,-28.9362) < 7.571067812 && ((EVENT_TYPE&o3) != o0) && 100 < ENERGY && ENERGY <= 300000 && 378691203 < TIME && TIME <= 379123202 && 0 < ZENITH_ANGLE && ZENITH_ANGLE <= 90 && gtifilter()\n",
      "2020-04-06 19:35:28 INFO    GTBinnedAnalysis.run_gtapp(): Done.\n",
      "2020-04-06 19:35:28 INFO    GTBinnedAnalysis.run_gtapp(): Finished gtselect. Execution time: 0.29 s\n",
      "2020-04-06 19:35:28 INFO    GTBinnedAnalysis.setup(): Using external LT cube.\n",
      "2020-04-06 19:35:29 INFO    GTBinnedAnalysis.run_gtapp(): Running gtbin.\n",
      "2020-04-06 19:35:29 INFO    GTBinnedAnalysis.run_gtapp(): time -p gtbin evfile=/home/mpotto/Pesquisa/astroph/assignments/fermi-config/ft1_00.fits scfile=ft2.fits outfile=/home/mpotto/Pesquisa/astroph/assignments/fermi-config/ccube_00.fits algorithm=\"ccube\" ebinalg=\"LOG\" emin=100.0 emax=300000.0 enumbins=28 ebinfile=NONE tbinalg=\"LIN\" tbinfile=NONE nxpix=100 nypix=100 binsz=0.1 coordsys=\"CEL\" xref=266.405 yref=-28.9362 axisrot=0.0 rafield=\"RA\" decfield=\"DEC\" proj=\"AIT\" hpx_ordering_scheme=\"RING\" hpx_order=3 hpx_ebin=yes hpx_region=\"\" evtable=\"EVENTS\" sctable=\"SC_DATA\" efield=\"ENERGY\" tfield=\"TIME\" chatter=3 clobber=yes debug=no gui=no mode=\"ql\"\n",
      "2020-04-06 19:35:29 INFO    GTBinnedAnalysis.run_gtapp(): \n",
      "2020-04-06 19:35:29 INFO    GTBinnedAnalysis.run_gtapp(): WARNING: version mismatch between CFITSIO header (v3.43) and linked library (v3.41).\n",
      "2020-04-06 19:35:29 INFO    GTBinnedAnalysis.run_gtapp(): \n",
      "2020-04-06 19:35:29 INFO    GTBinnedAnalysis.run_gtapp(): This is gtbin version HEAD\n",
      "2020-04-06 19:35:29 INFO    GTBinnedAnalysis.run_gtapp(): Finished gtbin. Execution time: 0.35 s\n",
      "2020-04-06 19:35:29 INFO    GTBinnedAnalysis.run_gtapp(): Running gtexpcube2.\n",
      "2020-04-06 19:35:29 INFO    GTBinnedAnalysis.run_gtapp(): time -p gtexpcube2 infile=/home/mpotto/Pesquisa/astroph/assignments/fermi-config/gc_ltcube.fits cmap=none outfile=/home/mpotto/Pesquisa/astroph/assignments/fermi-config/bexpmap_00.fits irfs=\"P8R2_SOURCE_V6\" evtype=3 edisp_bins=-1 nxpix=360 nypix=180 binsz=1.0 coordsys=\"CEL\" xref=0.0 yref=0.0 axisrot=0.0 proj=\"CAR\" ebinalg=\"LOG\" emin=100.0 emax=300000.0 enumbins=28 ebinfile=\"NONE\" hpx_ordering_scheme=\"RING\" hpx_order=6 bincalc=\"EDGE\" ignorephi=no thmax=180.0 thmin=0.0 table=\"EXPOSURE\" chatter=3 clobber=yes debug=no mode=\"ql\"\n",
      "2020-04-06 19:35:39 INFO    GTBinnedAnalysis.run_gtapp(): \n",
      "2020-04-06 19:35:39 INFO    GTBinnedAnalysis.run_gtapp(): WARNING: version mismatch between CFITSIO header (v3.43) and linked library (v3.41).\n",
      "2020-04-06 19:35:39 INFO    GTBinnedAnalysis.run_gtapp(): \n",
      "2020-04-06 19:35:39 INFO    GTBinnedAnalysis.run_gtapp(): This is gtexpcube2 version HEAD\n",
      "2020-04-06 19:35:39 INFO    GTBinnedAnalysis.run_gtapp(): Using evtype=3 (i.e., FRONT/BACK irfs)\n",
      "2020-04-06 19:35:39 INFO    GTBinnedAnalysis.run_gtapp(): ResponseFunctions::load: IRF used: P8R2_SOURCE_V6\n",
      "2020-04-06 19:35:39 INFO    GTBinnedAnalysis.run_gtapp(): event_types:  0  1\n",
      "2020-04-06 19:35:39 INFO    GTBinnedAnalysis.run_gtapp(): Computing binned exposure map....................!\n",
      "2020-04-06 19:35:39 INFO    GTBinnedAnalysis.run_gtapp(): Finished gtexpcube2. Execution time: 9.75 s\n",
      "2020-04-06 19:35:39 INFO    GTBinnedAnalysis.run_gtapp(): Running gtexpcube2.\n",
      "2020-04-06 19:35:39 INFO    GTBinnedAnalysis.run_gtapp(): time -p gtexpcube2 infile=/home/mpotto/Pesquisa/astroph/assignments/fermi-config/gc_ltcube.fits cmap=none outfile=/home/mpotto/Pesquisa/astroph/assignments/fermi-config/bexpmap_roi_00.fits irfs=\"P8R2_SOURCE_V6\" evtype=3 edisp_bins=0 nxpix=100 nypix=100 binsz=0.1 coordsys=\"CEL\" xref=266.405 yref=-28.9362 axisrot=0.0 proj=\"CAR\" ebinalg=\"LOG\" emin=100.0 emax=300000.0 enumbins=28 ebinfile=\"NONE\" hpx_ordering_scheme=\"RING\" hpx_order=6 bincalc=\"EDGE\" ignorephi=no thmax=180.0 thmin=0.0 table=\"EXPOSURE\" chatter=3 clobber=yes debug=no mode=\"ql\"\n",
      "2020-04-06 19:35:44 INFO    GTBinnedAnalysis.run_gtapp(): \n",
      "2020-04-06 19:35:44 INFO    GTBinnedAnalysis.run_gtapp(): WARNING: version mismatch between CFITSIO header (v3.43) and linked library (v3.41).\n",
      "2020-04-06 19:35:44 INFO    GTBinnedAnalysis.run_gtapp(): \n",
      "2020-04-06 19:35:44 INFO    GTBinnedAnalysis.run_gtapp(): This is gtexpcube2 version HEAD\n",
      "2020-04-06 19:35:44 INFO    GTBinnedAnalysis.run_gtapp(): Using evtype=3 (i.e., FRONT/BACK irfs)\n",
      "2020-04-06 19:35:44 INFO    GTBinnedAnalysis.run_gtapp(): ResponseFunctions::load: IRF used: P8R2_SOURCE_V6\n",
      "2020-04-06 19:35:44 INFO    GTBinnedAnalysis.run_gtapp(): event_types:  0  1\n",
      "2020-04-06 19:35:44 INFO    GTBinnedAnalysis.run_gtapp(): Computing binned exposure map....................!\n",
      "2020-04-06 19:35:44 INFO    GTBinnedAnalysis.run_gtapp(): Finished gtexpcube2. Execution time: 5.18 s\n",
      "WARNING: FITSFixedWarning: RADECSYS= 'FK5 ' \n",
      "the RADECSYS keyword is deprecated, use RADESYSa. [astropy.wcs.wcs]\n",
      "2020-04-06 19:35:45 INFO    GTBinnedAnalysis.run_gtapp(): Running gtsrcmaps.\n",
      "2020-04-06 19:35:45 INFO    GTBinnedAnalysis.run_gtapp(): time -p gtsrcmaps scfile=ft2.fits sctable=\"SC_DATA\" expcube=/home/mpotto/Pesquisa/astroph/assignments/fermi-config/gc_ltcube.fits cmap=/home/mpotto/Pesquisa/astroph/assignments/fermi-config/ccube_00.fits srcmdl=/home/mpotto/Pesquisa/astroph/assignments/fermi-config/srcmdl_00.xml bexpmap=/home/mpotto/Pesquisa/astroph/assignments/fermi-config/bexpmap_00.fits wmap=none outfile=/home/mpotto/Pesquisa/astroph/assignments/fermi-config/srcmap_00.fits irfs=\"P8R2_SOURCE_V6\" evtype=3 convol=yes resample=yes rfactor=2 minbinsz=0.05 ptsrc=yes psfcorr=yes emapbnds=no edisp_bins=-1 copyall=no chatter=3 clobber=yes debug=no gui=no mode=\"ql\"\n",
      "2020-04-06 19:36:56 INFO    GTBinnedAnalysis.run_gtapp(): \n",
      "2020-04-06 19:36:56 INFO    GTBinnedAnalysis.run_gtapp(): WARNING: version mismatch between CFITSIO header (v3.43) and linked library (v3.41).\n",
      "2020-04-06 19:36:56 INFO    GTBinnedAnalysis.run_gtapp(): \n",
      "2020-04-06 19:36:56 INFO    GTBinnedAnalysis.run_gtapp(): This is gtsrcmaps version HEAD\n",
      "2020-04-06 19:36:56 INFO    GTBinnedAnalysis.run_gtapp(): Using evtype=3 (i.e., FRONT/BACK irfs)\n",
      "2020-04-06 19:36:56 INFO    GTBinnedAnalysis.run_gtapp(): ResponseFunctions::load: IRF used: P8R2_SOURCE_V6\n",
      "2020-04-06 19:36:56 INFO    GTBinnedAnalysis.run_gtapp(): event_types:  0  1\n",
      "2020-04-06 19:36:56 INFO    GTBinnedAnalysis.run_gtapp(): Creating source named 4FGL J1745.6-2859\n",
      "2020-04-06 19:36:56 INFO    GTBinnedAnalysis.run_gtapp(): Creating source named 4FGL J1746.4-2852\n",
      "2020-04-06 19:36:56 INFO    GTBinnedAnalysis.run_gtapp(): Creating source named 4FGL J1748.3-2906\n",
      "2020-04-06 19:36:56 INFO    GTBinnedAnalysis.run_gtapp(): Creating source named 4FGL J1742.5-2833\n",
      "2020-04-06 19:36:56 INFO    GTBinnedAnalysis.run_gtapp(): Creating source named 4FGL J1747.2-2957\n",
      "2020-04-06 19:36:56 INFO    GTBinnedAnalysis.run_gtapp(): Creating source named 4FGL J1740.4-2850\n",
      "2020-04-06 19:36:56 INFO    GTBinnedAnalysis.run_gtapp(): Creating source named 4FGL J1739.7-2836\n",
      "2020-04-06 19:36:56 INFO    GTBinnedAnalysis.run_gtapp(): Creating source named 4FGL J1739.5-2929\n",
      "2020-04-06 19:36:56 INFO    GTBinnedAnalysis.run_gtapp(): Creating source named 4FGL J1752.3-2914\n",
      "2020-04-06 19:36:56 INFO    GTBinnedAnalysis.run_gtapp(): Creating source named 4FGL J1745.8-3028e\n",
      "2020-04-06 19:36:56 INFO    GTBinnedAnalysis.run_gtapp(): Creating source named 4FGL J1753.2-2848\n",
      "2020-04-06 19:36:56 INFO    GTBinnedAnalysis.run_gtapp(): Creating source named 4FGL J1741.6-2730\n",
      "2020-04-06 19:36:56 INFO    GTBinnedAnalysis.run_gtapp(): Creating source named 4FGL J1750.4-3023\n",
      "2020-04-06 19:36:56 INFO    GTBinnedAnalysis.run_gtapp(): Creating source named 4FGL J1739.4-3015\n",
      "2020-04-06 19:36:56 INFO    GTBinnedAnalysis.run_gtapp(): Creating source named 4FGL J1754.3-2914\n",
      "2020-04-06 19:36:56 INFO    GTBinnedAnalysis.run_gtapp(): Creating source named 4FGL J1743.1-3049\n",
      "2020-04-06 19:36:56 INFO    GTBinnedAnalysis.run_gtapp(): Creating source named 4FGL J1741.4-3046\n",
      "2020-04-06 19:36:56 INFO    GTBinnedAnalysis.run_gtapp(): Creating source named 4FGL J1754.6-2933\n",
      "2020-04-06 19:36:56 INFO    GTBinnedAnalysis.run_gtapp(): Creating source named 4FGL J1736.3-2929\n",
      "2020-04-06 19:36:56 INFO    GTBinnedAnalysis.run_gtapp(): Creating source named 4FGL J1739.2-2717\n",
      "2020-04-06 19:36:56 INFO    GTBinnedAnalysis.run_gtapp(): Creating source named 4FGL J1752.7-3040\n",
      "2020-04-06 19:36:56 INFO    GTBinnedAnalysis.run_gtapp(): Creating source named 4FGL J1740.3-3058\n",
      "2020-04-06 19:36:56 INFO    GTBinnedAnalysis.run_gtapp(): Creating source named 4FGL J1750.8-3106\n",
      "2020-04-06 19:36:56 INFO    GTBinnedAnalysis.run_gtapp(): Creating source named 4FGL J1746.0-3123\n",
      "2020-04-06 19:36:56 INFO    GTBinnedAnalysis.run_gtapp(): Creating source named 4FGL J1743.4-3123\n",
      "2020-04-06 19:36:56 INFO    GTBinnedAnalysis.run_gtapp(): Creating source named 4FGL J1734.5-2818\n",
      "2020-04-06 19:36:56 INFO    GTBinnedAnalysis.run_gtapp(): Creating source named 4FGL J1740.7-2640\n",
      "2020-04-06 19:36:56 INFO    GTBinnedAnalysis.run_gtapp(): Creating source named 4FGL J1741.5-3119\n",
      "2020-04-06 19:36:56 INFO    GTBinnedAnalysis.run_gtapp(): Creating source named 4FGL J1734.0-2933\n",
      "2020-04-06 19:36:56 INFO    GTBinnedAnalysis.run_gtapp(): Creating source named 4FGL J1735.7-3026\n",
      "2020-04-06 19:36:56 INFO    GTBinnedAnalysis.run_gtapp(): Creating source named 4FGL J1733.2-2915\n",
      "2020-04-06 19:36:56 INFO    GTBinnedAnalysis.run_gtapp(): Creating source named 4FGL J1744.5-2612\n",
      "2020-04-06 19:36:56 INFO    GTBinnedAnalysis.run_gtapp(): Creating source named 4FGL J1743.8-3143\n",
      "2020-04-06 19:36:56 INFO    GTBinnedAnalysis.run_gtapp(): Creating source named 4FGL J1758.0-2953\n",
      "2020-04-06 19:36:56 INFO    GTBinnedAnalysis.run_gtapp(): Creating source named 4FGL J1749.6-3143\n",
      "2020-04-06 19:36:57 INFO    GTBinnedAnalysis.run_gtapp(): Creating source named 4FGL J1757.6-2731\n",
      "2020-04-06 19:36:57 INFO    GTBinnedAnalysis.run_gtapp(): Creating source named 4FGL J1752.3-3139\n",
      "2020-04-06 19:36:57 INFO    GTBinnedAnalysis.run_gtapp(): Creating source named 4FGL J1758.3-3028\n",
      "2020-04-06 19:36:57 INFO    GTBinnedAnalysis.run_gtapp(): Creating source named 4FGL J1731.6-3002\n",
      "2020-04-06 19:36:57 INFO    GTBinnedAnalysis.run_gtapp(): Creating source named 4FGL J1746.1-2541\n",
      "2020-04-06 19:36:57 INFO    GTBinnedAnalysis.run_gtapp(): Creating source named 4FGL J1739.6-3155\n",
      "2020-04-06 19:36:57 INFO    GTBinnedAnalysis.run_gtapp(): Creating source named 4FGL J1800.5-2910\n",
      "2020-04-06 19:36:57 INFO    GTBinnedAnalysis.run_gtapp(): Creating source named 4FGL J1800.2-2952\n",
      "2020-04-06 19:36:57 INFO    GTBinnedAnalysis.run_gtapp(): Creating source named 4FGL J1730.3-2913\n",
      "2020-04-06 19:36:57 INFO    GTBinnedAnalysis.run_gtapp(): Creating source named 4FGL J1731.9-2719\n",
      "2020-04-06 19:36:57 INFO    GTBinnedAnalysis.run_gtapp(): Creating source named 4FGL J1741.8-2537\n",
      "2020-04-06 19:36:57 INFO    GTBinnedAnalysis.run_gtapp(): Creating source named 4FGL J1801.0-2802\n",
      "2020-04-06 19:36:57 INFO    GTBinnedAnalysis.run_gtapp(): Creating source named 4FGL J1747.9-3224\n",
      "2020-04-06 19:36:57 INFO    GTBinnedAnalysis.run_gtapp(): Creating source named 4FGL J1757.4-3125\n",
      "2020-04-06 19:36:57 INFO    GTBinnedAnalysis.run_gtapp(): Creating source named 4FGL J1729.4-2831\n",
      "2020-04-06 19:36:57 INFO    GTBinnedAnalysis.run_gtapp(): Creating source named 4FGL J1732.0-2659\n",
      "2020-04-06 19:36:57 INFO    GTBinnedAnalysis.run_gtapp(): Creating source named 4FGL J1754.8-3200\n",
      "2020-04-06 19:36:57 INFO    GTBinnedAnalysis.run_gtapp(): Creating source named 4FGL J1739.3-2531\n",
      "2020-04-06 19:36:57 INFO    GTBinnedAnalysis.run_gtapp(): Creating source named 4FGL J1746.8-3239\n",
      "2020-04-06 19:36:57 INFO    GTBinnedAnalysis.run_gtapp(): Creating source named 4FGL J1753.8-2538\n",
      "2020-04-06 19:36:57 INFO    GTBinnedAnalysis.run_gtapp(): Creating source named 4FGL J1732.5-3131\n",
      "2020-04-06 19:36:57 INFO    GTBinnedAnalysis.run_gtapp(): Creating source named 4FGL J1745.7-2506\n",
      "2020-04-06 19:36:57 INFO    GTBinnedAnalysis.run_gtapp(): Creating source named 4FGL J1803.8-2908\n",
      "2020-04-06 19:36:57 INFO    GTBinnedAnalysis.run_gtapp(): Creating source named 4FGL J1738.8-3241\n",
      "2020-04-06 19:36:57 INFO    GTBinnedAnalysis.run_gtapp(): Creating source named 4FGL J1802.4-3041\n",
      "2020-04-06 19:36:57 INFO    GTBinnedAnalysis.run_gtapp(): Creating source named 4FGL J1732.7-2559\n",
      "2020-04-06 19:36:57 INFO    GTBinnedAnalysis.run_gtapp(): Creating source named 4FGL J1754.3-3236\n",
      "2020-04-06 19:36:57 INFO    GTBinnedAnalysis.run_gtapp(): Creating source named 4FGL J1803.1-2724\n",
      "2020-04-06 19:36:57 INFO    GTBinnedAnalysis.run_gtapp(): Creating source named 4FGL J1802.1-2652\n",
      "2020-04-06 19:36:57 INFO    GTBinnedAnalysis.run_gtapp(): Creating source named 4FGL J1748.0-2446\n",
      "2020-04-06 19:36:57 INFO    GTBinnedAnalysis.run_gtapp(): Creating source named 4FGL J1750.9-3301\n",
      "2020-04-06 19:36:57 INFO    GTBinnedAnalysis.run_gtapp(): Creating source named 4FGL J1726.2-2903\n",
      "2020-04-06 19:36:57 INFO    GTBinnedAnalysis.run_gtapp(): Creating source named 4FGL J1801.1-2626\n",
      "2020-04-06 19:36:57 INFO    GTBinnedAnalysis.run_gtapp(): Creating source named 4FGL J1726.0-2843\n",
      "2020-04-06 19:36:57 INFO    GTBinnedAnalysis.run_gtapp(): Creating source named 4FGL J1727.6-3050\n",
      "2020-04-06 19:36:57 INFO    GTBinnedAnalysis.run_gtapp(): Creating source named 4FGL J1804.9-3001\n",
      "2020-04-06 19:36:57 INFO    GTBinnedAnalysis.run_gtapp(): Creating source named 4FGL J1738.1-2453\n",
      "2020-04-06 19:36:57 INFO    GTBinnedAnalysis.run_gtapp(): Creating source named 4FGL J1742.3-3318\n",
      "2020-04-06 19:36:57 INFO    GTBinnedAnalysis.run_gtapp(): Creating source named 4FGL J1744.9-3322\n",
      "2020-04-06 19:36:57 INFO    GTBinnedAnalysis.run_gtapp(): Creating source named 4FGL J1726.8-2659\n",
      "2020-04-06 19:36:57 INFO    GTBinnedAnalysis.run_gtapp(): Creating source named 4FGL J1741.1-3328\n",
      "2020-04-06 19:36:57 INFO    GTBinnedAnalysis.run_gtapp(): Creating source named 4FGL J1806.9-2824\n",
      "2020-04-06 19:36:57 INFO    GTBinnedAnalysis.run_gtapp(): Creating source named 4FGL J1724.5-3008\n",
      "2020-04-06 19:36:57 INFO    GTBinnedAnalysis.run_gtapp(): Creating source named 4FGL J1731.2-3234\n",
      "2020-04-06 19:36:57 INFO    GTBinnedAnalysis.run_gtapp(): Creating source named 4FGL J1746.2-3342\n",
      "2020-04-06 19:36:57 INFO    GTBinnedAnalysis.run_gtapp(): Creating source named 4FGL J1743.6-3341\n",
      "2020-04-06 19:36:57 INFO    GTBinnedAnalysis.run_gtapp(): Creating source named 4FGL J1753.3-3325\n",
      "2020-04-06 19:36:57 INFO    GTBinnedAnalysis.run_gtapp(): Creating source named 4FGL J1743.4-2406\n",
      "2020-04-06 19:36:57 INFO    GTBinnedAnalysis.run_gtapp(): Creating source named 4FGL J1723.1-2859\n",
      "2020-04-06 19:36:57 INFO    GTBinnedAnalysis.run_gtapp(): Creating source named 4FGL J1737.3-3332\n",
      "2020-04-06 19:36:57 INFO    GTBinnedAnalysis.run_gtapp(): Creating source named 4FGL J1737.2-2421\n",
      "2020-04-06 19:36:57 INFO    GTBinnedAnalysis.run_gtapp(): Creating source named 4FGL J1803.7-3207\n",
      "2020-04-06 19:36:57 INFO    GTBinnedAnalysis.run_gtapp(): Creating source named 4FGL J1733.6-2431\n",
      "2020-04-06 19:36:57 INFO    GTBinnedAnalysis.run_gtapp(): Creating source named 4FGL J1735.9-3342\n",
      "2020-04-06 19:36:57 INFO    GTBinnedAnalysis.run_gtapp(): Creating source named 4FGL J1801.2-2450\n",
      "2020-04-06 19:36:57 INFO    GTBinnedAnalysis.run_gtapp(): Creating source named 4FGL J1722.6-3135\n",
      "2020-04-06 19:36:57 INFO    GTBinnedAnalysis.run_gtapp(): Creating source named 4FGL J1758.6-2404\n",
      "2020-04-06 19:36:57 INFO    GTBinnedAnalysis.run_gtapp(): Creating source named 4FGL J1800.2-2403\n",
      "2020-04-06 19:36:57 INFO    GTBinnedAnalysis.run_gtapp(): Creating source named 4FGL J1730.5-3352\n",
      "2020-04-06 19:36:57 INFO    GTBinnedAnalysis.run_gtapp(): Creating source named 4FGL J1800.9-2407\n",
      "2020-04-06 19:36:57 INFO    GTBinnedAnalysis.run_gtapp(): Creating source named 4FGL J1759.7-2354\n",
      "2020-04-06 19:36:57 INFO    GTBinnedAnalysis.run_gtapp(): Creating source named 4FGL J1722.1-3205\n",
      "2020-04-06 19:36:57 INFO    GTBinnedAnalysis.run_gtapp(): Creating source named 4FGL J1729.9-2403\n",
      "2020-04-06 19:36:57 INFO    GTBinnedAnalysis.run_gtapp(): Creating source named 4FGL J1800.7-2355\n",
      "2020-04-06 19:36:57 INFO    GTBinnedAnalysis.run_gtapp(): Creating source named 4FGL J1801.8-2358\n",
      "2020-04-06 19:36:57 INFO    GTBinnedAnalysis.run_gtapp(): Creating source named 4FGL J1806.9-2455\n",
      "2020-04-06 19:36:57 INFO    GTBinnedAnalysis.run_gtapp(): Creating source named 4FGL J1806.1-3344\n",
      "2020-04-06 19:36:57 INFO    GTBinnedAnalysis.run_gtapp(): Creating source named isodiff\n",
      "2020-04-06 19:36:57 INFO    GTBinnedAnalysis.run_gtapp(): Creating source named galdiff\n",
      "2020-04-06 19:36:57 INFO    GTBinnedAnalysis.run_gtapp(): Generating SourceMap for 4FGL J1722.1-3205 29....................!\n",
      "2020-04-06 19:36:57 INFO    GTBinnedAnalysis.run_gtapp(): Generating SourceMap for 4FGL J1722.6-3135 29....................!\n",
      "2020-04-06 19:36:57 INFO    GTBinnedAnalysis.run_gtapp(): Drm_Cache::update Measured counts < 0 4FGL J1722.6-3135 27 -2.59962e-13 3.95877e-13\n",
      "2020-04-06 19:36:57 INFO    GTBinnedAnalysis.run_gtapp(): 5.80885e-05 0.000269594 0.00100224 0.00305949 0.00785493 0.0169817 0.0309252 0.0479728 0.063392 0.0706459 0.0661756 0.0522867 0.0350083 0.0198854 0.0096564 0.00405244 0.0014295 0.000428959 0.0001096 2.39401e-05 4.48255e-06 7.1591e-07 9.66667e-08 1.11009e-08 1.08642e-09 9.0798e-11 6.486e-12 3.95877e-13\n",
      "2020-04-06 19:36:57 INFO    GTBinnedAnalysis.run_gtapp(): Generating SourceMap for 4FGL J1723.1-2859 29....................!\n",
      "2020-04-06 19:36:57 INFO    GTBinnedAnalysis.run_gtapp(): Generating SourceMap for 4FGL J1724.5-3008 29....................!\n",
      "2020-04-06 19:36:57 INFO    GTBinnedAnalysis.run_gtapp(): Generating SourceMap for 4FGL J1726.0-2843 29....................!\n",
      "2020-04-06 19:36:57 INFO    GTBinnedAnalysis.run_gtapp(): Generating SourceMap for 4FGL J1726.2-2903 29....................!\n",
      "2020-04-06 19:36:57 INFO    GTBinnedAnalysis.run_gtapp(): Generating SourceMap for 4FGL J1726.8-2659 29....................!\n",
      "2020-04-06 19:36:57 INFO    GTBinnedAnalysis.run_gtapp(): Generating SourceMap for 4FGL J1727.6-3050 29....................!\n",
      "2020-04-06 19:36:57 INFO    GTBinnedAnalysis.run_gtapp(): Generating SourceMap for 4FGL J1729.4-2831 29....................!\n",
      "2020-04-06 19:36:57 INFO    GTBinnedAnalysis.run_gtapp(): Generating SourceMap for 4FGL J1729.9-2403 29....................!\n",
      "2020-04-06 19:36:57 INFO    GTBinnedAnalysis.run_gtapp(): Generating SourceMap for 4FGL J1730.3-2913 29....................!\n",
      "2020-04-06 19:36:57 INFO    GTBinnedAnalysis.run_gtapp(): Generating SourceMap for 4FGL J1730.5-3352 29....................!\n",
      "2020-04-06 19:36:57 INFO    GTBinnedAnalysis.run_gtapp(): Generating SourceMap for 4FGL J1731.2-3234 29....................!\n",
      "2020-04-06 19:36:57 INFO    GTBinnedAnalysis.run_gtapp(): Generating SourceMap for 4FGL J1731.6-3002 29....................!\n",
      "2020-04-06 19:36:57 INFO    GTBinnedAnalysis.run_gtapp(): Generating SourceMap for 4FGL J1731.9-2719 29....................!\n",
      "2020-04-06 19:36:57 INFO    GTBinnedAnalysis.run_gtapp(): Generating SourceMap for 4FGL J1732.0-2659 29....................!\n",
      "2020-04-06 19:36:57 INFO    GTBinnedAnalysis.run_gtapp(): Generating SourceMap for 4FGL J1732.5-3131 29....................!\n",
      "2020-04-06 19:36:57 INFO    GTBinnedAnalysis.run_gtapp(): Generating SourceMap for 4FGL J1732.7-2559 29....................!\n",
      "2020-04-06 19:36:57 INFO    GTBinnedAnalysis.run_gtapp(): Generating SourceMap for 4FGL J1733.2-2915 29....................!\n",
      "2020-04-06 19:36:57 INFO    GTBinnedAnalysis.run_gtapp(): Generating SourceMap for 4FGL J1733.6-2431 29....................!\n",
      "2020-04-06 19:36:57 INFO    GTBinnedAnalysis.run_gtapp(): Generating SourceMap for 4FGL J1734.0-2933 29....................!\n",
      "2020-04-06 19:36:57 INFO    GTBinnedAnalysis.run_gtapp(): Generating SourceMap for 4FGL J1734.5-2818 29....................!\n",
      "2020-04-06 19:36:57 INFO    GTBinnedAnalysis.run_gtapp(): Generating SourceMap for 4FGL J1735.7-3026 29....................!\n",
      "2020-04-06 19:36:57 INFO    GTBinnedAnalysis.run_gtapp(): Generating SourceMap for 4FGL J1735.9-3342 29....................!\n",
      "2020-04-06 19:36:57 INFO    GTBinnedAnalysis.run_gtapp(): Generating SourceMap for 4FGL J1736.3-2929 29....................!\n",
      "2020-04-06 19:36:57 INFO    GTBinnedAnalysis.run_gtapp(): Generating SourceMap for 4FGL J1737.2-2421 29....................!\n",
      "2020-04-06 19:36:57 INFO    GTBinnedAnalysis.run_gtapp(): Generating SourceMap for 4FGL J1737.3-3332 29....................!\n",
      "2020-04-06 19:36:57 INFO    GTBinnedAnalysis.run_gtapp(): Generating SourceMap for 4FGL J1738.1-2453 29....................!\n",
      "2020-04-06 19:36:57 INFO    GTBinnedAnalysis.run_gtapp(): Generating SourceMap for 4FGL J1738.8-3241 29....................!\n",
      "2020-04-06 19:36:57 INFO    GTBinnedAnalysis.run_gtapp(): Generating SourceMap for 4FGL J1739.2-2717 29....................!\n",
      "2020-04-06 19:36:57 INFO    GTBinnedAnalysis.run_gtapp(): Generating SourceMap for 4FGL J1739.3-2531 29....................!\n",
      "2020-04-06 19:36:57 INFO    GTBinnedAnalysis.run_gtapp(): Generating SourceMap for 4FGL J1739.4-3015 29....................!\n",
      "2020-04-06 19:36:57 INFO    GTBinnedAnalysis.run_gtapp(): Generating SourceMap for 4FGL J1739.5-2929 29....................!\n",
      "2020-04-06 19:36:57 INFO    GTBinnedAnalysis.run_gtapp(): Generating SourceMap for 4FGL J1739.6-3155 29....................!\n",
      "2020-04-06 19:36:57 INFO    GTBinnedAnalysis.run_gtapp(): Generating SourceMap for 4FGL J1739.7-2836 29....................!\n",
      "2020-04-06 19:36:57 INFO    GTBinnedAnalysis.run_gtapp(): Generating SourceMap for 4FGL J1740.3-3058 29....................!\n",
      "2020-04-06 19:36:57 INFO    GTBinnedAnalysis.run_gtapp(): Generating SourceMap for 4FGL J1740.4-2850 29....................!\n",
      "2020-04-06 19:36:57 INFO    GTBinnedAnalysis.run_gtapp(): Generating SourceMap for 4FGL J1740.7-2640 29....................!\n",
      "2020-04-06 19:36:57 INFO    GTBinnedAnalysis.run_gtapp(): Generating SourceMap for 4FGL J1741.1-3328 29....................!\n",
      "2020-04-06 19:36:57 INFO    GTBinnedAnalysis.run_gtapp(): Generating SourceMap for 4FGL J1741.4-3046 29....................!\n",
      "2020-04-06 19:36:57 INFO    GTBinnedAnalysis.run_gtapp(): Generating SourceMap for 4FGL J1741.5-3119 29....................!\n",
      "2020-04-06 19:36:57 INFO    GTBinnedAnalysis.run_gtapp(): Generating SourceMap for 4FGL J1741.6-2730 29....................!\n",
      "2020-04-06 19:36:57 INFO    GTBinnedAnalysis.run_gtapp(): Generating SourceMap for 4FGL J1741.8-2537 29....................!\n",
      "2020-04-06 19:36:57 INFO    GTBinnedAnalysis.run_gtapp(): Generating SourceMap for 4FGL J1742.3-3318 29....................!\n",
      "2020-04-06 19:36:57 INFO    GTBinnedAnalysis.run_gtapp(): Generating SourceMap for 4FGL J1742.5-2833 29....................!\n",
      "2020-04-06 19:36:57 INFO    GTBinnedAnalysis.run_gtapp(): Generating SourceMap for 4FGL J1743.1-3049 29....................!\n",
      "2020-04-06 19:36:57 INFO    GTBinnedAnalysis.run_gtapp(): Generating SourceMap for 4FGL J1743.4-2406 29....................!\n",
      "2020-04-06 19:36:57 INFO    GTBinnedAnalysis.run_gtapp(): Generating SourceMap for 4FGL J1743.4-3123 29....................!\n",
      "2020-04-06 19:36:57 INFO    GTBinnedAnalysis.run_gtapp(): Generating SourceMap for 4FGL J1743.6-3341 29....................!\n",
      "2020-04-06 19:36:57 INFO    GTBinnedAnalysis.run_gtapp(): Generating SourceMap for 4FGL J1743.8-3143 29....................!\n",
      "2020-04-06 19:36:57 INFO    GTBinnedAnalysis.run_gtapp(): Generating SourceMap for 4FGL J1744.5-2612 29....................!\n",
      "2020-04-06 19:39:04 INFO    GTBinnedAnalysis.run_gtapp(): Generating SourceMap for 4FGL J1744.9-3322 29....................!\n",
      "2020-04-06 19:39:04 INFO    GTBinnedAnalysis.run_gtapp(): Generating SourceMap for 4FGL J1745.6-2859 29....................!\n",
      "2020-04-06 19:39:04 INFO    GTBinnedAnalysis.run_gtapp(): Generating SourceMap for 4FGL J1745.7-2506 29....................!\n",
      "2020-04-06 19:39:04 INFO    GTBinnedAnalysis.run_gtapp(): Generating SourceMap for 4FGL J1745.8-3028e 29....................!\n",
      "2020-04-06 19:39:04 INFO    GTBinnedAnalysis.run_gtapp(): Generating SourceMap for 4FGL J1746.0-3123 29....................!\n",
      "2020-04-06 19:39:04 INFO    GTBinnedAnalysis.run_gtapp(): Generating SourceMap for 4FGL J1746.1-2541 29....................!\n",
      "2020-04-06 19:39:04 INFO    GTBinnedAnalysis.run_gtapp(): Generating SourceMap for 4FGL J1746.2-3342 29....................!\n",
      "2020-04-06 19:39:04 INFO    GTBinnedAnalysis.run_gtapp(): Generating SourceMap for 4FGL J1746.4-2852 29....................!\n",
      "2020-04-06 19:39:04 INFO    GTBinnedAnalysis.run_gtapp(): Generating SourceMap for 4FGL J1746.8-3239 29....................!\n",
      "2020-04-06 19:39:04 INFO    GTBinnedAnalysis.run_gtapp(): Generating SourceMap for 4FGL J1747.2-2957 29....................!\n",
      "2020-04-06 19:39:04 INFO    GTBinnedAnalysis.run_gtapp(): Generating SourceMap for 4FGL J1747.9-3224 29....................!\n",
      "2020-04-06 19:39:04 INFO    GTBinnedAnalysis.run_gtapp(): Generating SourceMap for 4FGL J1748.0-2446 29....................!\n",
      "2020-04-06 19:39:04 INFO    GTBinnedAnalysis.run_gtapp(): Generating SourceMap for 4FGL J1748.3-2906 29....................!\n",
      "2020-04-06 19:39:04 INFO    GTBinnedAnalysis.run_gtapp(): Generating SourceMap for 4FGL J1749.6-3143 29....................!\n",
      "2020-04-06 19:39:04 INFO    GTBinnedAnalysis.run_gtapp(): Generating SourceMap for 4FGL J1750.4-3023 29....................!\n",
      "2020-04-06 19:39:04 INFO    GTBinnedAnalysis.run_gtapp(): Generating SourceMap for 4FGL J1750.8-3106 29....................!\n",
      "2020-04-06 19:39:04 INFO    GTBinnedAnalysis.run_gtapp(): Generating SourceMap for 4FGL J1750.9-3301 29....................!\n",
      "2020-04-06 19:39:04 INFO    GTBinnedAnalysis.run_gtapp(): Generating SourceMap for 4FGL J1752.3-2914 29....................!\n",
      "2020-04-06 19:39:04 INFO    GTBinnedAnalysis.run_gtapp(): Generating SourceMap for 4FGL J1752.3-3139 29....................!\n",
      "2020-04-06 19:39:04 INFO    GTBinnedAnalysis.run_gtapp(): Generating SourceMap for 4FGL J1752.7-3040 29....................!\n",
      "2020-04-06 19:39:04 INFO    GTBinnedAnalysis.run_gtapp(): Generating SourceMap for 4FGL J1753.2-2848 29....................!\n",
      "2020-04-06 19:39:04 INFO    GTBinnedAnalysis.run_gtapp(): Generating SourceMap for 4FGL J1753.3-3325 29....................!\n",
      "2020-04-06 19:39:04 INFO    GTBinnedAnalysis.run_gtapp(): Generating SourceMap for 4FGL J1753.8-2538 29....................!\n",
      "2020-04-06 19:39:04 INFO    GTBinnedAnalysis.run_gtapp(): Generating SourceMap for 4FGL J1754.3-2914 29....................!\n",
      "2020-04-06 19:39:04 INFO    GTBinnedAnalysis.run_gtapp(): Generating SourceMap for 4FGL J1754.3-3236 29....................!\n",
      "2020-04-06 19:39:04 INFO    GTBinnedAnalysis.run_gtapp(): Generating SourceMap for 4FGL J1754.6-2933 29....................!\n",
      "2020-04-06 19:39:04 INFO    GTBinnedAnalysis.run_gtapp(): Generating SourceMap for 4FGL J1754.8-3200 29....................!\n",
      "2020-04-06 19:39:04 INFO    GTBinnedAnalysis.run_gtapp(): Generating SourceMap for 4FGL J1757.4-3125 29....................!\n",
      "2020-04-06 19:39:04 INFO    GTBinnedAnalysis.run_gtapp(): Generating SourceMap for 4FGL J1757.6-2731 29....................!\n",
      "2020-04-06 19:39:04 INFO    GTBinnedAnalysis.run_gtapp(): Generating SourceMap for 4FGL J1758.0-2953 29....................!\n",
      "2020-04-06 19:39:04 INFO    GTBinnedAnalysis.run_gtapp(): Generating SourceMap for 4FGL J1758.3-3028 29....................!\n",
      "2020-04-06 19:39:04 INFO    GTBinnedAnalysis.run_gtapp(): Generating SourceMap for 4FGL J1758.6-2404 29....................!\n",
      "2020-04-06 19:39:04 INFO    GTBinnedAnalysis.run_gtapp(): Generating SourceMap for 4FGL J1759.7-2354 29....................!\n",
      "2020-04-06 19:39:04 INFO    GTBinnedAnalysis.run_gtapp(): Generating SourceMap for 4FGL J1800.2-2403 29....................!\n",
      "2020-04-06 19:39:04 INFO    GTBinnedAnalysis.run_gtapp(): Generating SourceMap for 4FGL J1800.2-2952 29....................!\n",
      "2020-04-06 19:39:04 INFO    GTBinnedAnalysis.run_gtapp(): Generating SourceMap for 4FGL J1800.5-2910 29....................!\n",
      "2020-04-06 19:39:04 INFO    GTBinnedAnalysis.run_gtapp(): Generating SourceMap for 4FGL J1800.7-2355 29....................!\n",
      "2020-04-06 19:39:04 INFO    GTBinnedAnalysis.run_gtapp(): Generating SourceMap for 4FGL J1800.9-2407 29....................!\n",
      "2020-04-06 19:39:04 INFO    GTBinnedAnalysis.run_gtapp(): Generating SourceMap for 4FGL J1801.0-2802 29....................!\n",
      "2020-04-06 19:39:04 INFO    GTBinnedAnalysis.run_gtapp(): Generating SourceMap for 4FGL J1801.1-2626 29....................!\n",
      "2020-04-06 19:39:04 INFO    GTBinnedAnalysis.run_gtapp(): Generating SourceMap for 4FGL J1801.2-2450 29....................!\n",
      "2020-04-06 19:39:04 INFO    GTBinnedAnalysis.run_gtapp(): Generating SourceMap for 4FGL J1801.8-2358 29....................!\n",
      "2020-04-06 19:39:04 INFO    GTBinnedAnalysis.run_gtapp(): Generating SourceMap for 4FGL J1802.1-2652 29....................!\n",
      "2020-04-06 19:39:04 INFO    GTBinnedAnalysis.run_gtapp(): Generating SourceMap for 4FGL J1802.4-3041 29....................!\n",
      "2020-04-06 19:39:04 INFO    GTBinnedAnalysis.run_gtapp(): Generating SourceMap for 4FGL J1803.1-2724 29....................!\n",
      "2020-04-06 19:39:04 INFO    GTBinnedAnalysis.run_gtapp(): Generating SourceMap for 4FGL J1803.7-3207 29....................!\n",
      "2020-04-06 19:39:04 INFO    GTBinnedAnalysis.run_gtapp(): Generating SourceMap for 4FGL J1803.8-2908 29....................!\n",
      "2020-04-06 19:39:04 INFO    GTBinnedAnalysis.run_gtapp(): Generating SourceMap for 4FGL J1804.9-3001 29....................!\n",
      "2020-04-06 19:39:04 INFO    GTBinnedAnalysis.run_gtapp(): Generating SourceMap for 4FGL J1806.1-3344 29....................!\n",
      "2020-04-06 19:39:04 INFO    GTBinnedAnalysis.run_gtapp(): Generating SourceMap for 4FGL J1806.9-2455 29....................!\n",
      "2020-04-06 19:39:04 INFO    GTBinnedAnalysis.run_gtapp(): Generating SourceMap for 4FGL J1806.9-2824 29....................!\n",
      "2020-04-06 19:39:04 INFO    GTBinnedAnalysis.run_gtapp(): Generating SourceMap for galdiff 29....................!\n",
      "2020-04-06 19:39:04 INFO    GTBinnedAnalysis.run_gtapp(): Generating SourceMap for isodiff 29....................!\n",
      "2020-04-06 19:39:04 INFO    GTBinnedAnalysis.run_gtapp(): Finished gtsrcmaps. Execution time: 199.21 s\n",
      "2020-04-06 19:39:04 INFO    GTBinnedAnalysis.setup(): Finished setup for component 00\n",
      "2020-04-06 19:39:04 INFO    GTBinnedAnalysis._create_binned_analysis(): Creating BinnedAnalysis for component 00.\n",
      "2020-04-06 19:39:19 INFO    GTAnalysis.setup(): Initializing source properties\n",
      "2020-04-06 19:39:23 INFO    GTAnalysis.setup(): Finished setup.\n"
     ]
    }
   ],
   "source": [
    "gta.setup()"
   ]
  },
  {
   "cell_type": "code",
   "execution_count": 5,
   "metadata": {},
   "outputs": [
    {
     "name": "stderr",
     "output_type": "stream",
     "text": [
      "2020-04-06 19:39:23 INFO    GTAnalysis.optimize(): Starting\n"
     ]
    },
    {
     "name": "stdout",
     "output_type": "stream",
     "text": [
      "Joint fit  ['galdiff', '4FGL J1745.6-2859', 'isodiff', '4FGL J1747.2-2957', '4FGL J1745.8-3028e']\n",
      "Fitting shape galdiff TS:   2530.229\n",
      "Fitting shape 4FGL J1745.6-2859 TS:     36.906\n",
      "Fitting shape isodiff TS:     25.560\n",
      "Fitting shape 4FGL J1732.5-3131 TS:     25.058\n"
     ]
    },
    {
     "name": "stderr",
     "output_type": "stream",
     "text": [
      "2020-04-06 19:41:00 INFO    GTAnalysis.optimize(): Finished\n",
      "2020-04-06 19:41:00 INFO    GTAnalysis.optimize(): LogLike: -24201.553692 Delta-LogLike: 47.649203\n",
      "2020-04-06 19:41:00 INFO    GTAnalysis.optimize(): Execution time: 96.58 s\n"
     ]
    }
   ],
   "source": [
    "gta.optimize();"
   ]
  },
  {
   "cell_type": "code",
   "execution_count": 6,
   "metadata": {},
   "outputs": [
    {
     "name": "stderr",
     "output_type": "stream",
     "text": [
      "2020-04-06 19:41:00 INFO    GTAnalysis.print_roi(): \n",
      "name                SpatialModel   SpectrumType     offset        ts       npred\n",
      "--------------------------------------------------------------------------------\n",
      "4FGL J1745.6-2859   PointSource    LogParabola       0.061     41.67       158.8\n",
      "4FGL J1746.4-2852   PointSource    LogParabola       0.190      7.97        42.8\n",
      "4FGL J1748.3-2906   PointSource    LogParabola       0.627     -0.00         0.0\n",
      "4FGL J1742.5-2833   PointSource    PowerLaw          0.775      0.88        33.2\n",
      "4FGL J1747.2-2957   PointSource    PLSuperExpCuto    1.091     19.10       121.2\n",
      "4FGL J1740.4-2850   PointSource    LogParabola       1.127     -0.00         0.0\n",
      "4FGL J1739.7-2836   PointSource    LogParabola       1.331      0.02         0.5\n",
      "4FGL J1739.5-2929   PointSource    LogParabola       1.442      2.08        12.9\n",
      "4FGL J1752.3-2914   PointSource    PowerLaw          1.494     -0.00         0.0\n",
      "4FGL J1745.8-3028e  RadialDisk     PowerLaw          1.539      0.01         3.3\n",
      "4FGL J1753.2-2848   PointSource    LogParabola       1.665     -0.00         0.0\n",
      "4FGL J1741.6-2730   PointSource    LogParabola       1.673     -0.00         0.0\n",
      "4FGL J1750.4-3023   PointSource    LogParabola       1.802      0.70         7.4\n",
      "4FGL J1739.4-3015   PointSource    PLSuperExpCuto    1.879      0.87        15.2\n",
      "4FGL J1754.3-2914   PointSource    LogParabola       1.933       nan         0.9\n",
      "4FGL J1743.1-3049   PointSource    PowerLaw          1.972     -0.00         0.0\n",
      "4FGL J1741.4-3046   PointSource    LogParabola       2.054     -0.00         0.0\n",
      "4FGL J1754.6-2933   PointSource    LogParabola       2.064      0.40         6.1\n",
      "4FGL J1736.3-2929   PointSource    PowerLaw          2.092     -0.00         0.0\n",
      "4FGL J1739.2-2717   PointSource    LogParabola       2.157     -0.00         0.0\n",
      "4FGL J1752.7-3040   PointSource    LogParabola       2.328      3.22        13.6\n",
      "4FGL J1740.3-3058   PointSource    LogParabola       2.333      0.91        19.4\n",
      "4FGL J1750.8-3106   PointSource    LogParabola       2.455       nan         0.8\n",
      "4FGL J1746.0-3123   PointSource    LogParabola       2.459      4.87        13.2\n",
      "4FGL J1743.4-3123   PointSource    PowerLaw          2.497     -0.00         0.0\n",
      "4FGL J1734.5-2818   PointSource    LogParabola       2.502      0.86        10.5\n",
      "4FGL J1740.7-2640   PointSource    LogParabola       2.503      0.03         1.0\n",
      "4FGL J1741.5-3119   PointSource    LogParabola       2.553      0.02         0.5\n",
      "4FGL J1734.0-2933   PointSource    LogParabola       2.597      0.17         3.6\n",
      "4FGL J1735.7-3026   PointSource    LogParabola       2.616      0.00         0.1\n",
      "4FGL J1733.2-2915   PointSource    PowerLaw          2.726      0.96        21.0\n",
      "4FGL J1744.5-2612   PointSource    PowerLaw          2.741      1.13        25.5\n",
      "4FGL J1743.8-3143   PointSource    PowerLaw          2.815     -0.00         0.0\n",
      "4FGL J1758.0-2953   PointSource    LogParabola       2.868       nan         0.6\n",
      "4FGL J1749.6-3143   PointSource    LogParabola       2.919       nan         0.9\n",
      "4FGL J1757.6-2731   PointSource    LogParabola       2.992     -0.00         0.0\n",
      "4FGL J1752.3-3139   PointSource    PowerLaw          3.079      0.01         1.6\n",
      "4FGL J1758.3-3028   PointSource    PowerLaw          3.168      0.03         3.0\n",
      "4FGL J1731.6-3002   PointSource    LogParabola       3.230      1.27        12.4\n",
      "4FGL J1746.1-2541   PointSource    PowerLaw          3.251      1.49        26.9\n",
      "4FGL J1739.6-3155   PointSource    PowerLaw          3.251      1.21        29.2\n",
      "4FGL J1800.5-2910   PointSource    PowerLaw          3.261     -0.00         0.0\n",
      "4FGL J1800.2-2952   PointSource    LogParabola       3.313     -0.00         0.0\n",
      "4FGL J1730.3-2913   PointSource    LogParabola       3.358       nan         0.4\n",
      "4FGL J1731.9-2719   PointSource    PowerLaw          3.419      0.99        11.5\n",
      "4FGL J1741.8-2537   PointSource    PowerLaw          3.421      0.30         8.5\n",
      "4FGL J1801.0-2802   PointSource    LogParabola       3.507     -0.00         0.0\n",
      "4FGL J1747.9-3224   PointSource    LogParabola       3.512     -0.00         0.0\n",
      "4FGL J1757.4-3125   PointSource    LogParabola       3.558     -0.00         0.0\n",
      "4FGL J1729.4-2831   PointSource    LogParabola       3.579     -0.00         0.0\n",
      "4FGL J1732.0-2659   PointSource    PowerLaw          3.582     -0.00         0.0\n",
      "4FGL J1754.8-3200   PointSource    LogParabola       3.649       nan         0.6\n",
      "4FGL J1739.3-2531   PointSource    LogParabola       3.684      0.29         5.5\n",
      "4FGL J1746.8-3239   PointSource    PLSuperExpCuto    3.738      0.95         9.1\n",
      "4FGL J1753.8-2538   PointSource    LogParabola       3.768      3.48        25.7\n",
      "4FGL J1732.5-3131   PointSource    PLSuperExpCuto    3.820     33.42        44.8\n",
      "4FGL J1745.7-2506   PointSource    LogParabola       3.832     -0.00         0.0\n",
      "4FGL J1803.8-2908   PointSource    LogParabola       3.989      0.01         0.8\n",
      "4FGL J1738.8-3241   PointSource    PowerLaw          4.027      2.32        36.7\n",
      "4FGL J1802.4-3041   PointSource    LogParabola       4.055     -0.00         0.0\n",
      "4FGL J1732.7-2559   PointSource    LogParabola       4.103     -0.00         0.0\n",
      "4FGL J1754.3-3236   PointSource    LogParabola       4.119     -0.00         0.0\n",
      "4FGL J1803.1-2724   PointSource    LogParabola       4.145     -0.00         0.0\n",
      "4FGL J1802.1-2652   PointSource    LogParabola       4.200     -0.00         0.0\n",
      "4FGL J1748.0-2446   PointSource    LogParabola       4.200      9.96        21.6\n",
      "4FGL J1750.9-3301   PointSource    PowerLaw          4.239      0.01         1.0\n",
      "4FGL J1726.2-2903   PointSource    LogParabola       4.245      0.33         2.5\n",
      "4FGL J1801.1-2626   PointSource    LogParabola       4.252       nan         0.5\n",
      "4FGL J1726.0-2843   PointSource    PowerLaw          4.284       nan         0.9\n",
      "4FGL J1727.6-3050   PointSource    LogParabola       4.337     -0.00         0.0\n",
      "4FGL J1804.9-3001   PointSource    LogParabola       4.348     -0.00         0.0\n",
      "4FGL J1738.1-2453   PointSource    LogParabola       4.370      0.43         6.2\n",
      "4FGL J1742.3-3318   PointSource    PLSuperExpCuto    4.428     -0.00         0.0\n",
      "4FGL J1744.9-3322   PointSource    LogParabola       4.438      0.54         4.6\n",
      "4FGL J1726.8-2659   PointSource    PowerLaw          4.575     -0.00         0.0\n",
      "4FGL J1741.1-3328   PointSource    LogParabola       4.630     -0.00         0.0\n",
      "4FGL J1806.9-2824   PointSource    PowerLaw          4.713      0.02         1.6\n",
      "4FGL J1724.5-3008   PointSource    LogParabola       4.733     -0.00         0.0\n",
      "4FGL J1731.2-3234   PointSource    LogParabola       4.769      1.21        16.1\n",
      "4FGL J1746.2-3342   PointSource    PowerLaw          4.769      3.15        27.8\n",
      "4FGL J1743.6-3341   PointSource    PowerLaw          4.776      2.07        17.2\n",
      "4FGL J1753.3-3325   PointSource    LogParabola       4.779     -0.00         0.0\n",
      "4FGL J1743.4-2406   PointSource    PowerLaw          4.856      0.56        12.5\n",
      "4FGL J1723.1-2859   PointSource    PowerLaw          4.907      0.06         3.0\n",
      "4FGL J1737.3-3332   PointSource    LogParabola       4.924      1.98        14.2\n",
      "4FGL J1737.2-2421   PointSource    PowerLaw          4.939     -0.00         0.0\n",
      "4FGL J1803.7-3207   PointSource    LogParabola       5.033      3.35        10.1\n",
      "4FGL J1733.6-2431   PointSource    LogParabola       5.159      0.01         0.9\n",
      "4FGL J1735.9-3342   PointSource    PowerLaw          5.194       nan         0.6\n",
      "4FGL J1801.2-2450   PointSource    PLSuperExpCuto    5.374      3.35        27.1\n",
      "4FGL J1722.6-3135   PointSource    LogParabola       5.618       nan         0.4\n",
      "4FGL J1758.6-2404   PointSource    PowerLaw          5.663     11.60        69.8\n",
      "4FGL J1800.2-2403   PointSource    PowerLaw          5.867     -0.00         0.0\n",
      "4FGL J1730.5-3352   PointSource    PLSuperExpCuto    5.894      1.08        22.5\n",
      "4FGL J1800.9-2407   PointSource    LogParabola       5.899      0.03         2.6\n",
      "4FGL J1759.7-2354   PointSource    LogParabola       5.948     -0.00         0.0\n",
      "4FGL J1722.1-3205   PointSource    PowerLaw          5.963     -0.00         0.0\n",
      "4FGL J1729.9-2403   PointSource    LogParabola       6.006     -0.00         0.0\n",
      "4FGL J1800.7-2355   PointSource    PowerLaw          6.039     -0.00         0.0\n",
      "4FGL J1801.8-2358   PointSource    PowerLaw          6.137      0.14         6.5\n",
      "4FGL J1806.9-2455   PointSource    LogParabola       6.216      7.63        12.0\n",
      "4FGL J1806.1-3344   PointSource    PowerLaw          6.501     -0.00         0.0\n",
      "isodiff             ConstantValue  FileFunction      -----     68.68       503.1\n",
      "galdiff             MapCubeFunctio PowerLaw          -----   9991.19      4868.3\n",
      "\n"
     ]
    }
   ],
   "source": [
    "gta.print_roi()"
   ]
  },
  {
   "cell_type": "markdown",
   "metadata": {},
   "source": [
    "Save intermediary state after setup and optimization"
   ]
  },
  {
   "cell_type": "code",
   "execution_count": 7,
   "metadata": {},
   "outputs": [
    {
     "name": "stderr",
     "output_type": "stream",
     "text": [
      "2020-04-06 19:41:00 INFO    GTBinnedAnalysis.write_xml(): Writing /home/mpotto/Pesquisa/astroph/assignments/fermi-config/fit_model/pre-fit-model_00.xml...\n",
      "2020-04-06 19:41:00 INFO    GTAnalysis.write_fits(): Writing /home/mpotto/Pesquisa/astroph/assignments/fermi-config/fit_model/pre-fit-model.fits...\n",
      "2020-04-06 19:41:04 INFO    GTAnalysis.write_roi(): Writing /home/mpotto/Pesquisa/astroph/assignments/fermi-config/fit_model/pre-fit-model.npy...\n"
     ]
    }
   ],
   "source": [
    "gta.write_roi('fit_model/pre-fit-model')"
   ]
  },
  {
   "cell_type": "markdown",
   "metadata": {},
   "source": [
    "Start freeing up parameters to fit."
   ]
  },
  {
   "cell_type": "code",
   "execution_count": 8,
   "metadata": {},
   "outputs": [
    {
     "name": "stderr",
     "output_type": "stream",
     "text": [
      "2020-04-06 19:41:04 INFO    GTAnalysis.free_source(): Freeing parameters for galdiff               : ['Prefactor', 'Index']\n",
      "2020-04-06 19:41:04 INFO    GTAnalysis.free_source(): Freeing parameters for isodiff               : ['Normalization']\n"
     ]
    }
   ],
   "source": [
    "gta.free_source('galdiff')\n",
    "gta.free_source('isodiff')"
   ]
  },
  {
   "cell_type": "code",
   "execution_count": 9,
   "metadata": {},
   "outputs": [
    {
     "name": "stderr",
     "output_type": "stream",
     "text": [
      "2020-04-06 19:41:04 INFO    GTAnalysis.fit(): Starting fit.\n",
      "2020-04-06 19:41:06 INFO    GTAnalysis.fit(): Fit returned successfully. Quality:   3 Status:   0\n",
      "2020-04-06 19:41:06 INFO    GTAnalysis.fit(): LogLike:   -24201.523 DeltaLogLike:        0.031 \n"
     ]
    }
   ],
   "source": [
    "gta.fit();"
   ]
  },
  {
   "cell_type": "code",
   "execution_count": 10,
   "metadata": {},
   "outputs": [
    {
     "name": "stderr",
     "output_type": "stream",
     "text": [
      "2020-04-06 19:41:06 INFO    GTBinnedAnalysis.write_xml(): Writing /home/mpotto/Pesquisa/astroph/assignments/fermi-config/fit_model/fit_model_00.xml...\n",
      "2020-04-06 19:41:06 INFO    GTAnalysis.write_fits(): Writing /home/mpotto/Pesquisa/astroph/assignments/fermi-config/fit_model/fit_model.fits...\n",
      "2020-04-06 19:41:10 INFO    GTAnalysis.write_roi(): Writing /home/mpotto/Pesquisa/astroph/assignments/fermi-config/fit_model/fit_model.npy...\n"
     ]
    }
   ],
   "source": [
    "gta.write_roi('fit_model/fit_model')"
   ]
  },
  {
   "cell_type": "markdown",
   "metadata": {},
   "source": [
    "Using defaults of the quickstart tutorial (!)."
   ]
  },
  {
   "cell_type": "code",
   "execution_count": 11,
   "metadata": {},
   "outputs": [
    {
     "name": "stderr",
     "output_type": "stream",
     "text": [
      "2020-04-06 19:41:10 INFO    GTAnalysis.residmap(): Generating residual maps\n",
      "2020-04-06 19:41:10 INFO    GTAnalysis.add_source(): Adding source residmap_testsource\n",
      "2020-04-06 19:41:12 INFO    GTAnalysis.delete_source(): Deleting source residmap_testsource\n",
      "/home/mpotto/anaconda3/envs/fermi/lib/python2.7/site-packages/matplotlib/contour.py:1180: UserWarning: No contour levels were found within the data range.\n",
      "  warnings.warn(\"No contour levels were found\"\n",
      "2020-04-06 19:41:16 INFO    GTAnalysis.residmap(): Finished residual maps\n",
      "2020-04-06 19:41:17 INFO    GTAnalysis.residmap(): Execution time: 6.45 s\n",
      "2020-04-06 19:41:17 INFO    GTAnalysis.tsmap(): Generating TS map\n",
      "2020-04-06 19:41:18 INFO    GTAnalysis._make_tsmap_fast(): Fitting test source.\n",
      "2020-04-06 19:41:28 INFO    GTAnalysis.tsmap(): Finished TS map\n",
      "2020-04-06 19:41:29 INFO    GTAnalysis.tsmap(): Execution time: 12.02 s\n"
     ]
    }
   ],
   "source": [
    "# Dictionary defining the spatial/spectral parameters of the test source\n",
    "model = {'SpatialModel' : 'PointSource', 'Index' : 2.0,\n",
    "         'SpectrumType' : 'PowerLaw'}\n",
    "\n",
    "m0 = gta.residmap('fit_model/fit_model', model=model, make_plots=True)\n",
    "m1 = gta.tsmap('fit_model/fit_model', model=model, make_plots=True)"
   ]
  }
 ],
 "metadata": {
  "kernelspec": {
   "display_name": "Python 2",
   "language": "python",
   "name": "python2"
  },
  "language_info": {
   "codemirror_mode": {
    "name": "ipython",
    "version": 2
   },
   "file_extension": ".py",
   "mimetype": "text/x-python",
   "name": "python",
   "nbconvert_exporter": "python",
   "pygments_lexer": "ipython2",
   "version": "2.7.14"
  }
 },
 "nbformat": 4,
 "nbformat_minor": 2
}
