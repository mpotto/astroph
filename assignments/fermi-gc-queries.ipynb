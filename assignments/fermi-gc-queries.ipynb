{
 "cells": [
  {
   "cell_type": "markdown",
   "metadata": {},
   "source": [
    "# Fermi Queries and Data Analysis\n",
    "\n",
    "Queries on the Galactic Center (GC) region with `astroquery` and data analysis with `GTAnalysis` from `fermipy`."
   ]
  },
  {
   "cell_type": "code",
   "execution_count": 1,
   "metadata": {},
   "outputs": [],
   "source": [
    "import os"
   ]
  },
  {
   "cell_type": "code",
   "execution_count": 2,
   "metadata": {},
   "outputs": [],
   "source": [
    "config_path = '/home/mpotto/Pesquisa/astroph/assignments/fermi-runs/gc10_080420/'"
   ]
  },
  {
   "cell_type": "code",
   "execution_count": 3,
   "metadata": {},
   "outputs": [],
   "source": [
    "os.chdir(config_path)"
   ]
  },
  {
   "cell_type": "markdown",
   "metadata": {},
   "source": [
    "## Analysis"
   ]
  },
  {
   "cell_type": "code",
   "execution_count": 4,
   "metadata": {},
   "outputs": [],
   "source": [
    "from fermipy.gtanalysis import GTAnalysis"
   ]
  },
  {
   "cell_type": "code",
   "execution_count": 5,
   "metadata": {},
   "outputs": [
    {
     "name": "stderr",
     "output_type": "stream",
     "text": [
      "2020-04-08 15:07:34 INFO    GTAnalysis.__init__(): \n",
      "--------------------------------------------------------------------------------\n",
      "fermipy version 0.18.1 \n",
      "ScienceTools version unknown\n"
     ]
    }
   ],
   "source": [
    "gta = GTAnalysis('config.yaml')"
   ]
  },
  {
   "cell_type": "code",
   "execution_count": 6,
   "metadata": {},
   "outputs": [
    {
     "name": "stderr",
     "output_type": "stream",
     "text": [
      "2020-04-08 15:07:35 INFO    GTAnalysis.setup(): Running setup.\n",
      "2020-04-08 15:07:35 INFO    GTBinnedAnalysis.setup(): Running setup for component 00\n",
      "2020-04-08 15:07:35 INFO    GTBinnedAnalysis.run_gtapp(): Running gtselect.\n",
      "2020-04-08 15:07:35 INFO    GTBinnedAnalysis.run_gtapp(): time -p gtselect infile=ft1.fits outfile=/home/mpotto/Pesquisa/astroph/assignments/fermi-runs/gc10_080420/ft1_00.fits ra=266.405 dec=-28.9362 rad=1.20710678119 tmin=378691203.0 tmax=381369602.0 emin=300.0 emax=300000.0 zmin=0.0 zmax=90.0 evclass=128 evtype=3 convtype=-1 phasemin=0.0 phasemax=1.0 evtable=\"EVENTS\" chatter=3 clobber=yes debug=no gui=no mode=\"ql\"\n",
      "2020-04-08 15:07:36 INFO    GTBinnedAnalysis.run_gtapp(): \n",
      "2020-04-08 15:07:36 INFO    GTBinnedAnalysis.run_gtapp(): WARNING: version mismatch between CFITSIO header (v3.43) and linked library (v3.41).\n",
      "2020-04-08 15:07:36 INFO    GTBinnedAnalysis.run_gtapp(): \n",
      "2020-04-08 15:07:36 INFO    GTBinnedAnalysis.run_gtapp(): This is gtselect version HEAD\n",
      "2020-04-08 15:07:36 INFO    GTBinnedAnalysis.run_gtapp(): Applying filter string: ((EVENT_CLASS&o200) != o0) && angsep(RA,DEC,266.405,-28.9362) < 1.207106781 && ((EVENT_TYPE&o3) != o0) && 300 < ENERGY && ENERGY <= 300000 && 378691203 < TIME && TIME <= 381369602 && 0 < ZENITH_ANGLE && ZENITH_ANGLE <= 90 && gtifilter()\n",
      "2020-04-08 15:07:36 INFO    GTBinnedAnalysis.run_gtapp(): Done.\n",
      "2020-04-08 15:07:36 INFO    GTBinnedAnalysis.run_gtapp(): Finished gtselect. Execution time: 0.59 s\n",
      "2020-04-08 15:07:36 INFO    GTBinnedAnalysis._create_ltcube(): Skipping LT Cube.\n",
      "2020-04-08 15:07:36 INFO    GTBinnedAnalysis.run_gtapp(): Running gtbin.\n",
      "2020-04-08 15:07:36 INFO    GTBinnedAnalysis.run_gtapp(): time -p gtbin evfile=/home/mpotto/Pesquisa/astroph/assignments/fermi-runs/gc10_080420/ft1_00.fits scfile=ft2.fits outfile=/home/mpotto/Pesquisa/astroph/assignments/fermi-runs/gc10_080420/ccube_00.fits algorithm=\"ccube\" ebinalg=\"LOG\" emin=300.0 emax=300000.0 enumbins=24 ebinfile=NONE tbinalg=\"LIN\" tbinfile=NONE nxpix=100 nypix=100 binsz=0.01 coordsys=\"CEL\" xref=266.405 yref=-28.9362 axisrot=0.0 rafield=\"RA\" decfield=\"DEC\" proj=\"AIT\" hpx_ordering_scheme=\"RING\" hpx_order=3 hpx_ebin=yes hpx_region=\"\" evtable=\"EVENTS\" sctable=\"SC_DATA\" efield=\"ENERGY\" tfield=\"TIME\" chatter=3 clobber=yes debug=no gui=no mode=\"ql\"\n",
      "2020-04-08 15:07:37 INFO    GTBinnedAnalysis.run_gtapp(): \n",
      "2020-04-08 15:07:37 INFO    GTBinnedAnalysis.run_gtapp(): WARNING: version mismatch between CFITSIO header (v3.43) and linked library (v3.41).\n",
      "2020-04-08 15:07:37 INFO    GTBinnedAnalysis.run_gtapp(): \n",
      "2020-04-08 15:07:37 INFO    GTBinnedAnalysis.run_gtapp(): This is gtbin version HEAD\n",
      "2020-04-08 15:07:37 INFO    GTBinnedAnalysis.run_gtapp(): Finished gtbin. Execution time: 0.32 s\n",
      "2020-04-08 15:07:37 INFO    GTBinnedAnalysis.run_gtapp(): Running gtexpcube2.\n",
      "2020-04-08 15:07:37 INFO    GTBinnedAnalysis.run_gtapp(): time -p gtexpcube2 infile=/home/mpotto/Pesquisa/astroph/assignments/fermi-runs/gc10_080420/ltcube_00.fits cmap=none outfile=/home/mpotto/Pesquisa/astroph/assignments/fermi-runs/gc10_080420/bexpmap_00.fits irfs=\"P8R2_SOURCE_V6\" evtype=3 edisp_bins=-1 nxpix=360 nypix=180 binsz=1.0 coordsys=\"CEL\" xref=0.0 yref=0.0 axisrot=0.0 proj=\"CAR\" ebinalg=\"LOG\" emin=300.0 emax=300000.0 enumbins=24 ebinfile=\"NONE\" hpx_ordering_scheme=\"RING\" hpx_order=6 bincalc=\"EDGE\" ignorephi=no thmax=180.0 thmin=0.0 table=\"EXPOSURE\" chatter=3 clobber=yes debug=no mode=\"ql\"\n",
      "2020-04-08 15:07:42 INFO    GTBinnedAnalysis.run_gtapp(): \n",
      "2020-04-08 15:07:42 INFO    GTBinnedAnalysis.run_gtapp(): WARNING: version mismatch between CFITSIO header (v3.43) and linked library (v3.41).\n",
      "2020-04-08 15:07:42 INFO    GTBinnedAnalysis.run_gtapp(): \n",
      "2020-04-08 15:07:42 INFO    GTBinnedAnalysis.run_gtapp(): This is gtexpcube2 version HEAD\n",
      "2020-04-08 15:07:42 INFO    GTBinnedAnalysis.run_gtapp(): Using evtype=3 (i.e., FRONT/BACK irfs)\n",
      "2020-04-08 15:07:42 INFO    GTBinnedAnalysis.run_gtapp(): ResponseFunctions::load: IRF used: P8R2_SOURCE_V6\n",
      "2020-04-08 15:07:42 INFO    GTBinnedAnalysis.run_gtapp(): event_types:  0  1\n",
      "2020-04-08 15:07:42 INFO    GTBinnedAnalysis.run_gtapp(): Computing binned exposure map....................!\n",
      "2020-04-08 15:07:42 INFO    GTBinnedAnalysis.run_gtapp(): Finished gtexpcube2. Execution time: 5.52 s\n",
      "2020-04-08 15:07:42 INFO    GTBinnedAnalysis.run_gtapp(): Running gtexpcube2.\n",
      "2020-04-08 15:07:42 INFO    GTBinnedAnalysis.run_gtapp(): time -p gtexpcube2 infile=/home/mpotto/Pesquisa/astroph/assignments/fermi-runs/gc10_080420/ltcube_00.fits cmap=none outfile=/home/mpotto/Pesquisa/astroph/assignments/fermi-runs/gc10_080420/bexpmap_roi_00.fits irfs=\"P8R2_SOURCE_V6\" evtype=3 edisp_bins=0 nxpix=100 nypix=100 binsz=0.01 coordsys=\"CEL\" xref=266.405 yref=-28.9362 axisrot=0.0 proj=\"CAR\" ebinalg=\"LOG\" emin=300.0 emax=300000.0 enumbins=24 ebinfile=\"NONE\" hpx_ordering_scheme=\"RING\" hpx_order=6 bincalc=\"EDGE\" ignorephi=no thmax=180.0 thmin=0.0 table=\"EXPOSURE\" chatter=3 clobber=yes debug=no mode=\"ql\"\n",
      "2020-04-08 15:07:43 INFO    GTBinnedAnalysis.run_gtapp(): \n",
      "2020-04-08 15:07:43 INFO    GTBinnedAnalysis.run_gtapp(): WARNING: version mismatch between CFITSIO header (v3.43) and linked library (v3.41).\n",
      "2020-04-08 15:07:43 INFO    GTBinnedAnalysis.run_gtapp(): \n",
      "2020-04-08 15:07:43 INFO    GTBinnedAnalysis.run_gtapp(): This is gtexpcube2 version HEAD\n",
      "2020-04-08 15:07:43 INFO    GTBinnedAnalysis.run_gtapp(): Using evtype=3 (i.e., FRONT/BACK irfs)\n",
      "2020-04-08 15:07:43 INFO    GTBinnedAnalysis.run_gtapp(): ResponseFunctions::load: IRF used: P8R2_SOURCE_V6\n",
      "2020-04-08 15:07:43 INFO    GTBinnedAnalysis.run_gtapp(): event_types:  0  1\n",
      "2020-04-08 15:07:43 INFO    GTBinnedAnalysis.run_gtapp(): Computing binned exposure map....................!\n",
      "2020-04-08 15:07:43 INFO    GTBinnedAnalysis.run_gtapp(): Finished gtexpcube2. Execution time: 1.19 s\n",
      "WARNING: FITSFixedWarning: RADECSYS= 'FK5 ' \n",
      "the RADECSYS keyword is deprecated, use RADESYSa. [astropy.wcs.wcs]\n",
      "2020-04-08 15:07:43 INFO    GTBinnedAnalysis.run_gtapp(): Running gtsrcmaps.\n",
      "2020-04-08 15:07:43 INFO    GTBinnedAnalysis.run_gtapp(): time -p gtsrcmaps scfile=ft2.fits sctable=\"SC_DATA\" expcube=/home/mpotto/Pesquisa/astroph/assignments/fermi-runs/gc10_080420/ltcube_00.fits cmap=/home/mpotto/Pesquisa/astroph/assignments/fermi-runs/gc10_080420/ccube_00.fits srcmdl=/home/mpotto/Pesquisa/astroph/assignments/fermi-runs/gc10_080420/srcmdl_00.xml bexpmap=/home/mpotto/Pesquisa/astroph/assignments/fermi-runs/gc10_080420/bexpmap_00.fits wmap=none outfile=/home/mpotto/Pesquisa/astroph/assignments/fermi-runs/gc10_080420/srcmap_00.fits irfs=\"P8R2_SOURCE_V6\" evtype=3 convol=yes resample=yes rfactor=2 minbinsz=0.05 ptsrc=yes psfcorr=yes emapbnds=no edisp_bins=-1 copyall=no chatter=3 clobber=yes debug=no gui=no mode=\"ql\"\n",
      "2020-04-08 15:19:01 INFO    GTBinnedAnalysis.run_gtapp(): \n",
      "2020-04-08 15:19:01 INFO    GTBinnedAnalysis.run_gtapp(): WARNING: version mismatch between CFITSIO header (v3.43) and linked library (v3.41).\n",
      "2020-04-08 15:19:01 INFO    GTBinnedAnalysis.run_gtapp(): \n",
      "2020-04-08 15:19:01 INFO    GTBinnedAnalysis.run_gtapp(): This is gtsrcmaps version HEAD\n",
      "2020-04-08 15:19:01 INFO    GTBinnedAnalysis.run_gtapp(): Using evtype=3 (i.e., FRONT/BACK irfs)\n",
      "2020-04-08 15:19:01 INFO    GTBinnedAnalysis.run_gtapp(): ResponseFunctions::load: IRF used: P8R2_SOURCE_V6\n",
      "2020-04-08 15:19:01 INFO    GTBinnedAnalysis.run_gtapp(): event_types:  0  1\n",
      "2020-04-08 15:19:01 INFO    GTBinnedAnalysis.run_gtapp(): Creating source named 4FGL J1745.6-2859\n",
      "2020-04-08 15:19:01 INFO    GTBinnedAnalysis.run_gtapp(): Creating source named 4FGL J1746.4-2852\n",
      "2020-04-08 15:19:01 INFO    GTBinnedAnalysis.run_gtapp(): Creating source named isodiff\n",
      "2020-04-08 15:19:01 INFO    GTBinnedAnalysis.run_gtapp(): Creating source named galdiff\n",
      "2020-04-08 15:19:01 INFO    GTBinnedAnalysis.run_gtapp(): Generating SourceMap for 4FGL J1745.6-2859 25....................!\n",
      "2020-04-08 15:19:01 INFO    GTBinnedAnalysis.run_gtapp(): Generating SourceMap for 4FGL J1746.4-2852 25....................!\n",
      "2020-04-08 15:19:01 INFO    GTBinnedAnalysis.run_gtapp(): Generating SourceMap for galdiff 25....................!\n",
      "2020-04-08 15:19:01 INFO    GTBinnedAnalysis.run_gtapp(): Generating SourceMap for isodiff 25....................!\n",
      "2020-04-08 15:19:01 INFO    GTBinnedAnalysis.run_gtapp(): Finished gtsrcmaps. Execution time: 677.78 s\n",
      "2020-04-08 15:19:01 INFO    GTBinnedAnalysis.setup(): Finished setup for component 00\n",
      "2020-04-08 15:19:01 INFO    GTBinnedAnalysis._create_binned_analysis(): Creating BinnedAnalysis for component 00.\n",
      "2020-04-08 15:19:09 INFO    GTAnalysis.setup(): Initializing source properties\n",
      "2020-04-08 15:19:14 INFO    GTAnalysis.setup(): Finished setup.\n"
     ]
    }
   ],
   "source": [
    "gta.setup()"
   ]
  },
  {
   "cell_type": "code",
   "execution_count": 7,
   "metadata": {},
   "outputs": [
    {
     "name": "stderr",
     "output_type": "stream",
     "text": [
      "2020-04-08 15:20:03 INFO    GTAnalysis.optimize(): Starting\n"
     ]
    },
    {
     "name": "stdout",
     "output_type": "stream",
     "text": [
      "Joint fit  ['galdiff', '4FGL J1745.6-2859', '4FGL J1746.4-2852']\n",
      "Fitting shape galdiff TS:    266.996\n",
      "Fitting shape 4FGL J1745.6-2859 TS:     69.176\n"
     ]
    },
    {
     "name": "stderr",
     "output_type": "stream",
     "text": [
      "2020-04-08 15:20:03 INFO    GTAnalysis.optimize(): Finished\n",
      "2020-04-08 15:20:03 INFO    GTAnalysis.optimize(): LogLike: -5874.060314 Delta-LogLike: 7.739792\n",
      "2020-04-08 15:20:03 INFO    GTAnalysis.optimize(): Execution time: 0.21 s\n"
     ]
    }
   ],
   "source": [
    "gta.optimize();"
   ]
  },
  {
   "cell_type": "code",
   "execution_count": 8,
   "metadata": {},
   "outputs": [
    {
     "name": "stderr",
     "output_type": "stream",
     "text": [
      "2020-04-08 15:20:05 INFO    GTAnalysis.print_roi(): \n",
      "name                SpatialModel   SpectrumType     offset        ts       npred\n",
      "--------------------------------------------------------------------------------\n",
      "4FGL J1745.6-2859   PointSource    LogParabola       0.061    174.26       281.7\n",
      "4FGL J1746.4-2852   PointSource    LogParabola       0.190      2.50        37.0\n",
      "isodiff             ConstantValue  FileFunction      -----      1.54        33.6\n",
      "galdiff             MapCubeFunctio PowerLaw          -----   1108.75       705.2\n",
      "\n"
     ]
    }
   ],
   "source": [
    "gta.print_roi()"
   ]
  },
  {
   "cell_type": "markdown",
   "metadata": {},
   "source": [
    "Save intermediary state after setup and optimization"
   ]
  },
  {
   "cell_type": "code",
   "execution_count": 9,
   "metadata": {},
   "outputs": [
    {
     "name": "stderr",
     "output_type": "stream",
     "text": [
      "2020-04-08 15:20:08 INFO    GTBinnedAnalysis.write_xml(): Writing /home/mpotto/Pesquisa/astroph/assignments/fermi-runs/gc10_080420/prefit-model_00.xml...\n",
      "2020-04-08 15:20:08 INFO    GTAnalysis.write_fits(): Writing /home/mpotto/Pesquisa/astroph/assignments/fermi-runs/gc10_080420/prefit-model.fits...\n",
      "2020-04-08 15:20:09 INFO    GTAnalysis.write_roi(): Writing /home/mpotto/Pesquisa/astroph/assignments/fermi-runs/gc10_080420/prefit-model.npy...\n"
     ]
    }
   ],
   "source": [
    "gta.write_roi('prefit-model')"
   ]
  },
  {
   "cell_type": "markdown",
   "metadata": {},
   "source": [
    "Fre background models to fit"
   ]
  },
  {
   "cell_type": "code",
   "execution_count": 10,
   "metadata": {},
   "outputs": [
    {
     "name": "stderr",
     "output_type": "stream",
     "text": [
      "2020-04-08 15:20:12 INFO    GTAnalysis.free_source(): Freeing parameters for galdiff               : ['Prefactor', 'Index']\n",
      "2020-04-08 15:20:12 INFO    GTAnalysis.free_source(): Freeing parameters for isodiff               : ['Normalization']\n"
     ]
    }
   ],
   "source": [
    "gta.free_source('galdiff')\n",
    "gta.free_source('isodiff')"
   ]
  },
  {
   "cell_type": "code",
   "execution_count": 11,
   "metadata": {},
   "outputs": [
    {
     "name": "stderr",
     "output_type": "stream",
     "text": [
      "2020-04-08 15:20:12 INFO    GTAnalysis.fit(): Starting fit.\n",
      "2020-04-08 15:20:12 INFO    GTAnalysis.fit(): Fit returned successfully. Quality:   3 Status:   0\n",
      "2020-04-08 15:20:12 INFO    GTAnalysis.fit(): LogLike:    -5873.312 DeltaLogLike:        0.749 \n"
     ]
    }
   ],
   "source": [
    "gta.fit();"
   ]
  },
  {
   "cell_type": "code",
   "execution_count": 12,
   "metadata": {},
   "outputs": [
    {
     "name": "stderr",
     "output_type": "stream",
     "text": [
      "2020-04-08 15:20:14 INFO    GTBinnedAnalysis.write_xml(): Writing /home/mpotto/Pesquisa/astroph/assignments/fermi-runs/gc10_080420/fit_model_00.xml...\n",
      "2020-04-08 15:20:14 INFO    GTAnalysis.write_fits(): Writing /home/mpotto/Pesquisa/astroph/assignments/fermi-runs/gc10_080420/fit_model.fits...\n",
      "2020-04-08 15:20:14 INFO    GTAnalysis.write_roi(): Writing /home/mpotto/Pesquisa/astroph/assignments/fermi-runs/gc10_080420/fit_model.npy...\n"
     ]
    }
   ],
   "source": [
    "gta.write_roi('fit_model')"
   ]
  },
  {
   "cell_type": "markdown",
   "metadata": {},
   "source": [
    "Once we have optimized our model for the ROI we can use ```residmap()``` and ```tsmap()``` to asses the fit quality and look for new sources."
   ]
  },
  {
   "cell_type": "code",
   "execution_count": 13,
   "metadata": {},
   "outputs": [
    {
     "name": "stderr",
     "output_type": "stream",
     "text": [
      "2020-04-08 15:20:15 INFO    GTAnalysis.residmap(): Generating residual maps\n",
      "2020-04-08 15:20:15 INFO    GTAnalysis.add_source(): Adding source residmap_testsource\n",
      "2020-04-08 15:20:16 INFO    GTAnalysis.delete_source(): Deleting source residmap_testsource\n",
      "/home/mpotto/anaconda3/envs/fermi/lib/python2.7/site-packages/matplotlib/contour.py:1180: UserWarning: No contour levels were found within the data range.\n",
      "  warnings.warn(\"No contour levels were found\"\n",
      "2020-04-08 15:20:18 INFO    GTAnalysis.residmap(): Finished residual maps\n",
      "2020-04-08 15:20:18 INFO    GTAnalysis.residmap(): Execution time: 2.92 s\n",
      "2020-04-08 15:20:18 INFO    GTAnalysis.tsmap(): Generating TS map\n",
      "2020-04-08 15:20:19 INFO    GTAnalysis._make_tsmap_fast(): Fitting test source.\n",
      "2020-04-08 15:20:28 INFO    GTAnalysis.tsmap(): Finished TS map\n",
      "2020-04-08 15:20:28 INFO    GTAnalysis.tsmap(): Execution time: 9.84 s\n"
     ]
    }
   ],
   "source": [
    "# Dictionary defining the spatial/spectral parameters of the test source\n",
    "model = {'SpatialModel' : 'PointSource', 'Index' : 2.0,\n",
    "         'SpectrumType' : 'PowerLaw'}\n",
    "\n",
    "m0 = gta.residmap('fit_model', model=model, make_plots=True)\n",
    "m1 = gta.tsmap('fit_model', model=model, make_plots=True)"
   ]
  },
  {
   "cell_type": "code",
   "execution_count": null,
   "metadata": {},
   "outputs": [],
   "source": []
  }
 ],
 "metadata": {
  "kernelspec": {
   "display_name": "Python 2",
   "language": "python",
   "name": "python2"
  },
  "language_info": {
   "codemirror_mode": {
    "name": "ipython",
    "version": 2
   },
   "file_extension": ".py",
   "mimetype": "text/x-python",
   "name": "python",
   "nbconvert_exporter": "python",
   "pygments_lexer": "ipython2",
   "version": "2.7.14"
  }
 },
 "nbformat": 4,
 "nbformat_minor": 2
}
