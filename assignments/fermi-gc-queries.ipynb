{
 "cells": [
  {
   "cell_type": "markdown",
   "metadata": {},
   "source": [
    "# Fermi Queries and Data Analysis\n",
    "\n",
    "Queries on the Galactic Center (GC) region with `astroquery` and data analysis with `GTAnalysis` from `fermipy`."
   ]
  },
  {
   "cell_type": "code",
   "execution_count": 17,
   "metadata": {},
   "outputs": [],
   "source": [
    "import os"
   ]
  },
  {
   "cell_type": "code",
   "execution_count": 18,
   "metadata": {},
   "outputs": [],
   "source": [
    "config_path = '/home/mpotto/Pesquisa/astroph/assignments/fermi-runs/gc1_090420/'"
   ]
  },
  {
   "cell_type": "code",
   "execution_count": 19,
   "metadata": {},
   "outputs": [],
   "source": [
    "os.chdir(config_path)"
   ]
  },
  {
   "cell_type": "markdown",
   "metadata": {},
   "source": [
    "## Analysis"
   ]
  },
  {
   "cell_type": "code",
   "execution_count": 20,
   "metadata": {},
   "outputs": [],
   "source": [
    "from fermipy.gtanalysis import GTAnalysis"
   ]
  },
  {
   "cell_type": "code",
   "execution_count": 21,
   "metadata": {},
   "outputs": [
    {
     "name": "stderr",
     "output_type": "stream",
     "text": [
      "2020-04-09 11:37:50 INFO    GTAnalysis.__init__(): \n",
      "--------------------------------------------------------------------------------\n",
      "fermipy version 0.18.1 \n",
      "ScienceTools version unknown\n"
     ]
    }
   ],
   "source": [
    "gta = GTAnalysis('config.yaml')"
   ]
  },
  {
   "cell_type": "code",
   "execution_count": 22,
   "metadata": {},
   "outputs": [
    {
     "name": "stderr",
     "output_type": "stream",
     "text": [
      "2020-04-09 11:37:51 INFO    GTAnalysis.setup(): Running setup.\n",
      "2020-04-09 11:37:51 INFO    GTBinnedAnalysis.setup(): Running setup for component 00\n",
      "2020-04-09 11:37:51 INFO    GTBinnedAnalysis._select_data(): Skipping data selection.\n",
      "2020-04-09 11:37:51 INFO    GTBinnedAnalysis._create_ltcube(): Skipping LT Cube.\n",
      "2020-04-09 11:37:52 INFO    GTBinnedAnalysis._create_expcube(): Skipping gtexpcube.\n",
      "2020-04-09 11:37:52 INFO    GTBinnedAnalysis._create_srcmaps(): Skipping gtsrcmaps.\n",
      "2020-04-09 11:37:52 INFO    GTBinnedAnalysis.setup(): Finished setup for component 00\n",
      "2020-04-09 11:37:52 INFO    GTBinnedAnalysis._create_binned_analysis(): Creating BinnedAnalysis for component 00.\n",
      "2020-04-09 11:38:03 INFO    GTAnalysis.setup(): Initializing source properties\n",
      "2020-04-09 11:38:03 INFO    GTAnalysis.setup(): Finished setup.\n"
     ]
    }
   ],
   "source": [
    "gta.setup()"
   ]
  },
  {
   "cell_type": "code",
   "execution_count": 23,
   "metadata": {},
   "outputs": [
    {
     "name": "stderr",
     "output_type": "stream",
     "text": [
      "2020-04-09 11:38:08 INFO    GTAnalysis.optimize(): Starting\n"
     ]
    },
    {
     "name": "stdout",
     "output_type": "stream",
     "text": [
      "Joint fit  ['galdiff', '4FGL J1745.6-2859']\n",
      "Fitting shape galdiff TS:   3258.891\n",
      "Fitting shape 4FGL J1745.6-2859 TS:    939.689\n",
      "Fitting shape 4FGL J1746.4-2852 TS:     35.658\n",
      "Fitting shape 4FGL J1748.3-2906 TS:     32.057\n"
     ]
    },
    {
     "name": "stderr",
     "output_type": "stream",
     "text": [
      "2020-04-09 11:38:08 INFO    GTAnalysis.optimize(): Finished\n",
      "2020-04-09 11:38:08 INFO    GTAnalysis.optimize(): LogLike: 805.602677 Delta-LogLike: 380.930539\n",
      "2020-04-09 11:38:08 INFO    GTAnalysis.optimize(): Execution time: 0.52 s\n"
     ]
    }
   ],
   "source": [
    "gta.optimize();"
   ]
  },
  {
   "cell_type": "code",
   "execution_count": 24,
   "metadata": {},
   "outputs": [
    {
     "name": "stderr",
     "output_type": "stream",
     "text": [
      "2020-04-09 11:38:09 INFO    GTAnalysis.print_roi(): \n",
      "name                SpatialModel   SpectrumType     offset        ts       npred\n",
      "--------------------------------------------------------------------------------\n",
      "4FGL J1745.6-2859   PointSource    LogParabola       0.061   2377.27      4197.6\n",
      "4FGL J1746.4-2852   PointSource    LogParabola       0.190     72.23       545.0\n",
      "4FGL J1748.3-2906   PointSource    LogParabola       0.627     48.34       317.8\n",
      "4FGL J1742.5-2833   PointSource    PowerLaw          0.775     14.15       237.5\n",
      "isodiff             ConstantValue  FileFunction      -----      7.13       212.9\n",
      "galdiff             MapCubeFunctio PowerLaw          -----  13074.82      8843.4\n",
      "\n"
     ]
    }
   ],
   "source": [
    "gta.print_roi()"
   ]
  },
  {
   "cell_type": "markdown",
   "metadata": {},
   "source": [
    "Save intermediary state after setup and optimization"
   ]
  },
  {
   "cell_type": "code",
   "execution_count": 25,
   "metadata": {},
   "outputs": [
    {
     "name": "stderr",
     "output_type": "stream",
     "text": [
      "2020-04-09 11:38:12 INFO    GTBinnedAnalysis.write_xml(): Writing /home/mpotto/Pesquisa/astroph/assignments/fermi-runs/gc1_090420/results/prefit-model_00.xml...\n",
      "2020-04-09 11:38:12 INFO    GTAnalysis.write_fits(): Writing /home/mpotto/Pesquisa/astroph/assignments/fermi-runs/gc1_090420/results/prefit-model.fits...\n",
      "2020-04-09 11:38:12 INFO    GTAnalysis.write_roi(): Writing /home/mpotto/Pesquisa/astroph/assignments/fermi-runs/gc1_090420/results/prefit-model.npy...\n"
     ]
    }
   ],
   "source": [
    "gta.write_roi('prefit-model')"
   ]
  },
  {
   "cell_type": "markdown",
   "metadata": {},
   "source": [
    "Fre background models to fit"
   ]
  },
  {
   "cell_type": "code",
   "execution_count": 27,
   "metadata": {},
   "outputs": [
    {
     "name": "stderr",
     "output_type": "stream",
     "text": [
      "2020-04-09 11:39:24 INFO    GTAnalysis.free_source(): Freeing parameters for 4FGL J1745.6-2859     : ['norm']\n",
      "2020-04-09 11:39:24 INFO    GTAnalysis.free_source(): Freeing parameters for 4FGL J1746.4-2852     : ['norm']\n",
      "2020-04-09 11:39:24 INFO    GTAnalysis.free_source(): Freeing parameters for 4FGL J1748.3-2906     : ['norm']\n",
      "2020-04-09 11:39:24 INFO    GTAnalysis.free_source(): Freeing parameters for 4FGL J1742.5-2833     : ['Prefactor']\n",
      "2020-04-09 11:39:24 INFO    GTAnalysis.free_source(): Freeing parameters for isodiff               : ['Normalization']\n",
      "2020-04-09 11:39:24 INFO    GTAnalysis.free_source(): Freeing parameters for galdiff               : ['Prefactor']\n"
     ]
    },
    {
     "data": {
      "text/plain": [
       "[<fermipy.roi_model.Source at 0x7f9bfd99db50>,\n",
       " <fermipy.roi_model.Source at 0x7f9bfd99dd50>,\n",
       " <fermipy.roi_model.Source at 0x7f9bfd99de50>,\n",
       " <fermipy.roi_model.Source at 0x7f9bfd99db90>,\n",
       " <fermipy.roi_model.IsoSource at 0x7f9bd7a0ad50>,\n",
       " <fermipy.roi_model.MapCubeSource at 0x7f9bd7a0a9d0>]"
      ]
     },
     "execution_count": 27,
     "metadata": {},
     "output_type": "execute_result"
    }
   ],
   "source": [
    "gta.free_sources(distance=2.0, pars='norm')"
   ]
  },
  {
   "cell_type": "code",
   "execution_count": 31,
   "metadata": {},
   "outputs": [
    {
     "name": "stderr",
     "output_type": "stream",
     "text": [
      "2020-04-09 11:40:16 INFO    GTAnalysis.free_source(): Fixing parameters for isodiff               : ['Normalization']\n"
     ]
    }
   ],
   "source": [
    "gta.free_source('galdiff', free=False)\n",
    "gta.free_source('isodiff', free=False)"
   ]
  },
  {
   "cell_type": "code",
   "execution_count": 32,
   "metadata": {},
   "outputs": [
    {
     "name": "stderr",
     "output_type": "stream",
     "text": [
      "2020-04-09 11:40:17 INFO    GTAnalysis.fit(): Starting fit.\n",
      "2020-04-09 11:40:17 INFO    GTAnalysis.fit(): Fit returned successfully. Quality:   3 Status:   0\n",
      "2020-04-09 11:40:17 INFO    GTAnalysis.fit(): LogLike:      809.816 DeltaLogLike:        4.213 \n"
     ]
    }
   ],
   "source": [
    "gta.fit();"
   ]
  },
  {
   "cell_type": "code",
   "execution_count": 33,
   "metadata": {},
   "outputs": [
    {
     "name": "stderr",
     "output_type": "stream",
     "text": [
      "2020-04-09 11:40:18 INFO    GTBinnedAnalysis.write_xml(): Writing /home/mpotto/Pesquisa/astroph/assignments/fermi-runs/gc1_090420/results/fit_model_00.xml...\n",
      "2020-04-09 11:40:18 INFO    GTAnalysis.write_fits(): Writing /home/mpotto/Pesquisa/astroph/assignments/fermi-runs/gc1_090420/results/fit_model.fits...\n",
      "2020-04-09 11:40:18 INFO    GTAnalysis.write_roi(): Writing /home/mpotto/Pesquisa/astroph/assignments/fermi-runs/gc1_090420/results/fit_model.npy...\n"
     ]
    }
   ],
   "source": [
    "gta.write_roi('fit_model')"
   ]
  },
  {
   "cell_type": "markdown",
   "metadata": {},
   "source": [
    "Once we have optimized our model for the ROI we can use ```residmap()``` and ```tsmap()``` to asses the fit quality and look for new sources."
   ]
  },
  {
   "cell_type": "code",
   "execution_count": 35,
   "metadata": {},
   "outputs": [
    {
     "name": "stderr",
     "output_type": "stream",
     "text": [
      "2020-04-09 11:48:12 INFO    GTAnalysis.residmap(): Generating residual maps\n",
      "2020-04-09 11:48:12 INFO    GTAnalysis.add_source(): Adding source residmap_testsource\n",
      "2020-04-09 11:48:13 INFO    GTAnalysis.delete_source(): Deleting source residmap_testsource\n",
      "2020-04-09 11:48:15 INFO    GTAnalysis.residmap(): Finished residual maps\n",
      "2020-04-09 11:48:15 INFO    GTAnalysis.residmap(): Execution time: 2.73 s\n",
      "2020-04-09 11:48:15 INFO    GTAnalysis.tsmap(): Generating TS map\n",
      "2020-04-09 11:48:15 INFO    GTAnalysis._make_tsmap_fast(): Fitting test source.\n",
      "2020-04-09 11:48:16 INFO    GTAnalysis.tsmap(): Finished TS map\n",
      "2020-04-09 11:48:16 INFO    GTAnalysis.tsmap(): Execution time: 1.37 s\n"
     ]
    }
   ],
   "source": [
    "# Dictionary defining the spatial/spectral parameters of the test source\n",
    "#model = {'SpatialModel' : 'PointSource', 'Index' : 2.0,\n",
    "         #'SpectrumType' : 'PowerLaw'}\n",
    "\n",
    "m0 = gta.residmap('fit_model', make_plots=True)\n",
    "m1 = gta.tsmap('fit_model', make_plots=True)"
   ]
  },
  {
   "cell_type": "code",
   "execution_count": null,
   "metadata": {},
   "outputs": [],
   "source": []
  }
 ],
 "metadata": {
  "kernelspec": {
   "display_name": "Python 2",
   "language": "python",
   "name": "python2"
  },
  "language_info": {
   "codemirror_mode": {
    "name": "ipython",
    "version": 2
   },
   "file_extension": ".py",
   "mimetype": "text/x-python",
   "name": "python",
   "nbconvert_exporter": "python",
   "pygments_lexer": "ipython2",
   "version": "2.7.14"
  }
 },
 "nbformat": 4,
 "nbformat_minor": 2
}
