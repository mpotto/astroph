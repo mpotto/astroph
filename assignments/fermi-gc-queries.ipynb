{
 "cells": [
  {
   "cell_type": "markdown",
   "metadata": {},
   "source": [
    "# Fermi Queries and Data Analysis\n",
    "\n",
    "Queries on the Galactic Center (GC) region with `astroquery` and data analysis with `GTAnalysis` from `fermipy`."
   ]
  },
  {
   "cell_type": "code",
   "execution_count": 8,
   "metadata": {},
   "outputs": [],
   "source": [
    "import os"
   ]
  },
  {
   "cell_type": "code",
   "execution_count": 9,
   "metadata": {},
   "outputs": [],
   "source": [
    "config_path = '/home/mpotto/Pesquisa/astroph/assignments/fermi-runs/gc1_090420/'"
   ]
  },
  {
   "cell_type": "code",
   "execution_count": 10,
   "metadata": {},
   "outputs": [],
   "source": [
    "os.chdir(config_path)"
   ]
  },
  {
   "cell_type": "markdown",
   "metadata": {},
   "source": [
    "## Analysis"
   ]
  },
  {
   "cell_type": "code",
   "execution_count": 11,
   "metadata": {},
   "outputs": [],
   "source": [
    "from fermipy.gtanalysis import GTAnalysis"
   ]
  },
  {
   "cell_type": "code",
   "execution_count": 12,
   "metadata": {},
   "outputs": [
    {
     "name": "stderr",
     "output_type": "stream",
     "text": [
      "2020-08-08 13:00:39 INFO    GTAnalysis.__init__(): \n",
      "--------------------------------------------------------------------------------\n",
      "fermipy version 0.18.1 \n",
      "ScienceTools version unknown\n"
     ]
    }
   ],
   "source": [
    "gta = GTAnalysis('config.yaml')"
   ]
  },
  {
   "cell_type": "code",
   "execution_count": 13,
   "metadata": {},
   "outputs": [
    {
     "name": "stderr",
     "output_type": "stream",
     "text": [
      "2020-08-08 13:00:40 INFO    GTAnalysis.setup(): Running setup.\n",
      "2020-08-08 13:00:40 INFO    GTBinnedAnalysis.setup(): Running setup for component 00\n",
      "2020-08-08 13:00:40 INFO    GTBinnedAnalysis._select_data(): Skipping data selection.\n",
      "2020-08-08 13:00:40 INFO    GTBinnedAnalysis._create_ltcube(): Skipping LT Cube.\n",
      "2020-08-08 13:00:41 INFO    GTBinnedAnalysis._create_expcube(): Skipping gtexpcube.\n",
      "2020-08-08 13:00:41 INFO    GTBinnedAnalysis._create_srcmaps(): Skipping gtsrcmaps.\n",
      "2020-08-08 13:00:41 INFO    GTBinnedAnalysis.setup(): Finished setup for component 00\n",
      "2020-08-08 13:00:41 INFO    GTBinnedAnalysis._create_binned_analysis(): Creating BinnedAnalysis for component 00.\n",
      "2020-08-08 13:00:57 INFO    GTAnalysis.setup(): Initializing source properties\n",
      "2020-08-08 13:00:57 INFO    GTAnalysis.setup(): Finished setup.\n"
     ]
    }
   ],
   "source": [
    "gta.setup()"
   ]
  },
  {
   "cell_type": "code",
   "execution_count": 17,
   "metadata": {},
   "outputs": [
    {
     "name": "stderr",
     "output_type": "stream",
     "text": [
      "2020-08-08 13:01:07 INFO    GTAnalysis.optimize(): Starting\n"
     ]
    },
    {
     "name": "stdout",
     "output_type": "stream",
     "text": [
      "Joint fit  ['galdiff', '3FGL J1745.6-2859c', '3FGL J1745.3-2903c', '3FGL J1747.7-2904', '3FGL J1747.0-2828']\n",
      "Fitting shape galdiff TS:   1627.990\n",
      "Fitting shape 3FGL J1745.6-2859c TS:    447.546\n",
      "Fitting shape 3FGL J1745.3-2903c TS:    184.823\n",
      "Fitting shape 3FGL J1747.0-2828 TS:    106.273\n"
     ]
    },
    {
     "name": "stderr",
     "output_type": "stream",
     "text": [
      "2020-08-08 13:01:08 INFO    GTAnalysis.optimize(): Finished\n",
      "2020-08-08 13:01:08 INFO    GTAnalysis.optimize(): LogLike: 947.445475 Delta-LogLike: 20.184925\n",
      "2020-08-08 13:01:08 INFO    GTAnalysis.optimize(): Execution time: 0.77 s\n"
     ]
    },
    {
     "name": "stdout",
     "output_type": "stream",
     "text": [
      "Fitting shape 3FGL J1747.7-2904 TS:     71.193\n",
      "Fitting shape 3FGL J1746.3-2851c TS:     68.043\n"
     ]
    }
   ],
   "source": [
    "gta.optimize();"
   ]
  },
  {
   "cell_type": "code",
   "execution_count": 18,
   "metadata": {},
   "outputs": [
    {
     "name": "stderr",
     "output_type": "stream",
     "text": [
      "2020-08-08 13:01:11 INFO    GTAnalysis.print_roi(): \n",
      "name                SpatialModel   SpectrumType     offset        ts       npred\n",
      "--------------------------------------------------------------------------------\n",
      "3FGL J1745.6-2859c  PointSource    PowerLaw          0.059   1777.39      3684.7\n",
      "3FGL J1745.3-2903c  PointSource    LogParabola       0.138    415.90      1795.2\n",
      "3FGL J1746.3-2851c  PointSource    LogParabola       0.181     72.55       614.4\n",
      "3FGL J1747.7-2904   PointSource    PowerLaw          0.490    127.65       921.8\n",
      "3FGL J1747.0-2828   PointSource    LogParabola       0.558    132.73       691.4\n",
      "3FGL J1749.2-2911   PointSource    LogParabola       0.836      5.46        83.9\n",
      "3FGL J1748.3-2815c  PointSource    LogParabola       0.907      0.90        13.3\n",
      "isodiff             ConstantValue  FileFunction      -----     -0.01         0.1\n",
      "galdiff             MapCubeFunctio PowerLaw          -----   5680.33      6137.6\n",
      "\n"
     ]
    }
   ],
   "source": [
    "gta.print_roi()"
   ]
  },
  {
   "cell_type": "markdown",
   "metadata": {},
   "source": [
    "Save intermediary state after setup and optimization"
   ]
  },
  {
   "cell_type": "code",
   "execution_count": 19,
   "metadata": {},
   "outputs": [
    {
     "name": "stderr",
     "output_type": "stream",
     "text": [
      "2020-08-08 13:01:13 INFO    GTBinnedAnalysis.write_xml(): Writing /home/mpotto/Pesquisa/astroph/assignments/fermi-runs/gc1_090420/results/prefit-model_00.xml...\n",
      "2020-08-08 13:01:13 INFO    GTAnalysis.write_fits(): Writing /home/mpotto/Pesquisa/astroph/assignments/fermi-runs/gc1_090420/results/prefit-model.fits...\n",
      "2020-08-08 13:01:14 INFO    GTAnalysis.write_roi(): Writing /home/mpotto/Pesquisa/astroph/assignments/fermi-runs/gc1_090420/results/prefit-model.npy...\n"
     ]
    }
   ],
   "source": [
    "gta.write_roi('prefit-model')"
   ]
  },
  {
   "cell_type": "markdown",
   "metadata": {},
   "source": [
    "Fre background models to fit"
   ]
  },
  {
   "cell_type": "code",
   "execution_count": 21,
   "metadata": {},
   "outputs": [
    {
     "data": {
      "text/plain": [
       "[<fermipy.roi_model.Source at 0x7fe03f930bd0>,\n",
       " <fermipy.roi_model.Source at 0x7fe03f930d50>,\n",
       " <fermipy.roi_model.Source at 0x7fe03f930150>,\n",
       " <fermipy.roi_model.Source at 0x7fe03f6ef150>,\n",
       " <fermipy.roi_model.Source at 0x7fe03f930490>,\n",
       " <fermipy.roi_model.Source at 0x7fe03f6ef850>,\n",
       " <fermipy.roi_model.Source at 0x7fe03f6ef590>,\n",
       " <fermipy.roi_model.IsoSource at 0x7fe03f5f0bd0>,\n",
       " <fermipy.roi_model.MapCubeSource at 0x7fe03f70ddd0>]"
      ]
     },
     "execution_count": 21,
     "metadata": {},
     "output_type": "execute_result"
    }
   ],
   "source": [
    "gta.free_sources(distance=2.0, pars='norm')"
   ]
  },
  {
   "cell_type": "code",
   "execution_count": 22,
   "metadata": {},
   "outputs": [
    {
     "name": "stderr",
     "output_type": "stream",
     "text": [
      "2020-08-08 13:01:31 INFO    GTAnalysis.free_source(): Fixing parameters for galdiff               : ['Prefactor']\n",
      "2020-08-08 13:01:31 INFO    GTAnalysis.free_source(): Fixing parameters for isodiff               : ['Normalization']\n"
     ]
    }
   ],
   "source": [
    "gta.free_source('galdiff', free=False)\n",
    "gta.free_source('isodiff', free=False)"
   ]
  },
  {
   "cell_type": "code",
   "execution_count": 23,
   "metadata": {},
   "outputs": [
    {
     "name": "stderr",
     "output_type": "stream",
     "text": [
      "2020-08-08 13:01:32 INFO    GTAnalysis.fit(): Starting fit.\n",
      "2020-08-08 13:01:32 INFO    GTAnalysis.fit(): Fit returned successfully. Quality:   3 Status:   0\n",
      "2020-08-08 13:01:32 INFO    GTAnalysis.fit(): LogLike:      948.479 DeltaLogLike:        1.033 \n"
     ]
    }
   ],
   "source": [
    "gta.fit();"
   ]
  },
  {
   "cell_type": "code",
   "execution_count": 24,
   "metadata": {},
   "outputs": [
    {
     "name": "stderr",
     "output_type": "stream",
     "text": [
      "2020-08-08 13:01:35 INFO    GTBinnedAnalysis.write_xml(): Writing /home/mpotto/Pesquisa/astroph/assignments/fermi-runs/gc1_090420/results/fit_model_00.xml...\n",
      "2020-08-08 13:01:35 INFO    GTAnalysis.write_fits(): Writing /home/mpotto/Pesquisa/astroph/assignments/fermi-runs/gc1_090420/results/fit_model.fits...\n",
      "2020-08-08 13:01:36 INFO    GTAnalysis.write_roi(): Writing /home/mpotto/Pesquisa/astroph/assignments/fermi-runs/gc1_090420/results/fit_model.npy...\n"
     ]
    }
   ],
   "source": [
    "gta.write_roi('fit_model')"
   ]
  },
  {
   "cell_type": "markdown",
   "metadata": {},
   "source": [
    "Once we have optimized our model for the ROI we can use ```residmap()``` and ```tsmap()``` to asses the fit quality and look for new sources."
   ]
  },
  {
   "cell_type": "code",
   "execution_count": 28,
   "metadata": {},
   "outputs": [
    {
     "name": "stderr",
     "output_type": "stream",
     "text": [
      "2020-08-08 13:02:57 INFO    GTAnalysis.residmap(): Generating residual maps\n",
      "2020-08-08 13:02:57 INFO    GTAnalysis.add_source(): Adding source residmap_testsource\n",
      "2020-08-08 13:02:58 INFO    GTAnalysis.delete_source(): Deleting source residmap_testsource\n",
      "2020-08-08 13:02:59 INFO    GTAnalysis.residmap(): Finished residual maps\n",
      "2020-08-08 13:02:59 INFO    GTAnalysis.residmap(): Execution time: 2.44 s\n",
      "2020-08-08 13:02:59 INFO    GTAnalysis.tsmap(): Generating TS map\n",
      "2020-08-08 13:02:59 INFO    GTAnalysis._make_tsmap_fast(): Fitting test source.\n",
      "2020-08-08 13:03:00 INFO    GTAnalysis.tsmap(): Finished TS map\n",
      "2020-08-08 13:03:00 INFO    GTAnalysis.tsmap(): Execution time: 1.22 s\n"
     ]
    }
   ],
   "source": [
    "# Dictionary defining the spatial/spectral parameters of the test source\n",
    "model = {'SpatialModel' : 'PointSource', 'Index' : 2.0,\n",
    "        'SpectrumType' : 'PowerLaw'}\n",
    "\n",
    "m0 = gta.residmap('fit_model', make_plots=True)\n",
    "m1 = gta.tsmap('fit_model', make_plots=True)"
   ]
  },
  {
   "cell_type": "code",
   "execution_count": null,
   "metadata": {},
   "outputs": [],
   "source": []
  }
 ],
 "metadata": {
  "kernelspec": {
   "display_name": "Python 2",
   "language": "python",
   "name": "python2"
  },
  "language_info": {
   "codemirror_mode": {
    "name": "ipython",
    "version": 2
   },
   "file_extension": ".py",
   "mimetype": "text/x-python",
   "name": "python",
   "nbconvert_exporter": "python",
   "pygments_lexer": "ipython2",
   "version": "2.7.14"
  }
 },
 "nbformat": 4,
 "nbformat_minor": 4
}
