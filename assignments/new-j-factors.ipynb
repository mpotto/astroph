{
 "cells": [
  {
   "cell_type": "code",
   "execution_count": 2,
   "metadata": {},
   "outputs": [],
   "source": [
    "import numpy as np\n",
    "import matplotlib.pyplot as plt\n",
    "import matplotlib.colors as colors"
   ]
  },
  {
   "cell_type": "code",
   "execution_count": 3,
   "metadata": {},
   "outputs": [],
   "source": [
    "import astropy.wcs as wcs\n",
    "from astropy.io import fits"
   ]
  },
  {
   "cell_type": "code",
   "execution_count": 4,
   "metadata": {},
   "outputs": [],
   "source": [
    "from datetime import datetime"
   ]
  },
  {
   "cell_type": "code",
   "execution_count": 5,
   "metadata": {},
   "outputs": [],
   "source": [
    "from dm.profiles import MassProfileNFW, MassProfileEinasto, MassProfileIsothermal, MassProfileBurkert, MassProfileMoore"
   ]
  },
  {
   "cell_type": "code",
   "execution_count": 6,
   "metadata": {},
   "outputs": [],
   "source": [
    "plt.style.use('astroph')"
   ]
  },
  {
   "cell_type": "markdown",
   "metadata": {},
   "source": [
    "### Utils\n",
    "\n",
    "Helper functions to plot, generate FITS and get WCS."
   ]
  },
  {
   "cell_type": "markdown",
   "metadata": {},
   "source": [
    "#### Plot profiles "
   ]
  },
  {
   "cell_type": "code",
   "execution_count": 7,
   "metadata": {},
   "outputs": [],
   "source": [
    "def profile_plot(j_factors, l, b, wcs, grid=False, cmap=plt.cm.plasma, **kwargs):\n",
    "    fig = plt.figure()\n",
    "    ax = fig.add_subplot(111, projection=wcs)\n",
    "    im = ax.imshow(j_factors, origin='lower', cmap=cmap, **kwargs)\n",
    "    cbar = fig.colorbar(im, ax=ax)\n",
    "    cbar.set_label(r\"$\\dfrac{d\\,J(\\theta)}{d\\Omega} \\times \\Delta \\Omega_{\\mathrm{bin}}$\",  fontsize=14,  labelpad=10)\n",
    "    ax.set_aspect('equal')\n",
    "    ax.set_ylabel(r'$b$ ($\\degree$)')\n",
    "    ax.set_xlabel(r'$\\ell$ ($\\degree$)')\n",
    "    if grid:\n",
    "        for x in range(l.size):\n",
    "            ax.axvline(x, color='grey', lw=0.3, alpha=0.8)\n",
    "        for y in range(b.size):\n",
    "            ax.axhline(y, color='grey', lw=0.3, alpha=0.8)"
   ]
  },
  {
   "cell_type": "markdown",
   "metadata": {},
   "source": [
    "#### $\\theta$ Grid Generator"
   ]
  },
  {
   "cell_type": "code",
   "execution_count": 8,
   "metadata": {},
   "outputs": [],
   "source": [
    "def generate_grid(l, b):\n",
    "    L, B = np.meshgrid(l, b)\n",
    "    thetas = np.arccos(np.cos(L)*np.cos(B))\n",
    "    return thetas"
   ]
  },
  {
   "cell_type": "markdown",
   "metadata": {},
   "source": [
    "#### FITS Generator"
   ]
  },
  {
   "cell_type": "code",
   "execution_count": 9,
   "metadata": {},
   "outputs": [],
   "source": [
    "def generate_fits(data, wcs, filename, factor_type='annihilation'):\n",
    "    hdu = fits.PrimaryHDU(data, header=wcs.to_header())\n",
    "    header = hdu.header\n",
    "    header.set('MAPTYPE', factor_type.upper(), 'J-Factor map type: annihilation or decay')\n",
    "    header.set('HISTORY', 'Last update in %s'%str(datetime.today().date()))\n",
    "    hdul = fits.HDUList([hdu])\n",
    "    hdul.writeto(filename, overwrite=True)"
   ]
  },
  {
   "cell_type": "markdown",
   "metadata": {},
   "source": [
    "#### WCS Generator"
   ]
  },
  {
   "cell_type": "code",
   "execution_count": 10,
   "metadata": {},
   "outputs": [],
   "source": [
    "def generate_wcs(l, b, delta_l, delta_b):\n",
    "    \"\"\"Specify WCS for the map. \n",
    "    \n",
    "    The reference pixel is the first one, indexed by 1 \n",
    "    in FORTRAN and FITS convention. Default for us will\n",
    "    be numpy convention that the first pixel is 0.\n",
    "    \"\"\"\n",
    "    w = wcs.WCS(naxis=2)\n",
    "    w.wcs.ctype = ['GLON-CAR', 'GLAT-CAR']\n",
    "    w.wcs.crval = np.array([l[0], b[0]])\n",
    "    w.wcs.crpix = np.array([1, 1])\n",
    "    w.wcs.cdelt = np.array([delta_l, delta_b], dtype=np.float64)\n",
    "    w.wcs.cunit = ['deg', 'deg']\n",
    "    return w"
   ]
  },
  {
   "cell_type": "markdown",
   "metadata": {},
   "source": [
    "### Profiles"
   ]
  },
  {
   "cell_type": "code",
   "execution_count": 11,
   "metadata": {},
   "outputs": [],
   "source": [
    "nfw = MassProfileNFW()\n",
    "einasto = MassProfileEinasto()\n",
    "isothermal = MassProfileIsothermal()\n",
    "burkert = MassProfileBurkert()\n",
    "moore = MassProfileMoore()"
   ]
  },
  {
   "cell_type": "markdown",
   "metadata": {},
   "source": [
    "### Maps\n",
    "\n",
    "| Latitude ($b$) or aperture ($\\theta$) | Longitude ($\\ell$)|\n",
    "|:----: |:---:|\n",
    "| $|b| \\leq 5°$| $|\\ell| \\leq 5°$ |\n",
    "\n",
    "\n",
    "**Threshold**\n",
    "\n",
    "There is a integration threshold on $\\theta_T =$ ```4e-3°```, *i.e.* $\\theta < \\theta_T$ will raise a integration warning."
   ]
  },
  {
   "cell_type": "code",
   "execution_count": 12,
   "metadata": {},
   "outputs": [],
   "source": [
    "delta_b1 = delta_l1 = 4e-3"
   ]
  },
  {
   "cell_type": "code",
   "execution_count": 13,
   "metadata": {},
   "outputs": [],
   "source": [
    "b_min1, b_max1, l_min1, l_max1 = -5.0, 5.0, -5.0, 5.0"
   ]
  },
  {
   "cell_type": "code",
   "execution_count": 14,
   "metadata": {},
   "outputs": [],
   "source": [
    "b1 = np.arange(b_min1, b_max1, delta_b1) + delta_b1/2.0\n",
    "l1 = np.arange(l_min1, l_max1, delta_l1) + delta_l1/2.0"
   ]
  },
  {
   "cell_type": "code",
   "execution_count": 15,
   "metadata": {},
   "outputs": [],
   "source": [
    "b1_rad = b1*np.pi/180.0\n",
    "l1_rad = l1*np.pi/180.0"
   ]
  },
  {
   "cell_type": "code",
   "execution_count": 16,
   "metadata": {},
   "outputs": [],
   "source": [
    "delta_b1_rad = delta_b1*np.pi/180.0\n",
    "delta_l1_rad = delta_l1*np.pi/180.0"
   ]
  },
  {
   "cell_type": "code",
   "execution_count": 17,
   "metadata": {},
   "outputs": [],
   "source": [
    "L1, B1 = np.meshgrid(l1_rad, b1_rad)"
   ]
  },
  {
   "cell_type": "code",
   "execution_count": 18,
   "metadata": {},
   "outputs": [],
   "source": [
    "thetas = generate_grid(l1_rad, b1_rad)"
   ]
  },
  {
   "cell_type": "code",
   "execution_count": 19,
   "metadata": {},
   "outputs": [],
   "source": [
    "apertures = nfw.apertures_map(L1, B1, delta_l1_rad, delta_b1_rad)"
   ]
  },
  {
   "cell_type": "code",
   "execution_count": 20,
   "metadata": {},
   "outputs": [],
   "source": [
    "nfw_annih = nfw.j_factor_map(L1, B1, delta_l1_rad, delta_b1_rad, epsrel=1e-3)\n",
    "nfw_decay = nfw.j_factor_map(L1, B1, delta_l1_rad, delta_b1_rad, epsrel=1e-3, factor_type='decay')"
   ]
  },
  {
   "cell_type": "markdown",
   "metadata": {},
   "source": [
    "#### Results"
   ]
  },
  {
   "cell_type": "code",
   "execution_count": 21,
   "metadata": {},
   "outputs": [],
   "source": [
    "w = wcs.WCS(naxis=2)"
   ]
  },
  {
   "cell_type": "code",
   "execution_count": 22,
   "metadata": {},
   "outputs": [],
   "source": [
    "wcs1 = generate_wcs(l1, b1, delta_l1, delta_b1)"
   ]
  },
  {
   "cell_type": "markdown",
   "metadata": {},
   "source": [
    "* Aperture Map"
   ]
  },
  {
   "cell_type": "code",
   "execution_count": 23,
   "metadata": {},
   "outputs": [],
   "source": [
    "def save_aperture_map(apertures, filename='maps/apertures.fits'):\n",
    "    hdu_aperture = fits.PrimaryHDU(apertures)\n",
    "    header = hdu_aperture.header\n",
    "    header.set('MAPTYPE', 'APERTURE')\n",
    "    header.set('HISTORY', 'Last update in %s'%str(datetime.today().date()))\n",
    "    hdul = fits.HDUList([hdu_aperture])\n",
    "    hdul.writeto(filename, overwrite=True)"
   ]
  },
  {
   "cell_type": "code",
   "execution_count": 24,
   "metadata": {},
   "outputs": [],
   "source": [
    "save_aperture_map(apertures, filename='maps/apertures-10deg.fits')"
   ]
  },
  {
   "cell_type": "markdown",
   "metadata": {},
   "source": [
    "* $\\theta$ map"
   ]
  },
  {
   "cell_type": "code",
   "execution_count": 25,
   "metadata": {},
   "outputs": [],
   "source": [
    "def save_theta_map(apertures, filename='maps/thetas.fits'):\n",
    "    hdu_aperture = fits.PrimaryHDU(apertures)\n",
    "    header = hdu_aperture.header\n",
    "    header.set('MAPTYPE', 'THETAS')\n",
    "    header.set('HISTORY', 'Last update in %s'%str(datetime.today().date()))\n",
    "    hdul = fits.HDUList([hdu_aperture])\n",
    "    hdul.writeto(filename, overwrite=True)"
   ]
  },
  {
   "cell_type": "code",
   "execution_count": 26,
   "metadata": {},
   "outputs": [],
   "source": [
    "save_theta_map(thetas, filename='maps/thetas-10deg.fits')"
   ]
  },
  {
   "cell_type": "markdown",
   "metadata": {},
   "source": [
    "* NFW"
   ]
  },
  {
   "cell_type": "code",
   "execution_count": 27,
   "metadata": {},
   "outputs": [
    {
     "data": {
      "image/png": "[encoded data removed]",
      "text/plain": [
       "<Figure size 460.8x345.6 with 2 Axes>"
      ]
     },
     "metadata": {
      "needs_background": "light"
     },
     "output_type": "display_data"
    }
   ],
   "source": [
    "profile_plot(nfw_annih, l1, b1, wcs1, cmap=plt.cm.plasma, norm=colors.LogNorm(vmin=nfw_annih.min(), vmax=nfw_annih.max()))\n",
    "plt.title(\"NFW (annihilation)\")\n",
    "plt.show()"
   ]
  },
  {
   "cell_type": "code",
   "execution_count": 28,
   "metadata": {},
   "outputs": [
    {
     "data": {
      "image/png": "[encoded data removed]",
      "text/plain": [
       "<Figure size 460.8x345.6 with 2 Axes>"
      ]
     },
     "metadata": {
      "needs_background": "light"
     },
     "output_type": "display_data"
    }
   ],
   "source": [
    "profile_plot(nfw_decay, l1, b1, wcs1, cmap=plt.cm.plasma, norm=colors.LogNorm(vmin=nfw_decay.min(), vmax=nfw_decay.max()))\n",
    "plt.title(\"NFW (decay)\")\n",
    "plt.show()"
   ]
  },
  {
   "cell_type": "code",
   "execution_count": 29,
   "metadata": {},
   "outputs": [],
   "source": [
    "generate_fits(nfw_annih, wcs1, 'maps/nfw_annih10deg.fits')"
   ]
  },
  {
   "cell_type": "code",
   "execution_count": null,
   "metadata": {},
   "outputs": [],
   "source": [
    "generate_fits(nfw_decay, wcs1, 'maps/nfw_decay10deg.fits', factor_type='decay')"
   ]
  },
  {
   "cell_type": "markdown",
   "metadata": {},
   "source": [
    "# Consistency check"
   ]
  },
  {
   "cell_type": "code",
   "execution_count": 2,
   "metadata": {},
   "outputs": [],
   "source": [
    "import numpy as np\n",
    "import matplotlib.pyplot as plt\n",
    "from astropy.io import fits"
   ]
  },
  {
   "cell_type": "markdown",
   "metadata": {},
   "source": [
    "## Utils"
   ]
  },
  {
   "cell_type": "code",
   "execution_count": 3,
   "metadata": {},
   "outputs": [],
   "source": [
    "def get_fits_data(filename):\n",
    "    with fits.open(filename) as hdul:\n",
    "        data = hdul[0].data\n",
    "    return data"
   ]
  },
  {
   "cell_type": "code",
   "execution_count": 4,
   "metadata": {},
   "outputs": [],
   "source": [
    "def j_bar(data, apertures, mask):\n",
    "    return data[mask].sum()/apertures[mask].sum()"
   ]
  },
  {
   "cell_type": "markdown",
   "metadata": {},
   "source": [
    "## Loading Maps"
   ]
  },
  {
   "cell_type": "markdown",
   "metadata": {},
   "source": [
    "* Aperture Map "
   ]
  },
  {
   "cell_type": "code",
   "execution_count": 8,
   "metadata": {},
   "outputs": [],
   "source": [
    "apertures = get_fits_data('maps/apertures-10deg.fits')"
   ]
  },
  {
   "cell_type": "markdown",
   "metadata": {},
   "source": [
    "* $\\theta$ Map"
   ]
  },
  {
   "cell_type": "code",
   "execution_count": 9,
   "metadata": {},
   "outputs": [],
   "source": [
    "thetas = get_fits_data('maps/thetas-10deg.fits')"
   ]
  },
  {
   "cell_type": "markdown",
   "metadata": {},
   "source": [
    "* NFW"
   ]
  },
  {
   "cell_type": "code",
   "execution_count": 10,
   "metadata": {},
   "outputs": [],
   "source": [
    "nfw_annih = get_fits_data('maps/nfw_annih10deg.fits')\n",
    "nfw_decay = get_fits_data('maps/nfw_decay10deg.fits')"
   ]
  },
  {
   "cell_type": "markdown",
   "metadata": {},
   "source": [
    "### Region 5º x 5º"
   ]
  },
  {
   "cell_type": "code",
   "execution_count": 11,
   "metadata": {},
   "outputs": [],
   "source": [
    "theta2 = 10*np.pi/180.0\n",
    "mask2 = (thetas <= theta2)"
   ]
  },
  {
   "cell_type": "code",
   "execution_count": 12,
   "metadata": {},
   "outputs": [
    {
     "data": {
      "text/plain": [
       "174.0514687438021"
      ]
     },
     "execution_count": 12,
     "metadata": {},
     "output_type": "execute_result"
    }
   ],
   "source": [
    "j_bar(nfw_annih, apertures, mask2)"
   ]
  },
  {
   "cell_type": "code",
   "execution_count": 14,
   "metadata": {},
   "outputs": [
    {
     "data": {
      "text/plain": [
       "11.751718771764832"
      ]
     },
     "execution_count": 14,
     "metadata": {},
     "output_type": "execute_result"
    }
   ],
   "source": [
    "j_bar(nfw_decay, apertures, mask2)"
   ]
  }
 ],
 "metadata": {
  "kernelspec": {
   "display_name": "Python 2",
   "language": "python",
   "name": "python2"
  },
  "language_info": {
   "codemirror_mode": {
    "name": "ipython",
    "version": 2
   },
   "file_extension": ".py",
   "mimetype": "text/x-python",
   "name": "python",
   "nbconvert_exporter": "python",
   "pygments_lexer": "ipython2",
   "version": "2.7.14"
  }
 },
 "nbformat": 4,
 "nbformat_minor": 4
}
