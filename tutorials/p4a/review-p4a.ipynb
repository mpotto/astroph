{
 "cells": [
  {
   "cell_type": "markdown",
   "metadata": {},
   "source": [
    "# Review on P4A"
   ]
  },
  {
   "cell_type": "code",
   "execution_count": 1,
   "metadata": {},
   "outputs": [],
   "source": [
    "import numpy as np\n",
    "import matplotlib.pyplot as plt\n",
    "import os"
   ]
  },
  {
   "cell_type": "code",
   "execution_count": 2,
   "metadata": {},
   "outputs": [],
   "source": [
    "path = os.path.join(os.getcwd(), 'install_examples/py4ast/install/')"
   ]
  },
  {
   "cell_type": "code",
   "execution_count": 4,
   "metadata": {},
   "outputs": [],
   "source": [
    "plt.style.use('astroph')"
   ]
  },
  {
   "cell_type": "markdown",
   "metadata": {},
   "source": [
    "## Review *per se*"
   ]
  },
  {
   "cell_type": "code",
   "execution_count": 5,
   "metadata": {},
   "outputs": [],
   "source": [
    "from astropy.io import ascii"
   ]
  },
  {
   "cell_type": "markdown",
   "metadata": {},
   "source": [
    "*Fermi-LAT Data*"
   ]
  },
  {
   "cell_type": "code",
   "execution_count": 7,
   "metadata": {},
   "outputs": [],
   "source": [
    "data_url = 'https://raw.githubusercontent.com/python4astronomers/python4astronomers/stable/examples/tables/fermi_agn.dat'"
   ]
  },
  {
   "cell_type": "code",
   "execution_count": 8,
   "metadata": {},
   "outputs": [],
   "source": [
    "dat = ascii.read(data_url)"
   ]
  },
  {
   "cell_type": "code",
   "execution_count": 16,
   "metadata": {},
   "outputs": [],
   "source": [
    "dat_as_df = dat.to_pandas()"
   ]
  },
  {
   "cell_type": "code",
   "execution_count": 17,
   "metadata": {},
   "outputs": [
    {
     "data": {
      "text/html": [
       "<div>\n",
       "<style scoped>\n",
       "    .dataframe tbody tr th:only-of-type {\n",
       "        vertical-align: middle;\n",
       "    }\n",
       "\n",
       "    .dataframe tbody tr th {\n",
       "        vertical-align: top;\n",
       "    }\n",
       "\n",
       "    .dataframe thead th {\n",
       "        text-align: right;\n",
       "    }\n",
       "</style>\n",
       "<table border=\"1\" class=\"dataframe\">\n",
       "  <thead>\n",
       "    <tr style=\"text-align: right;\">\n",
       "      <th></th>\n",
       "      <th>name</th>\n",
       "      <th>agn_name</th>\n",
       "      <th>ra</th>\n",
       "      <th>dec</th>\n",
       "      <th>lii</th>\n",
       "      <th>bii</th>\n",
       "      <th>angular_separation</th>\n",
       "      <th>error_radius</th>\n",
       "      <th>assoc_probability</th>\n",
       "      <th>optical_class</th>\n",
       "      <th>...</th>\n",
       "      <th>photon_flux_error</th>\n",
       "      <th>spectral_index</th>\n",
       "      <th>spectral_index_error</th>\n",
       "      <th>detection_significance</th>\n",
       "      <th>variability_flag</th>\n",
       "      <th>curvature_flag</th>\n",
       "      <th>note_flag</th>\n",
       "      <th>clean_flag</th>\n",
       "      <th>type_flag</th>\n",
       "      <th>null</th>\n",
       "    </tr>\n",
       "  </thead>\n",
       "  <tbody>\n",
       "    <tr>\n",
       "      <th>0</th>\n",
       "      <td>1FGL J1028.7-8543</td>\n",
       "      <td>PKS 1029-85</td>\n",
       "      <td>156.64650</td>\n",
       "      <td>-85.72086</td>\n",
       "      <td>300.173578</td>\n",
       "      <td>-23.649071</td>\n",
       "      <td>0.041</td>\n",
       "      <td>0.262</td>\n",
       "      <td>0.95</td>\n",
       "      <td>Unknown</td>\n",
       "      <td>...</td>\n",
       "      <td>4.000000e-10</td>\n",
       "      <td>2.55</td>\n",
       "      <td>0.19</td>\n",
       "      <td>4.7</td>\n",
       "      <td>N</td>\n",
       "      <td>N</td>\n",
       "      <td>S</td>\n",
       "      <td>Y</td>\n",
       "      <td>H</td>\n",
       "      <td>-999</td>\n",
       "    </tr>\n",
       "    <tr>\n",
       "      <th>1</th>\n",
       "      <td>1FGL J0048.0-8412</td>\n",
       "      <td>PKS 0044-84</td>\n",
       "      <td>11.11192</td>\n",
       "      <td>-84.37781</td>\n",
       "      <td>303.135446</td>\n",
       "      <td>-32.747679</td>\n",
       "      <td>0.191</td>\n",
       "      <td>0.229</td>\n",
       "      <td>0.96</td>\n",
       "      <td>FSRQ</td>\n",
       "      <td>...</td>\n",
       "      <td>-9.990000e+02</td>\n",
       "      <td>2.69</td>\n",
       "      <td>0.17</td>\n",
       "      <td>5.6</td>\n",
       "      <td>N</td>\n",
       "      <td>N</td>\n",
       "      <td>S</td>\n",
       "      <td>Y</td>\n",
       "      <td>H</td>\n",
       "      <td>-999</td>\n",
       "    </tr>\n",
       "    <tr>\n",
       "      <th>2</th>\n",
       "      <td>1FGL J2201.6-8327</td>\n",
       "      <td>PKS 2155-83</td>\n",
       "      <td>330.58221</td>\n",
       "      <td>-83.63653</td>\n",
       "      <td>307.962017</td>\n",
       "      <td>-31.746332</td>\n",
       "      <td>0.181</td>\n",
       "      <td>0.191</td>\n",
       "      <td>0.85</td>\n",
       "      <td>FSRQ</td>\n",
       "      <td>...</td>\n",
       "      <td>4.000000e-10</td>\n",
       "      <td>2.74</td>\n",
       "      <td>0.11</td>\n",
       "      <td>9.3</td>\n",
       "      <td>Y</td>\n",
       "      <td>N</td>\n",
       "      <td>S</td>\n",
       "      <td>Y</td>\n",
       "      <td>H</td>\n",
       "      <td>-999</td>\n",
       "    </tr>\n",
       "    <tr>\n",
       "      <th>3</th>\n",
       "      <td>1FGL J0533.0-8324</td>\n",
       "      <td>PKS 0541-834</td>\n",
       "      <td>83.41038</td>\n",
       "      <td>-83.40997</td>\n",
       "      <td>295.814702</td>\n",
       "      <td>-29.142285</td>\n",
       "      <td>0.017</td>\n",
       "      <td>0.078</td>\n",
       "      <td>0.99</td>\n",
       "      <td>FSRQ</td>\n",
       "      <td>...</td>\n",
       "      <td>4.000000e-10</td>\n",
       "      <td>2.33</td>\n",
       "      <td>0.12</td>\n",
       "      <td>10.5</td>\n",
       "      <td>Y</td>\n",
       "      <td>N</td>\n",
       "      <td>S</td>\n",
       "      <td>Y</td>\n",
       "      <td>H</td>\n",
       "      <td>-999</td>\n",
       "    </tr>\n",
       "    <tr>\n",
       "      <th>4</th>\n",
       "      <td>1FGL J2259.9-8255</td>\n",
       "      <td>PMN-CA J2257-8246</td>\n",
       "      <td>344.49800</td>\n",
       "      <td>-82.78153</td>\n",
       "      <td>307.032865</td>\n",
       "      <td>-33.420291</td>\n",
       "      <td>0.163</td>\n",
       "      <td>0.142</td>\n",
       "      <td>0.00</td>\n",
       "      <td>Unknown</td>\n",
       "      <td>...</td>\n",
       "      <td>4.000000e-10</td>\n",
       "      <td>2.11</td>\n",
       "      <td>0.20</td>\n",
       "      <td>4.3</td>\n",
       "      <td>N</td>\n",
       "      <td>N</td>\n",
       "      <td>-999</td>\n",
       "      <td>N</td>\n",
       "      <td>A</td>\n",
       "      <td>-999</td>\n",
       "    </tr>\n",
       "    <tr>\n",
       "      <th>5</th>\n",
       "      <td>1FGL J1153.4-8108</td>\n",
       "      <td>PMN-CA J1149-8112</td>\n",
       "      <td>177.28579</td>\n",
       "      <td>-81.20531</td>\n",
       "      <td>300.449095</td>\n",
       "      <td>-18.635372</td>\n",
       "      <td>0.176</td>\n",
       "      <td>0.248</td>\n",
       "      <td>0.00</td>\n",
       "      <td>Unknown</td>\n",
       "      <td>...</td>\n",
       "      <td>4.000000e-10</td>\n",
       "      <td>2.44</td>\n",
       "      <td>0.16</td>\n",
       "      <td>6.3</td>\n",
       "      <td>N</td>\n",
       "      <td>N</td>\n",
       "      <td>-999</td>\n",
       "      <td>N</td>\n",
       "      <td>A</td>\n",
       "      <td>-999</td>\n",
       "    </tr>\n",
       "    <tr>\n",
       "      <th>6</th>\n",
       "      <td>1FGL J1153.4-8108</td>\n",
       "      <td>PKS 1153-807</td>\n",
       "      <td>178.94242</td>\n",
       "      <td>-81.02178</td>\n",
       "      <td>300.664920</td>\n",
       "      <td>-18.396040</td>\n",
       "      <td>0.154</td>\n",
       "      <td>0.248</td>\n",
       "      <td>0.00</td>\n",
       "      <td>Unknown</td>\n",
       "      <td>...</td>\n",
       "      <td>4.000000e-10</td>\n",
       "      <td>2.44</td>\n",
       "      <td>0.16</td>\n",
       "      <td>6.3</td>\n",
       "      <td>N</td>\n",
       "      <td>N</td>\n",
       "      <td>-999</td>\n",
       "      <td>N</td>\n",
       "      <td>A</td>\n",
       "      <td>-999</td>\n",
       "    </tr>\n",
       "    <tr>\n",
       "      <th>7</th>\n",
       "      <td>1FGL J1927.3-7932</td>\n",
       "      <td>CRATES J1923-8007</td>\n",
       "      <td>290.77337</td>\n",
       "      <td>-80.12478</td>\n",
       "      <td>314.029400</td>\n",
       "      <td>-28.050093</td>\n",
       "      <td>0.614</td>\n",
       "      <td>0.483</td>\n",
       "      <td>0.00</td>\n",
       "      <td>Unknown</td>\n",
       "      <td>...</td>\n",
       "      <td>-9.990000e+02</td>\n",
       "      <td>2.80</td>\n",
       "      <td>0.17</td>\n",
       "      <td>5.6</td>\n",
       "      <td>N</td>\n",
       "      <td>N</td>\n",
       "      <td>-999</td>\n",
       "      <td>N</td>\n",
       "      <td>A</td>\n",
       "      <td>-999</td>\n",
       "    </tr>\n",
       "    <tr>\n",
       "      <th>8</th>\n",
       "      <td>1FGL J1058.1-8006</td>\n",
       "      <td>PKS 1057-79</td>\n",
       "      <td>164.68083</td>\n",
       "      <td>-80.06506</td>\n",
       "      <td>298.009517</td>\n",
       "      <td>-18.288102</td>\n",
       "      <td>0.055</td>\n",
       "      <td>0.112</td>\n",
       "      <td>1.00</td>\n",
       "      <td>BLL</td>\n",
       "      <td>...</td>\n",
       "      <td>4.000000e-10</td>\n",
       "      <td>2.45</td>\n",
       "      <td>0.10</td>\n",
       "      <td>11.8</td>\n",
       "      <td>Y</td>\n",
       "      <td>N</td>\n",
       "      <td>S</td>\n",
       "      <td>Y</td>\n",
       "      <td>H</td>\n",
       "      <td>-999</td>\n",
       "    </tr>\n",
       "    <tr>\n",
       "      <th>9</th>\n",
       "      <td>1FGL J1927.3-7932</td>\n",
       "      <td>CRATES J1916-7946</td>\n",
       "      <td>289.18471</td>\n",
       "      <td>-79.77275</td>\n",
       "      <td>314.437854</td>\n",
       "      <td>-27.784554</td>\n",
       "      <td>0.530</td>\n",
       "      <td>0.483</td>\n",
       "      <td>0.00</td>\n",
       "      <td>FSRQ</td>\n",
       "      <td>...</td>\n",
       "      <td>-9.990000e+02</td>\n",
       "      <td>2.80</td>\n",
       "      <td>0.17</td>\n",
       "      <td>5.6</td>\n",
       "      <td>N</td>\n",
       "      <td>N</td>\n",
       "      <td>-999</td>\n",
       "      <td>N</td>\n",
       "      <td>A</td>\n",
       "      <td>-999</td>\n",
       "    </tr>\n",
       "  </tbody>\n",
       "</table>\n",
       "<p>10 rows × 24 columns</p>\n",
       "</div>"
      ],
      "text/plain": [
       "                name           agn_name         ra       dec         lii  \\\n",
       "0  1FGL J1028.7-8543        PKS 1029-85  156.64650 -85.72086  300.173578   \n",
       "1  1FGL J0048.0-8412        PKS 0044-84   11.11192 -84.37781  303.135446   \n",
       "2  1FGL J2201.6-8327        PKS 2155-83  330.58221 -83.63653  307.962017   \n",
       "3  1FGL J0533.0-8324       PKS 0541-834   83.41038 -83.40997  295.814702   \n",
       "4  1FGL J2259.9-8255  PMN-CA J2257-8246  344.49800 -82.78153  307.032865   \n",
       "5  1FGL J1153.4-8108  PMN-CA J1149-8112  177.28579 -81.20531  300.449095   \n",
       "6  1FGL J1153.4-8108       PKS 1153-807  178.94242 -81.02178  300.664920   \n",
       "7  1FGL J1927.3-7932  CRATES J1923-8007  290.77337 -80.12478  314.029400   \n",
       "8  1FGL J1058.1-8006        PKS 1057-79  164.68083 -80.06506  298.009517   \n",
       "9  1FGL J1927.3-7932  CRATES J1916-7946  289.18471 -79.77275  314.437854   \n",
       "\n",
       "         bii  angular_separation  error_radius  assoc_probability  \\\n",
       "0 -23.649071               0.041         0.262               0.95   \n",
       "1 -32.747679               0.191         0.229               0.96   \n",
       "2 -31.746332               0.181         0.191               0.85   \n",
       "3 -29.142285               0.017         0.078               0.99   \n",
       "4 -33.420291               0.163         0.142               0.00   \n",
       "5 -18.635372               0.176         0.248               0.00   \n",
       "6 -18.396040               0.154         0.248               0.00   \n",
       "7 -28.050093               0.614         0.483               0.00   \n",
       "8 -18.288102               0.055         0.112               1.00   \n",
       "9 -27.784554               0.530         0.483               0.00   \n",
       "\n",
       "  optical_class  ... photon_flux_error  spectral_index spectral_index_error  \\\n",
       "0       Unknown  ...      4.000000e-10            2.55                 0.19   \n",
       "1          FSRQ  ...     -9.990000e+02            2.69                 0.17   \n",
       "2          FSRQ  ...      4.000000e-10            2.74                 0.11   \n",
       "3          FSRQ  ...      4.000000e-10            2.33                 0.12   \n",
       "4       Unknown  ...      4.000000e-10            2.11                 0.20   \n",
       "5       Unknown  ...      4.000000e-10            2.44                 0.16   \n",
       "6       Unknown  ...      4.000000e-10            2.44                 0.16   \n",
       "7       Unknown  ...     -9.990000e+02            2.80                 0.17   \n",
       "8           BLL  ...      4.000000e-10            2.45                 0.10   \n",
       "9          FSRQ  ...     -9.990000e+02            2.80                 0.17   \n",
       "\n",
       "   detection_significance  variability_flag  curvature_flag  note_flag  \\\n",
       "0                     4.7                 N               N          S   \n",
       "1                     5.6                 N               N          S   \n",
       "2                     9.3                 Y               N          S   \n",
       "3                    10.5                 Y               N          S   \n",
       "4                     4.3                 N               N       -999   \n",
       "5                     6.3                 N               N       -999   \n",
       "6                     6.3                 N               N       -999   \n",
       "7                     5.6                 N               N       -999   \n",
       "8                    11.8                 Y               N          S   \n",
       "9                     5.6                 N               N       -999   \n",
       "\n",
       "   clean_flag type_flag null  \n",
       "0           Y         H -999  \n",
       "1           Y         H -999  \n",
       "2           Y         H -999  \n",
       "3           Y         H -999  \n",
       "4           N         A -999  \n",
       "5           N         A -999  \n",
       "6           N         A -999  \n",
       "7           N         A -999  \n",
       "8           Y         H -999  \n",
       "9           N         A -999  \n",
       "\n",
       "[10 rows x 24 columns]"
      ]
     },
     "execution_count": 17,
     "metadata": {},
     "output_type": "execute_result"
    }
   ],
   "source": [
    "dat_as_df.head(10) "
   ]
  },
  {
   "cell_type": "markdown",
   "metadata": {},
   "source": [
    "*Eixos duplicados em gráficos*"
   ]
  },
  {
   "cell_type": "code",
   "execution_count": 26,
   "metadata": {},
   "outputs": [
    {
     "data": {
      "image/png": "[encoded data removed]",
      "text/plain": [
       "<Figure size 460.8x345.6 with 2 Axes>"
      ]
     },
     "metadata": {
      "needs_background": "light"
     },
     "output_type": "display_data"
    }
   ],
   "source": [
    "fig, ax1 = plt.subplots()\n",
    "ax2 = ax1.twinx()\n",
    "t = np.linspace(0, 10, 10**3)\n",
    "ax1.plot(t, t**2, '-', color='forestgreen')\n",
    "ax2.plot(t, 1e3/(t+1), '--', color='mediumvioletred')\n",
    "ax1.set_ylabel(r\"$t^2$\", color='forestgreen')\n",
    "ax2.set_ylabel(r\"$\\dfrac{10^3}{t+1}$\", color='mediumvioletred', labelpad=10)\n",
    "ax1.set_xlabel(\"$t$\")\n",
    "plt.show()"
   ]
  },
  {
   "cell_type": "markdown",
   "metadata": {},
   "source": [
    "*Colorbars*"
   ]
  },
  {
   "cell_type": "code",
   "execution_count": 38,
   "metadata": {},
   "outputs": [
    {
     "data": {
      "image/png": "[encoded data removed]",
      "text/plain": [
       "<Figure size 460.8x345.6 with 2 Axes>"
      ]
     },
     "metadata": {
      "needs_background": "light"
     },
     "output_type": "display_data"
    }
   ],
   "source": [
    "fig, ax = plt.subplots()\n",
    "image = np.random.poisson(10.0, (100, 80))\n",
    "img = ax.imshow(image, interpolation='nearest', cmap=plt.cm.rainbow)\n",
    "cb = fig.colorbar(img, shrink=0.9, pad=0.05)\n",
    "cb.set_label(r\"$X \\sim \\mathrm{Poisson}(10.0)$\", labelpad=10)\n",
    "plt.show()"
   ]
  },
  {
   "cell_type": "code",
   "execution_count": 39,
   "metadata": {},
   "outputs": [
    {
     "name": "stdout",
     "output_type": "stream",
     "text": [
      "<class 'pandas.core.frame.DataFrame'>\n",
      "RangeIndex: 869 entries, 0 to 868\n",
      "Data columns (total 24 columns):\n",
      " #   Column                  Non-Null Count  Dtype  \n",
      "---  ------                  --------------  -----  \n",
      " 0   name                    869 non-null    object \n",
      " 1   agn_name                869 non-null    object \n",
      " 2   ra                      869 non-null    float64\n",
      " 3   dec                     869 non-null    float64\n",
      " 4   lii                     869 non-null    float64\n",
      " 5   bii                     869 non-null    float64\n",
      " 6   angular_separation      869 non-null    float64\n",
      " 7   error_radius            869 non-null    float64\n",
      " 8   assoc_probability       869 non-null    float64\n",
      " 9   optical_class           869 non-null    object \n",
      " 10  sed_class               869 non-null    object \n",
      " 11  redshift                869 non-null    float64\n",
      " 12  photon_flux_limit       869 non-null    object \n",
      " 13  photon_flux             869 non-null    float64\n",
      " 14  photon_flux_error       869 non-null    float64\n",
      " 15  spectral_index          869 non-null    float64\n",
      " 16  spectral_index_error    869 non-null    float64\n",
      " 17  detection_significance  869 non-null    float64\n",
      " 18  variability_flag        869 non-null    object \n",
      " 19  curvature_flag          869 non-null    object \n",
      " 20  note_flag               869 non-null    object \n",
      " 21  clean_flag              869 non-null    object \n",
      " 22  type_flag               869 non-null    object \n",
      " 23  null                    869 non-null    int64  \n",
      "dtypes: float64(13), int64(1), object(10)\n",
      "memory usage: 163.1+ KB\n"
     ]
    }
   ],
   "source": [
    "dat_as_df.info()"
   ]
  },
  {
   "cell_type": "code",
   "execution_count": null,
   "metadata": {},
   "outputs": [],
   "source": [
    "dat_as_df.loc[dat_as_d]"
   ]
  },
  {
   "cell_type": "code",
   "execution_count": 57,
   "metadata": {},
   "outputs": [
    {
     "data": {
      "image/png": "[encoded data removed]",
      "text/plain": [
       "<Figure size 460.8x345.6 with 1 Axes>"
      ]
     },
     "metadata": {
      "needs_background": "light"
     },
     "output_type": "display_data"
    }
   ],
   "source": [
    "plt.hist(dat_as_df.loc[dat_as_df['photon_flux'] < 1e-8]['photon_flux'], bins=20, \n",
    "         rwidth=0.8, color='gray', density=True, edgecolor='k')\n",
    "plt.show()"
   ]
  },
  {
   "cell_type": "code",
   "execution_count": 69,
   "metadata": {},
   "outputs": [
    {
     "data": {
      "image/png": "[encoded data removed]",
      "text/plain": [
       "<Figure size 460.8x345.6 with 1 Axes>"
      ]
     },
     "metadata": {
      "needs_background": "light"
     },
     "output_type": "display_data"
    }
   ],
   "source": [
    "plt.scatter(dat_as_df['photon_flux'], dat_as_df['spectral_index'], \n",
    "            s=20, color='gray', )\n",
    "plt.xlim(0.2e-9, 3e-9)\n",
    "plt.show()"
   ]
  },
  {
   "cell_type": "code",
   "execution_count": 71,
   "metadata": {},
   "outputs": [],
   "source": [
    "joint_tab = dat_as_df.loc[:, ['photon_flux', 'spectral_index']]"
   ]
  },
  {
   "cell_type": "code",
   "execution_count": 86,
   "metadata": {},
   "outputs": [],
   "source": [
    "a = joint_tab['photon_flux'].value_counts()"
   ]
  },
  {
   "cell_type": "code",
   "execution_count": 100,
   "metadata": {},
   "outputs": [
    {
     "data": {
      "image/png": "[encoded data removed]",
      "text/plain": [
       "<Figure size 460.8x345.6 with 1 Axes>"
      ]
     },
     "metadata": {
      "needs_background": "light"
     },
     "output_type": "display_data"
    }
   ],
   "source": [
    "plt.hist(joint_tab.loc[joint_tab['photon_flux'] == 7.0e-10]['spectral_index'],  bins=20, \n",
    "         rwidth=0.8, color='gray', density=True, edgecolor='k')\n",
    "plt.show()"
   ]
  },
  {
   "cell_type": "markdown",
   "metadata": {},
   "source": [
    "### FITS "
   ]
  },
  {
   "cell_type": "code",
   "execution_count": 115,
   "metadata": {},
   "outputs": [],
   "source": [
    "import matplotlib.colors as colors"
   ]
  },
  {
   "cell_type": "code",
   "execution_count": 101,
   "metadata": {},
   "outputs": [],
   "source": [
    "from astropy.io import fits"
   ]
  },
  {
   "cell_type": "code",
   "execution_count": 102,
   "metadata": {},
   "outputs": [],
   "source": [
    "fits_image_file = fits.util.get_testdata_filepath('test0.fits')"
   ]
  },
  {
   "cell_type": "code",
   "execution_count": 113,
   "metadata": {},
   "outputs": [
    {
     "name": "stdout",
     "output_type": "stream",
     "text": [
      "Filename: /home/mpotto/anaconda3/envs/astroph/lib/python3.7/site-packages/astropy/io/fits/tests/data/test0.fits\n",
      "No.    Name      Ver    Type      Cards   Dimensions   Format\n",
      "  0  PRIMARY       1 PrimaryHDU     138   ()      \n",
      "  1  SCI           1 ImageHDU        61   (40, 40)   int16   \n",
      "  2  SCI           2 ImageHDU        61   (40, 40)   int16   \n",
      "  3  SCI           3 ImageHDU        61   (40, 40)   int16   \n",
      "  4  SCI           4 ImageHDU        61   (40, 40)   int16   \n"
     ]
    }
   ],
   "source": [
    "with fits.open(fits_image_file) as hdul:\n",
    "    hdul.info()\n",
    "    header = hdul[0].header\n",
    "    image = hdul[2].data"
   ]
  },
  {
   "cell_type": "code",
   "execution_count": 130,
   "metadata": {},
   "outputs": [],
   "source": [
    "fits_table_file = fits.util.get_testdata_filepath(\"tb.fits\")"
   ]
  },
  {
   "cell_type": "code",
   "execution_count": 131,
   "metadata": {},
   "outputs": [],
   "source": [
    "hdul = fits.open(fits_table_file)"
   ]
  },
  {
   "cell_type": "code",
   "execution_count": 132,
   "metadata": {},
   "outputs": [
    {
     "name": "stdout",
     "output_type": "stream",
     "text": [
      "Filename: /home/mpotto/anaconda3/envs/astroph/lib/python3.7/site-packages/astropy/io/fits/tests/data/tb.fits\n",
      "No.    Name      Ver    Type      Cards   Dimensions   Format\n",
      "  0  PRIMARY       1 PrimaryHDU      11   ()      \n",
      "  1                1 BinTableHDU     24   2R x 4C   [1J, 3A, 1E, 1L]   \n"
     ]
    }
   ],
   "source": [
    "hdul.info()"
   ]
  },
  {
   "cell_type": "code",
   "execution_count": 133,
   "metadata": {},
   "outputs": [],
   "source": [
    "header_tab = hdul[0].header"
   ]
  },
  {
   "cell_type": "code",
   "execution_count": 137,
   "metadata": {},
   "outputs": [],
   "source": [
    "data = hdul[1].data"
   ]
  },
  {
   "cell_type": "code",
   "execution_count": 139,
   "metadata": {},
   "outputs": [
    {
     "data": {
      "text/plain": [
       "astropy.io.fits.fitsrec.FITS_rec"
      ]
     },
     "execution_count": 139,
     "metadata": {},
     "output_type": "execute_result"
    }
   ],
   "source": [
    "type(data)"
   ]
  },
  {
   "cell_type": "code",
   "execution_count": 143,
   "metadata": {},
   "outputs": [],
   "source": [
    "import astropy"
   ]
  },
  {
   "cell_type": "code",
   "execution_count": 146,
   "metadata": {},
   "outputs": [],
   "source": [
    "#help(astropy.io.fits.fitsrec.FITS_rec)"
   ]
  },
  {
   "cell_type": "code",
   "execution_count": 160,
   "metadata": {},
   "outputs": [
    {
     "data": {
      "text/plain": [
       "FITS_rec([(1, 'abc', 3.70000007,  0), (2, 'xy', 6.69999971,  1)],\n",
       "         dtype=(numpy.record, [('c1', '>i4'), ('c2', 'S3'), ('c3', '>f4'), ('c4', 'i1')]))"
      ]
     },
     "execution_count": 160,
     "metadata": {},
     "output_type": "execute_result"
    }
   ],
   "source": [
    "data"
   ]
  },
  {
   "cell_type": "code",
   "execution_count": 158,
   "metadata": {},
   "outputs": [
    {
     "data": {
      "text/plain": [
       "(2,)"
      ]
     },
     "execution_count": 158,
     "metadata": {},
     "output_type": "execute_result"
    }
   ],
   "source": [
    "data.shape"
   ]
  },
  {
   "cell_type": "code",
   "execution_count": 151,
   "metadata": {},
   "outputs": [
    {
     "data": {
      "text/plain": [
       "(1, 'abc', 3.7000000715255736, False)"
      ]
     },
     "execution_count": 151,
     "metadata": {},
     "output_type": "execute_result"
    }
   ],
   "source": [
    "data[0]"
   ]
  },
  {
   "cell_type": "code",
   "execution_count": 164,
   "metadata": {},
   "outputs": [
    {
     "data": {
      "text/plain": [
       "chararray(['abc', 'xy'], dtype='<U3')"
      ]
     },
     "execution_count": 164,
     "metadata": {},
     "output_type": "execute_result"
    }
   ],
   "source": [
    "data.field(1)"
   ]
  },
  {
   "cell_type": "code",
   "execution_count": 155,
   "metadata": {},
   "outputs": [
    {
     "data": {
      "text/plain": [
       "\u001b[0;31mSignature:\u001b[0m \u001b[0mdata\u001b[0m\u001b[0;34m.\u001b[0m\u001b[0mfield\u001b[0m\u001b[0;34m(\u001b[0m\u001b[0mkey\u001b[0m\u001b[0;34m)\u001b[0m\u001b[0;34m\u001b[0m\u001b[0;34m\u001b[0m\u001b[0m\n",
       "\u001b[0;31mDocstring:\u001b[0m A view of a `Column`'s data as an array.\n",
       "\u001b[0;31mFile:\u001b[0m      ~/anaconda3/envs/astroph/lib/python3.7/site-packages/astropy/io/fits/fitsrec.py\n",
       "\u001b[0;31mType:\u001b[0m      method\n"
      ]
     },
     "metadata": {},
     "output_type": "display_data"
    }
   ],
   "source": [
    "data.field?"
   ]
  },
  {
   "cell_type": "code",
   "execution_count": 165,
   "metadata": {},
   "outputs": [],
   "source": [
    "cols = hdul[1].columns"
   ]
  },
  {
   "cell_type": "code",
   "execution_count": 166,
   "metadata": {},
   "outputs": [
    {
     "data": {
      "text/plain": [
       "ColDefs(\n",
       "    name = 'c1'; format = '1J'; null = -2147483647; disp = 'I11'\n",
       "    name = 'c2'; format = '3A'; disp = 'A3'\n",
       "    name = 'c3'; format = '1E'; bscale = 3; bzero = 0.4; disp = 'G15.7'\n",
       "    name = 'c4'; format = '1L'; disp = 'L6'\n",
       ")"
      ]
     },
     "execution_count": 166,
     "metadata": {},
     "output_type": "execute_result"
    }
   ],
   "source": [
    "cols"
   ]
  },
  {
   "cell_type": "code",
   "execution_count": 173,
   "metadata": {},
   "outputs": [
    {
     "data": {
      "text/plain": [
       "\u001b[0;31mType:\u001b[0m           ColDefs\n",
       "\u001b[0;31mString form:\u001b[0m   \n",
       "ColDefs(\n",
       "           name = 'c1'; format = '1J'; null = -2147483647; disp = 'I11'\n",
       "           name = 'c2'; format <...> mat = '1E'; bscale = 3; bzero = 0.4; disp = 'G15.7'\n",
       "           name = 'c4'; format = '1L'; disp = 'L6'\n",
       "           )\n",
       "\u001b[0;31mLength:\u001b[0m         4\n",
       "\u001b[0;31mFile:\u001b[0m           ~/anaconda3/envs/astroph/lib/python3.7/site-packages/astropy/io/fits/column.py\n",
       "\u001b[0;31mDocstring:\u001b[0m     \n",
       "Column definitions class.\n",
       "\n",
       "It has attributes corresponding to the `Column` attributes\n",
       "(e.g. `ColDefs` has the attribute ``names`` while `Column`\n",
       "has ``name``). Each attribute in `ColDefs` is a list of\n",
       "corresponding attribute values from all `Column` objects.\n",
       "\u001b[0;31mInit docstring:\u001b[0m\n",
       "Parameters\n",
       "----------\n",
       "\n",
       "input : sequence of `Column`, `ColDefs`, other\n",
       "    An existing table HDU, an existing `ColDefs`, or any multi-field\n",
       "    Numpy array or `numpy.recarray`.\n",
       "\n",
       "ascii : bool\n",
       "    Use True to ensure that ASCII table columns are used.\n"
      ]
     },
     "metadata": {},
     "output_type": "display_data"
    }
   ],
   "source": [
    "cols?"
   ]
  },
  {
   "cell_type": "code",
   "execution_count": 168,
   "metadata": {},
   "outputs": [
    {
     "name": "stdout",
     "output_type": "stream",
     "text": [
      "name:\n",
      "    ['c1', 'c2', 'c3', 'c4']\n",
      "format:\n",
      "    ['1J', '3A', '1E', '1L']\n",
      "unit:\n",
      "    ['', '', '', '']\n",
      "null:\n",
      "    [-2147483647, '', '', '']\n",
      "bscale:\n",
      "    ['', '', 3, '']\n",
      "bzero:\n",
      "    ['', '', 0.4, '']\n",
      "disp:\n",
      "    ['I11', 'A3', 'G15.7', 'L6']\n",
      "start:\n",
      "    ['', '', '', '']\n",
      "dim:\n",
      "    ['', '', '', '']\n",
      "coord_type:\n",
      "    ['', '', '', '']\n",
      "coord_unit:\n",
      "    ['', '', '', '']\n",
      "coord_ref_point:\n",
      "    ['', '', '', '']\n",
      "coord_ref_value:\n",
      "    ['', '', '', '']\n",
      "coord_inc:\n",
      "    ['', '', '', '']\n",
      "time_ref_pos:\n",
      "    ['', '', '', '']\n"
     ]
    }
   ],
   "source": [
    "cols.info()"
   ]
  },
  {
   "cell_type": "code",
   "execution_count": null,
   "metadata": {},
   "outputs": [],
   "source": [
    "hdul.close()"
   ]
  }
 ],
 "metadata": {
  "kernelspec": {
   "display_name": "Python 3",
   "language": "python",
   "name": "python3"
  },
  "language_info": {
   "codemirror_mode": {
    "name": "ipython",
    "version": 3
   },
   "file_extension": ".py",
   "mimetype": "text/x-python",
   "name": "python",
   "nbconvert_exporter": "python",
   "pygments_lexer": "ipython3",
   "version": "3.7.6"
  }
 },
 "nbformat": 4,
 "nbformat_minor": 4
}
