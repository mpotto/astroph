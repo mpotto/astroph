{
 "cells": [
  {
   "cell_type": "markdown",
   "metadata": {},
   "source": [
    "# Fermipy\n",
    "\n",
    "Notes on the [fermipy quickstart guide](https://fermipy.readthedocs.io/en/latest/quickstart.html) and on the notebook tutorials.\n",
    "\n",
    "**Contents**\n",
    "* [Quickstart guide](#Quickstart-guide)\n",
    "* [Creating an Analysis Script](#Creating-an-Analysis-Script)\n",
    "* [Extracting Analysis Results](#Extracting-Analysis-Results)\n",
    "* [*Extra*: queries and download data with astroquery](#Querying-and-Downloading-data-with-astroquery)\n",
    "\n",
    "**References**\n",
    "* [Mapping on the HEALPix grid - Calabretta *et al.*](https://fits.gsfc.nasa.gov/wcs/mhg_20050615.pdf)\n",
    "* [The HEALPix Primer - Górski *et al.*](https://healpix.jpl.nasa.gov/pdf/intro.pdf)\n",
    "* [Data Analysis on the Sphere - Sureau *et al.*](http://ada7.cosmostat.org/ADA7_Tutorial_6.pdf)\n",
    "* [Galactic Interstellar Emission Model for the 4FGL Catalog Analysis - *Fermi*-LAT Collaboration](https://fermi.gsfc.nasa.gov/ssc/data/analysis/software/aux/4fgl/Galactic_Diffuse_Emission_Model_for_the_4FGL_Catalog_Analysis.pdf)"
   ]
  },
  {
   "cell_type": "markdown",
   "metadata": {},
   "source": [
    "## Quickstart guide\n",
    "\n",
    "[**&uarr; Return to Contents**](#Fermipy)"
   ]
  },
  {
   "cell_type": "code",
   "execution_count": 1,
   "metadata": {},
   "outputs": [
    {
     "name": "stdout",
     "output_type": "stream",
     "text": [
      "/home/mpotto/Pesquisa/astroph/tutorials/fermipy/mkn421\n"
     ]
    }
   ],
   "source": [
    "% cd /home/mpotto/Pesquisa/astroph/tutorials/fermipy/mkn421"
   ]
  },
  {
   "cell_type": "markdown",
   "metadata": {},
   "source": [
    "### Create a Configuration file\n",
    "\n",
    "Check the syntax on the page [Configuration](https://fermipy.readthedocs.io/en/latest/config.html#config), [Cicerone Glossary](https://fermi.gsfc.nasa.gov/ssc/data/analysis/documentation/Cicerone/Glossary.html) and other Cicerone threads for more info. Configuration files defines the data selection and analysis parameters. \n",
    "\n",
    "Our documented configuration file is ```config.yaml```.\n",
    "\n",
    "```yaml\n",
    "data:\n",
    "# The data section defines the input data files for the analysis.\n",
    "\n",
    "  evfile : ft1.lst      # Path to FT1 files or list or list of files.          \n",
    "  scfile : ft2.fits     # Path to FT2 (spacecraft) file. The spacecraft FITS file with the time history of the spacecraft position, LAT orientation and LAT livetime. Also called an FT2 file.\n",
    "  ltcube : ltcube.fits  # Path to livetime cube.\n",
    "\n",
    "binning:\n",
    "# The binning section controls the spatial and binning of the data.\n",
    "\n",
    "  roiwidth   : 10.0     # width of the ROI in degrees.\n",
    "  binsz      : 0.1      # spatial bin size in degrees.\n",
    "  binsperdec : 8        # number of bins per decade.\n",
    "\n",
    "selection :\n",
    "# The selection section collects parameters relatedd to the data selection and target definition. The majority of the parameters are arguments to gtselect and gtmktime.\n",
    "\n",
    "  emin : 100            # Minimum energy (MeV)\n",
    "  emax : 316227.76      # Maximum energy (MeV)\n",
    "  zmax    : 90          # Maximum zenith angle.\n",
    "  evclass : 128         # Event class selection.\n",
    "  evtype  : 3           # Event type selection according to the IRF (in our case P8R2, Pass 8 Release 2)\n",
    "  tmin    : 239557414   # Minimum time (MET, Mission Elapsed Time)\n",
    "  tmax    : 428903014   # Maximum time (MET)\n",
    "  filter  : null        # Filter string for gtmktime selection.\n",
    "  target : 'mkn421'     # Object on which to center the ROI. Has precedence over ra/dec or glon/glat\n",
    "\n",
    "gtlike:\n",
    "# The gtlike section controls the setup of the likelihood analysis \n",
    "\n",
    "  edisp : True                              # Enable correction for energy dispersion.\n",
    "  irfs : 'P8R2_SOURCE_V6'                   # Set the IRF (Instrument Response Function) string.\n",
    "  edisp_disable : ['isodiff','galdiff']     # List of sources for which edisp correction should be disabled.\n",
    "\n",
    "model:\n",
    "# The model section collects options that control the inclusion of point-source and difuse\n",
    "# components in the model. 'galdiff' and 'isodiff' sets the templates for the Galactic IEM\n",
    "# (Interstellar emission model) and istropic diffuse.\n",
    "\n",
    "  src_roiwidth : 15.0                                   # Width of square region in degrees centered on the ROI that selects sources for inclusion in the model. If this parameter is none  then no selection is applied. This selection will be ORed with the src_radius selection.\n",
    "  galdiff  : '$FERMI_DIFFUSE_DIR/gll_iem_v07.fits'      # Set the path to one or more galactic IEM mapcubes. A separate component will be generated for each item in this list.\n",
    "  isodiff  : 'iso_P8R2_SOURCE_V6_v06.txt'               # Set the path to one or more isotropic templates. A separate component will be generated for each item in this list.\n",
    "  catalogs : ['4FGL']                                   # List of catalogs that will be merged to form a master analysis catalog from which sources will be drawn. FGL stands for Fermi Gamma-ray LAT. 1FGL was released at 1 year, 2FGL at 2 year and 3FGL at 4 year. 4FGL was released on February 2019 and is based on 8 years (50 MeV - 1 TeV range).\n",
    "\n",
    "#components:\n",
    "# The components section gives the user the option to combine multiple data selections into a joint likelihood. It contains a list of dictionaries with the same hierarchy as the root analysis configuration. Each element of the list defines the analysis parameters for an independent sub-selection of the data. Any component not defined in the dictionary default to the value defined in the root config. \n",
    "\n",
    "# Example (changing event types in the IRF)\n",
    "\n",
    "#    - { selection: { evtype : 4} }      # Set the evtype to PSF0 \n",
    "#    - { selection: { evtype : 8} }      # PSF1\n",
    "#    - { selection: { evtype : 16} }     # PSF2\n",
    "#    - { selection: { evtype : 32} }     # PSF3\n",
    "```"
   ]
  },
  {
   "cell_type": "markdown",
   "metadata": {},
   "source": [
    "## Creating an Analysis Script\n",
    "\n",
    "[**&uarr; Return to Contents**](#Fermipy)"
   ]
  },
  {
   "cell_type": "code",
   "execution_count": 2,
   "metadata": {},
   "outputs": [],
   "source": [
    "from fermipy.gtanalysis import GTAnalysis"
   ]
  },
  {
   "cell_type": "code",
   "execution_count": 3,
   "metadata": {},
   "outputs": [
    {
     "name": "stderr",
     "output_type": "stream",
     "text": [
      "2020-03-15 21:02:57 INFO    GTAnalysis.__init__(): \n",
      "--------------------------------------------------------------------------------\n",
      "fermipy version 0.18.1 \n",
      "ScienceTools version unknown\n"
     ]
    }
   ],
   "source": [
    "gta = GTAnalysis('config.yaml', logging={'verbosity': 3})"
   ]
  },
  {
   "cell_type": "markdown",
   "metadata": {},
   "source": [
    "Data preparation and response calculations (selecting data, creating counts and exposure maps, *etc.*). This step is *cached* so subsequent calls will run much faster."
   ]
  },
  {
   "cell_type": "code",
   "execution_count": 4,
   "metadata": {},
   "outputs": [
    {
     "name": "stderr",
     "output_type": "stream",
     "text": [
      "2020-03-15 21:02:59 INFO    GTAnalysis.setup(): Running setup.\n",
      "2020-03-15 21:02:59 INFO    GTBinnedAnalysis.setup(): Running setup for component 00\n",
      "2020-03-15 21:02:59 INFO    GTBinnedAnalysis._select_data(): Skipping data selection.\n",
      "2020-03-15 21:02:59 INFO    GTBinnedAnalysis.setup(): Using external LT cube.\n",
      "2020-03-15 21:03:00 INFO    GTBinnedAnalysis._create_expcube(): Skipping gtexpcube.\n",
      "WARNING: FITSFixedWarning: RADECSYS= 'FK5 ' \n",
      "the RADECSYS keyword is deprecated, use RADESYSa. [astropy.wcs.wcs]\n",
      "2020-03-15 21:03:00 INFO    GTBinnedAnalysis._create_srcmaps(): Skipping gtsrcmaps.\n",
      "2020-03-15 21:03:00 INFO    GTBinnedAnalysis.setup(): Finished setup for component 00\n",
      "2020-03-15 21:03:00 INFO    GTBinnedAnalysis._create_binned_analysis(): Creating BinnedAnalysis for component 00.\n",
      "2020-03-15 21:03:45 INFO    GTAnalysis.setup(): Initializing source properties\n",
      "2020-03-15 21:03:51 INFO    GTAnalysis.setup(): Finished setup.\n"
     ]
    }
   ],
   "source": [
    "gta.setup()"
   ]
  },
  {
   "cell_type": "markdown",
   "metadata": {},
   "source": [
    "Loop over all model components in the ROI and fit their normalization and spectral shape parameters. Also computer the TS (test statistic) of all sources which can be useful to identify weak sources. "
   ]
  },
  {
   "cell_type": "code",
   "execution_count": 5,
   "metadata": {},
   "outputs": [
    {
     "name": "stderr",
     "output_type": "stream",
     "text": [
      "2020-03-15 21:03:51 INFO    GTAnalysis.optimize(): Starting\n"
     ]
    },
    {
     "name": "stdout",
     "output_type": "stream",
     "text": [
      "Joint fit  ['isodiff', 'galdiff', '4FGL J1104.4+3812', '4FGL J1112.5+3448', '4FGL J1127.8+3618']\n"
     ]
    },
    {
     "name": "stderr",
     "output_type": "stream",
     "text": [
      "/home/mpotto/anaconda3/envs/fermi/lib/python2.7/site-packages/scipy/interpolate/fitpack2.py:224: UserWarning: \n",
      "The maximal number of iterations maxit (set to 20 by the program)\n",
      "allowed for finding a smoothing spline with fp=s has been reached: s\n",
      "too small.\n",
      "There is an approximation returned but the corresponding weighted sum\n",
      "of squared residuals does not satisfy the condition abs(fp-s)/s < tol.\n",
      "  warnings.warn(message)\n"
     ]
    },
    {
     "name": "stdout",
     "output_type": "stream",
     "text": [
      "Fitting shape 4FGL J1104.4+3812 TS:  86171.358\n",
      "Fitting shape isodiff TS:  14504.756\n",
      "Fitting shape galdiff TS:   3572.598\n",
      "Fitting shape 4FGL J1120.8+4212 TS:   1100.555\n",
      "Fitting shape 4FGL J1112.5+3448 TS:    947.669\n",
      "Fitting shape 4FGL J1127.8+3618 TS:    808.873\n",
      "Fitting shape 4FGL J1100.3+4020 TS:    163.682\n",
      "Fitting shape 4FGL J1128.8+3757 TS:    153.984\n",
      "Fitting shape 4FGL J1129.1+3703 TS:    114.334\n",
      "Fitting shape 4FGL J1101.4+4108 TS:     90.001\n",
      "Fitting shape 4FGL J1131.0+3815 TS:     77.382\n",
      "Fitting shape 4FGL J1051.4+3942 TS:     74.626\n",
      "Fitting shape 4FGL J1101.5+3904 TS:     60.936\n",
      "Fitting shape 4FGL J1033.1+4115 TS:     44.325\n",
      "Fitting shape 4FGL J1109.6+3735 TS:     42.905\n",
      "Fitting shape 4FGL J1105.8+3944 TS:     27.748\n"
     ]
    },
    {
     "name": "stderr",
     "output_type": "stream",
     "text": [
      "2020-03-15 21:04:05 INFO    GTAnalysis.optimize(): Finished\n",
      "2020-03-15 21:04:05 INFO    GTAnalysis.optimize(): LogLike: -77165.495265 Delta-LogLike: 77.276440\n",
      "2020-03-15 21:04:05 INFO    GTAnalysis.optimize(): Execution time: 14.25 s\n"
     ]
    },
    {
     "data": {
      "text/plain": [
       "{'config': {'max_free_sources': 5,\n",
       "  'npred_frac': 0.95,\n",
       "  'npred_threshold': 1.0,\n",
       "  'optimizer': {'init_lambda': 0.0001,\n",
       "   'max_iter': 100,\n",
       "   'min_fit_quality': 2,\n",
       "   'optimizer': 'MINUIT',\n",
       "   'retries': 3,\n",
       "   'tol': 0.001,\n",
       "   'verbosity': 0},\n",
       "  'shape_ts_threshold': 25.0,\n",
       "  'skip': []},\n",
       " 'dloglike': 77.27644024101028,\n",
       " 'loglike0': -77242.77170543463,\n",
       " 'loglike1': -77165.49526519362}"
      ]
     },
     "execution_count": 5,
     "metadata": {},
     "output_type": "execute_result"
    }
   ],
   "source": [
    "gta.optimize();"
   ]
  },
  {
   "cell_type": "markdown",
   "metadata": {},
   "source": [
    "Print optimization results (notice the fitted spectrum type and ts)."
   ]
  },
  {
   "cell_type": "code",
   "execution_count": 6,
   "metadata": {},
   "outputs": [
    {
     "name": "stderr",
     "output_type": "stream",
     "text": [
      "2020-03-15 21:04:05 INFO    GTAnalysis.print_roi(): \n",
      "name                SpatialModel   SpectrumType     offset        ts       npred\n",
      "--------------------------------------------------------------------------------\n",
      "4FGL J1104.4+3812   PointSource    LogParabola       0.000  94758.00     29566.0\n",
      "4FGL J1101.5+3904   PointSource    PowerLaw          1.038     61.32      1344.3\n",
      "4FGL J1109.6+3735   PointSource    PowerLaw          1.192     43.90       121.8\n",
      "4FGL J1105.8+3944   PointSource    PowerLaw          1.558     28.81       244.7\n",
      "4FGL J1106.7+3623   PointSource    PowerLaw          1.863      5.44       336.8\n",
      "4FGL J1100.3+4020   PointSource    PowerLaw          2.272    163.80       319.9\n",
      "4FGL J1054.2+3926   PointSource    PowerLaw          2.343     24.93       299.2\n",
      "4FGL J1111.0+3542   PointSource    PowerLaw          2.820     12.54       109.7\n",
      "4FGL J1051.4+3942   PointSource    PowerLaw          2.942     77.00       155.9\n",
      "4FGL J1101.4+4108   PointSource    PowerLaw          2.994     92.89       156.5\n",
      "4FGL J1112.5+3448   PointSource    LogParabola       3.775   1053.14      2982.7\n",
      "4FGL J1041.7+3902   PointSource    PowerLaw          4.513     23.51       123.8\n",
      "4FGL J1128.8+3757   PointSource    PowerLaw          4.795    141.21       651.3\n",
      "4FGL J1127.8+3618   PointSource    PowerLaw          5.021    821.87      1964.4\n",
      "4FGL J1129.1+3703   PointSource    PowerLaw          5.022    116.22       419.2\n",
      "4FGL J1120.8+4212   PointSource    PowerLaw          5.068   1104.64       711.3\n",
      "4FGL J1131.0+3815   PointSource    LogParabola       5.212     70.58       891.1\n",
      "4FGL J1051.6+3253   PointSource    PowerLaw          5.926      5.02       182.2\n",
      "4FGL J1109.8+4406   PointSource    PowerLaw          5.981      3.56       226.2\n",
      "4FGL J1033.7+3708   PointSource    PowerLaw          6.176      8.83       378.0\n",
      "4FGL J1032.6+3737   PointSource    PowerLaw          6.293      0.11        43.9\n",
      "4FGL J1033.1+4115   PointSource    PowerLaw          6.758     47.55       739.4\n",
      "4FGL J1139.0+4033   PointSource    PowerLaw          7.081     10.12       398.9\n",
      "4FGL J1138.2+4115   PointSource    PowerLaw          7.176      0.00         2.3\n",
      "4FGL J1033.5+4221   PointSource    PowerLaw          7.206      0.06        19.5\n",
      "4FGL J1039.2+3258   PointSource    PowerLaw          7.322      3.84       153.0\n",
      "4FGL J1136.2+3407   PointSource    PowerLaw          7.604      2.71       200.6\n",
      "4FGL J1035.6+4409   PointSource    PowerLaw          8.042      0.13        36.4\n",
      "4FGL J1129.5+3034   PointSource    PowerLaw          9.208      0.62        96.2\n",
      "4FGL J1145.5+4423   PointSource    PowerLaw          9.878      0.52        84.5\n",
      "isodiff             ConstantValue  FileFunction      -----  42289.16     51445.4\n",
      "galdiff             MapCubeFunctio PowerLaw          -----  11082.81     28086.7\n",
      "\n"
     ]
    }
   ],
   "source": [
    "gta.print_roi()"
   ]
  },
  {
   "cell_type": "markdown",
   "metadata": {},
   "source": [
    "By default all models parameters are initially fixed. We can then free or fix parameters using the ```free_source()``` or ```free_sources()``` methods. In the following, we free the normalization of catalog sources within 3º of the ROI and free the galactic and isotropic diffuse components."
   ]
  },
  {
   "cell_type": "code",
   "execution_count": 7,
   "metadata": {},
   "outputs": [
    {
     "name": "stderr",
     "output_type": "stream",
     "text": [
      "2020-03-15 21:04:05 INFO    GTAnalysis.free_source(): Freeing parameters for 4FGL J1104.4+3812     : ['norm']\n",
      "2020-03-15 21:04:05 INFO    GTAnalysis.free_source(): Freeing parameters for 4FGL J1101.5+3904     : ['Prefactor']\n",
      "2020-03-15 21:04:05 INFO    GTAnalysis.free_source(): Freeing parameters for 4FGL J1109.6+3735     : ['Prefactor']\n",
      "2020-03-15 21:04:05 INFO    GTAnalysis.free_source(): Freeing parameters for 4FGL J1105.8+3944     : ['Prefactor']\n",
      "2020-03-15 21:04:05 INFO    GTAnalysis.free_source(): Freeing parameters for 4FGL J1106.7+3623     : ['Prefactor']\n",
      "2020-03-15 21:04:05 INFO    GTAnalysis.free_source(): Freeing parameters for 4FGL J1100.3+4020     : ['Prefactor']\n",
      "2020-03-15 21:04:05 INFO    GTAnalysis.free_source(): Freeing parameters for 4FGL J1054.2+3926     : ['Prefactor']\n",
      "2020-03-15 21:04:05 INFO    GTAnalysis.free_source(): Freeing parameters for 4FGL J1111.0+3542     : ['Prefactor']\n",
      "2020-03-15 21:04:05 INFO    GTAnalysis.free_source(): Freeing parameters for 4FGL J1051.4+3942     : ['Prefactor']\n",
      "2020-03-15 21:04:05 INFO    GTAnalysis.free_source(): Freeing parameters for 4FGL J1101.4+4108     : ['Prefactor']\n",
      "2020-03-15 21:04:05 INFO    GTAnalysis.free_source(): Freeing parameters for isodiff               : ['Normalization']\n",
      "2020-03-15 21:04:05 INFO    GTAnalysis.free_source(): Freeing parameters for galdiff               : ['Prefactor']\n"
     ]
    },
    {
     "data": {
      "text/plain": [
       "[<fermipy.roi_model.Source at 0x7fa3cd191690>,\n",
       " <fermipy.roi_model.Source at 0x7fa3cd191590>,\n",
       " <fermipy.roi_model.Source at 0x7fa3cd191a10>,\n",
       " <fermipy.roi_model.Source at 0x7fa3cd1917d0>,\n",
       " <fermipy.roi_model.Source at 0x7fa3cd191910>,\n",
       " <fermipy.roi_model.Source at 0x7fa3cd191310>,\n",
       " <fermipy.roi_model.Source at 0x7fa3cd191210>,\n",
       " <fermipy.roi_model.Source at 0x7fa3cd191c10>,\n",
       " <fermipy.roi_model.Source at 0x7fa3cd63dfd0>,\n",
       " <fermipy.roi_model.Source at 0x7fa3cd191450>,\n",
       " <fermipy.roi_model.IsoSource at 0x7fa3cd18f5d0>,\n",
       " <fermipy.roi_model.MapCubeSource at 0x7fa3cd18fad0>]"
      ]
     },
     "execution_count": 7,
     "metadata": {},
     "output_type": "execute_result"
    }
   ],
   "source": [
    "gta.free_sources(distance=3.0, pars='norm');"
   ]
  },
  {
   "cell_type": "code",
   "execution_count": 8,
   "metadata": {},
   "outputs": [
    {
     "name": "stderr",
     "output_type": "stream",
     "text": [
      "2020-03-15 21:04:05 INFO    GTAnalysis.free_source(): Freeing parameters for galdiff               : ['Index']\n"
     ]
    }
   ],
   "source": [
    "gta.free_source('galdiff')\n",
    "gta.free_source('isodiff')"
   ]
  },
  {
   "cell_type": "markdown",
   "metadata": {},
   "source": [
    "We can also free sources on the basis of their current TS and Npred (this is the number of photons used in the fit)."
   ]
  },
  {
   "cell_type": "code",
   "execution_count": 9,
   "metadata": {},
   "outputs": [
    {
     "name": "stderr",
     "output_type": "stream",
     "text": [
      "2020-03-15 21:04:05 INFO    GTAnalysis.free_source(): Freeing parameters for 4FGL J1112.5+3448     : ['norm']\n",
      "2020-03-15 21:04:05 INFO    GTAnalysis.free_source(): Freeing parameters for 4FGL J1041.7+3902     : ['Prefactor']\n",
      "2020-03-15 21:04:05 INFO    GTAnalysis.free_source(): Freeing parameters for 4FGL J1128.8+3757     : ['Prefactor']\n",
      "2020-03-15 21:04:05 INFO    GTAnalysis.free_source(): Freeing parameters for 4FGL J1127.8+3618     : ['Prefactor']\n",
      "2020-03-15 21:04:05 INFO    GTAnalysis.free_source(): Freeing parameters for 4FGL J1129.1+3703     : ['Prefactor']\n",
      "2020-03-15 21:04:05 INFO    GTAnalysis.free_source(): Freeing parameters for 4FGL J1120.8+4212     : ['Prefactor']\n",
      "2020-03-15 21:04:05 INFO    GTAnalysis.free_source(): Freeing parameters for 4FGL J1131.0+3815     : ['norm']\n",
      "2020-03-15 21:04:05 INFO    GTAnalysis.free_source(): Freeing parameters for 4FGL J1033.1+4115     : ['Prefactor']\n",
      "2020-03-15 21:04:05 INFO    GTAnalysis.free_source(): Freeing parameters for 4FGL J1139.0+4033     : ['Prefactor']\n",
      "2020-03-15 21:04:05 INFO    GTAnalysis.free_source(): Fixing parameters for 4FGL J1106.7+3623     : ['Prefactor']\n"
     ]
    },
    {
     "data": {
      "text/plain": [
       "[<fermipy.roi_model.Source at 0x7fa3cd63d910>,\n",
       " <fermipy.roi_model.Source at 0x7fa3cd63dad0>,\n",
       " <fermipy.roi_model.Source at 0x7fa3cd63dcd0>,\n",
       " <fermipy.roi_model.Source at 0x7fa3cd3292d0>,\n",
       " <fermipy.roi_model.Source at 0x7fa3cd329810>]"
      ]
     },
     "execution_count": 9,
     "metadata": {},
     "output_type": "execute_result"
    }
   ],
   "source": [
    "gta.free_sources(minmax_ts=[10, None], pars='norm');\n",
    "gta.free_sources(minmax_ts=[None, 10], free=False, pars='norm');\n",
    "gta.free_sources(minmax_npred=[10, 100], free=False, pars='norm');"
   ]
  },
  {
   "cell_type": "code",
   "execution_count": 10,
   "metadata": {},
   "outputs": [
    {
     "name": "stderr",
     "output_type": "stream",
     "text": [
      "2020-03-15 21:04:05 INFO    GTAnalysis.fit(): Starting fit.\n",
      "2020-03-15 21:04:24 INFO    GTAnalysis.fit(): Fit returned successfully. Quality:   3 Status:   0\n",
      "2020-03-15 21:04:24 INFO    GTAnalysis.fit(): LogLike:   -77162.266 DeltaLogLike:        3.229 \n"
     ]
    },
    {
     "data": {
      "text/plain": [
       "{'config': {'covar': True,\n",
       "  'init_lambda': 0.0001,\n",
       "  'max_iter': 100,\n",
       "  'min_fit_quality': 2,\n",
       "  'optimizer': 'MINUIT',\n",
       "  'reoptimize': False,\n",
       "  'retries': 3,\n",
       "  'tol': 0.001,\n",
       "  'verbosity': 0},\n",
       " 'correlation': array([[  1.00000000e+00,  -5.30431399e-02,  -3.96698255e-03,\n",
       "          -2.42752864e-02,   6.77074956e-03,   1.16738973e-02,\n",
       "           4.74848617e-02,   5.12002453e-02,   1.86453426e-02,\n",
       "           8.66728522e-03,   1.36765074e-02,   1.22931612e-01,\n",
       "           1.93031121e-02,   6.00904449e-02,  -1.61409441e-04,\n",
       "           6.12174115e-03,   3.47500005e-02,   1.76186317e-01,\n",
       "           1.95106534e-01,  -1.67875285e-02,  -2.65950087e-01],\n",
       "        [ -5.30431399e-02,   1.00000000e+00,  -5.40413376e-03,\n",
       "          -7.72012143e-03,   7.07658280e-03,   7.94959449e-03,\n",
       "           2.34440468e-03,   1.15672581e-02,   8.23461729e-03,\n",
       "           4.32406330e-03,   7.11746179e-03,   2.23940277e-02,\n",
       "           1.23781908e-02,   1.19969498e-02,   3.84616540e-03,\n",
       "           3.57889222e-03,   6.25183447e-03,   1.67482405e-02,\n",
       "          -2.91448470e-02,   3.65796596e-02,  -2.29050391e-02],\n",
       "        [ -3.96698255e-03,  -5.40413376e-03,   1.00000000e+00,\n",
       "          -1.64566507e-01,  -3.51183062e-03,   2.11377441e-03,\n",
       "           2.34964299e-03,   3.72049415e-03,   3.41726501e-03,\n",
       "           2.71356096e-03,   4.19524231e-03,   9.52267382e-03,\n",
       "           6.62702518e-03,   4.98319200e-03,   2.63540036e-03,\n",
       "           1.92331578e-03,   1.55554414e-03,   6.69102938e-03,\n",
       "          -6.81181314e-03,   3.94493419e-02,  -2.46752150e-02],\n",
       "        [ -2.42752864e-02,  -7.72012143e-03,  -1.64566507e-01,\n",
       "           1.00000000e+00,  -2.69756674e-02,  -3.83358968e-04,\n",
       "          -1.51438737e-01,   7.77326647e-03,   1.08917085e-02,\n",
       "           5.04710637e-03,   7.14466022e-03,   3.23392178e-02,\n",
       "           1.13039917e-02,   1.67727919e-02,   2.70735475e-03,\n",
       "           3.51665284e-03,   1.05167336e-02,   3.21407353e-02,\n",
       "          -2.35856685e-02,   7.24237197e-03,  -2.06348844e-02],\n",
       "        [  6.77074956e-03,   7.07658280e-03,  -3.51183062e-03,\n",
       "          -2.69756674e-02,   1.00000000e+00,  -8.08785163e-02,\n",
       "          -7.91733510e-02,   6.85795570e-03,  -3.93113410e-02,\n",
       "           3.25435905e-03,   5.35567603e-03,   1.56180429e-02,\n",
       "           6.29937360e-03,   7.59663698e-03,   2.75471175e-03,\n",
       "           2.34714545e-03,   3.69105617e-03,   7.57574538e-03,\n",
       "          -2.05119295e-02,   3.02696167e-02,  -1.41523019e-02],\n",
       "        [  1.16738973e-02,   7.94959449e-03,   2.11377441e-03,\n",
       "          -3.83358968e-04,  -8.08785163e-02,   1.00000000e+00,\n",
       "          -1.16669163e-02,   6.90019555e-03,  -1.38740669e-02,\n",
       "           3.07563012e-03,   5.14084380e-03,   1.56543714e-02,\n",
       "           5.64155524e-03,   7.90963724e-03,   2.74834311e-03,\n",
       "           2.32266616e-03,   3.36824361e-03,   9.46092177e-03,\n",
       "          -3.47557181e-03,   3.92763177e-02,  -3.31110057e-02],\n",
       "        [  4.74848617e-02,   2.34440468e-03,   2.34964299e-03,\n",
       "          -1.51438737e-01,  -7.91733510e-02,  -1.16669163e-02,\n",
       "           1.00000000e+00,  -3.31300664e-01,  -1.39933273e-01,\n",
       "           1.08301326e-02,   2.96915520e-03,   5.98015198e-02,\n",
       "           6.38858347e-03,   3.22335166e-02,  -3.24825307e-03,\n",
       "           2.15835029e-03,   1.80983986e-02,   7.10622850e-02,\n",
       "           1.77430648e-01,  -3.54246084e-02,  -2.05918833e-01],\n",
       "        [  5.12002453e-02,   1.15672581e-02,   3.72049415e-03,\n",
       "           7.77326647e-03,   6.85795570e-03,   6.90019555e-03,\n",
       "          -3.31300664e-01,   1.00000000e+00,  -4.42140074e-02,\n",
       "          -7.29920478e-02,  -1.40278750e-02,   2.86249757e-03,\n",
       "           1.46511371e-02,   1.26750578e-02,   3.32704584e-03,\n",
       "           2.90254847e-03,   1.38999706e-03,   2.66991441e-02,\n",
       "          -8.41322850e-02,  -2.94709784e-02,   2.52255459e-02],\n",
       "        [  1.86453426e-02,   8.23461729e-03,   3.41726501e-03,\n",
       "           1.08917085e-02,  -3.93113410e-02,  -1.38740669e-02,\n",
       "          -1.39933273e-01,  -4.42140074e-02,   1.00000000e+00,\n",
       "           1.71061718e-03,   5.01890561e-03,   1.91046367e-02,\n",
       "           3.10440281e-03,   8.41344326e-03,   2.18387656e-03,\n",
       "           2.06698421e-03,   2.14392513e-03,  -3.40665283e-03,\n",
       "          -2.17592854e-02,   1.32854122e-02,  -9.43331623e-03],\n",
       "        [  8.66728522e-03,   4.32406330e-03,   2.71356096e-03,\n",
       "           5.04710637e-03,   3.25435905e-03,   3.07563012e-03,\n",
       "           1.08301326e-02,  -7.29920478e-02,   1.71061718e-03,\n",
       "           1.00000000e+00,  -7.04153874e-03,  -3.43489734e-03,\n",
       "           4.04632642e-03,  -6.10594979e-05,   1.07228372e-03,\n",
       "           3.21930503e-04,  -2.18141233e-03,   3.28253909e-03,\n",
       "          -3.74841251e-03,   1.87811825e-02,  -1.50838676e-02],\n",
       "        [  1.36765074e-02,   7.11746179e-03,   4.19524231e-03,\n",
       "           7.14466022e-03,   5.35567603e-03,   5.14084380e-03,\n",
       "           2.96915520e-03,  -1.40278750e-02,   5.01890561e-03,\n",
       "          -7.04153874e-03,   1.00000000e+00,  -1.57787654e-01,\n",
       "           7.63795645e-03,  -7.97963072e-05,   1.98260529e-03,\n",
       "           1.04927430e-03,   3.74362179e-04,   7.55447011e-03,\n",
       "          -1.85955044e-02,   2.06172770e-02,  -1.30587984e-02],\n",
       "        [  1.22931612e-01,   2.23940277e-02,   9.52267382e-03,\n",
       "           3.23392178e-02,   1.56180429e-02,   1.56543714e-02,\n",
       "           5.98015198e-02,   2.86249757e-03,   1.91046367e-02,\n",
       "          -3.43489734e-03,  -1.57787654e-01,   1.00000000e+00,\n",
       "           2.66960575e-02,  -2.42095246e-02,   2.61213682e-03,\n",
       "           4.15261346e-03,   1.63246770e-02,   9.36003063e-02,\n",
       "          -4.71932878e-02,  -1.08873874e-01,  -2.98264451e-02],\n",
       "        [  1.93031121e-02,   1.23781908e-02,   6.62702518e-03,\n",
       "           1.13039917e-02,   6.29937360e-03,   5.64155524e-03,\n",
       "           6.38858347e-03,   1.46511371e-02,   3.10440281e-03,\n",
       "           4.04632642e-03,   7.63795645e-03,   2.66960575e-02,\n",
       "           1.00000000e+00,   1.56930761e-02,   1.80561972e-03,\n",
       "           3.90786369e-03,   1.69734517e-02,  -4.75291290e-02,\n",
       "          -5.13140932e-02,   2.12329021e-02,  -2.18386316e-03],\n",
       "        [  6.00904449e-02,   1.19969498e-02,   4.98319200e-03,\n",
       "           1.67727919e-02,   7.59663698e-03,   7.90963724e-03,\n",
       "           3.22335166e-02,   1.26750578e-02,   8.41344326e-03,\n",
       "          -6.10594979e-05,  -7.97963072e-05,  -2.42095246e-02,\n",
       "           1.56930761e-02,   1.00000000e+00,  -4.16699397e-03,\n",
       "          -2.59996505e-01,  -1.03774162e-01,   2.49893148e-02,\n",
       "          -3.06522150e-02,  -5.14437461e-02,  -1.01811801e-02],\n",
       "        [ -1.61409441e-04,   3.84616540e-03,   2.63540036e-03,\n",
       "           2.70735475e-03,   2.75471175e-03,   2.74834311e-03,\n",
       "          -3.24825307e-03,   3.32704584e-03,   2.18387656e-03,\n",
       "           1.07228372e-03,   1.98260529e-03,   2.61213682e-03,\n",
       "           1.80561972e-03,  -4.16699397e-03,   1.00000000e+00,\n",
       "          -8.54059300e-02,  -5.95187398e-01,   9.27681856e-02,\n",
       "          -5.43621782e-03,   3.12026655e-02,  -1.34587813e-02],\n",
       "        [  6.12174115e-03,   3.57889222e-03,   1.92331578e-03,\n",
       "           3.51665284e-03,   2.34714545e-03,   2.32266616e-03,\n",
       "           2.15835029e-03,   2.90254847e-03,   2.06698421e-03,\n",
       "           3.21930503e-04,   1.04927430e-03,   4.15261346e-03,\n",
       "           3.90786369e-03,  -2.59996505e-01,  -8.54059300e-02,\n",
       "           1.00000000e+00,  -9.37937168e-02,   1.27585139e-02,\n",
       "          -1.54309530e-02,   4.49333753e-03,   1.23615876e-04],\n",
       "        [  3.47500005e-02,   6.25183447e-03,   1.55554414e-03,\n",
       "           1.05167336e-02,   3.69105617e-03,   3.36824361e-03,\n",
       "           1.80983986e-02,   1.38999706e-03,   2.14392513e-03,\n",
       "          -2.18141233e-03,   3.74362179e-04,   1.63246770e-02,\n",
       "           1.69734517e-02,  -1.03774162e-01,  -5.95187398e-01,\n",
       "          -9.37937168e-02,   1.00000000e+00,  -3.28010952e-01,\n",
       "          -6.00760226e-02,  -7.79338394e-02,   4.18781541e-02],\n",
       "        [  1.76186317e-01,   1.67482405e-02,   6.69102938e-03,\n",
       "           3.21407353e-02,   7.57574538e-03,   9.46092177e-03,\n",
       "           7.10622850e-02,   2.66991441e-02,  -3.40665283e-03,\n",
       "           3.28253909e-03,   7.55447011e-03,   9.36003063e-02,\n",
       "          -4.75291290e-02,   2.49893148e-02,   9.27681856e-02,\n",
       "           1.27585139e-02,  -3.28010952e-01,   1.00000000e+00,\n",
       "           1.83371270e-01,  -5.78610450e-02,  -2.21550255e-01],\n",
       "        [  1.95106534e-01,  -2.91448470e-02,  -6.81181314e-03,\n",
       "          -2.35856685e-02,  -2.05119295e-02,  -3.47557181e-03,\n",
       "           1.77430648e-01,  -8.41322850e-02,  -2.17592854e-02,\n",
       "          -3.74841251e-03,  -1.85955044e-02,  -4.71932878e-02,\n",
       "          -5.13140932e-02,  -3.06522150e-02,  -5.43621782e-03,\n",
       "          -1.54309530e-02,  -6.00760226e-02,   1.83371270e-01,\n",
       "           1.00000000e+00,   4.70517620e-01,  -8.80785085e-01],\n",
       "        [ -1.67875285e-02,   3.65796596e-02,   3.94493419e-02,\n",
       "           7.24237197e-03,   3.02696167e-02,   3.92763177e-02,\n",
       "          -3.54246084e-02,  -2.94709784e-02,   1.32854122e-02,\n",
       "           1.87811825e-02,   2.06172770e-02,  -1.08873874e-01,\n",
       "           2.12329021e-02,  -5.14437461e-02,   3.12026655e-02,\n",
       "           4.49333753e-03,  -7.79338394e-02,  -5.78610450e-02,\n",
       "           4.70517620e-01,   1.00000000e+00,  -7.09278039e-01],\n",
       "        [ -2.65950087e-01,  -2.29050391e-02,  -2.46752150e-02,\n",
       "          -2.06348844e-02,  -1.41523019e-02,  -3.31110057e-02,\n",
       "          -2.05918833e-01,   2.52255459e-02,  -9.43331623e-03,\n",
       "          -1.50838676e-02,  -1.30587984e-02,  -2.98264451e-02,\n",
       "          -2.18386316e-03,  -1.01811801e-02,  -1.34587813e-02,\n",
       "           1.23615876e-04,   4.18781541e-02,  -2.21550255e-01,\n",
       "          -8.80785085e-01,  -7.09278039e-01,   1.00000000e+00]]),\n",
       " 'covariance': array([[  1.98720561e-03,  -1.08707032e-03,  -3.14988953e-05,\n",
       "          -1.66343971e-04,   1.11948903e-04,   1.16600286e-04,\n",
       "           2.18570142e-04,   3.60723834e-05,   2.75813937e-04,\n",
       "           5.56242685e-05,   2.01024949e-04,   2.50004594e-04,\n",
       "           4.10027849e-05,   2.88500157e-04,  -1.59629054e-06,\n",
       "           3.04520999e-05,   3.28442101e-04,   7.34483998e-03,\n",
       "           2.56154981e-04,  -1.41531839e-05,  -3.62998808e-04],\n",
       "        [ -1.08707032e-03,   2.11355727e-01,  -4.42534089e-04,\n",
       "          -5.45572464e-04,   1.20668049e-03,   8.18868808e-04,\n",
       "           1.11289411e-04,   8.40463452e-05,   1.25624651e-03,\n",
       "           2.86192913e-04,   1.07891072e-03,   4.69680178e-04,\n",
       "           2.71161985e-04,   5.94014552e-04,   3.92280365e-04,\n",
       "           1.83601621e-04,   6.09392474e-04,   7.20053819e-03,\n",
       "          -3.94619353e-04,   3.18047987e-04,  -3.22419803e-04],\n",
       "        [ -3.14988953e-05,  -4.42534089e-04,   3.17268723e-02,\n",
       "          -4.50584639e-03,  -2.32011162e-04,   8.43596189e-05,\n",
       "           4.32145271e-05,   1.04735920e-05,   2.01983887e-04,\n",
       "           6.95845839e-05,   2.46390542e-04,   7.73812156e-05,\n",
       "           5.62466770e-05,   9.55961676e-05,   1.04141022e-04,\n",
       "           3.82283106e-05,   5.87460370e-05,   1.11453915e-03,\n",
       "          -3.57343549e-05,   1.32892164e-04,  -1.34573094e-04],\n",
       "        [ -1.66343971e-04,  -5.45572464e-04,  -4.50584639e-03,\n",
       "           2.36288508e-02,  -1.53799593e-03,  -1.32035061e-05,\n",
       "          -2.40365722e-03,   1.88845330e-05,   5.55573788e-04,\n",
       "           1.11692389e-04,   3.62123102e-04,   2.26784736e-04,\n",
       "           8.27976006e-05,   2.77680825e-04,   9.23268609e-05,\n",
       "           6.03214370e-05,   3.42755773e-04,   4.62025419e-03,\n",
       "          -1.06777336e-04,   2.10546540e-05,  -9.71196260e-05],\n",
       "        [  1.11948903e-04,   1.20668049e-03,  -2.32011162e-04,\n",
       "          -1.53799593e-03,   1.37569886e-01,  -6.72136077e-03,\n",
       "          -3.03217994e-03,   4.02010835e-05,  -4.83842467e-03,\n",
       "           1.73774872e-04,   6.54981961e-04,   2.64272096e-04,\n",
       "           1.11332939e-04,   3.03460587e-04,   2.26672823e-04,\n",
       "           9.71454743e-05,   2.90265184e-04,   2.62770022e-03,\n",
       "          -2.24066946e-04,   2.12331580e-04,  -1.60720928e-04],\n",
       "        [  1.16600286e-04,   8.18868808e-04,   8.43596189e-05,\n",
       "          -1.32035061e-05,  -6.72136077e-03,   5.02024238e-02,\n",
       "          -2.69918517e-04,   2.44345945e-05,  -1.03155067e-03,\n",
       "           9.92101874e-05,   3.79795753e-04,   1.60015106e-04,\n",
       "           6.02317952e-05,   1.90870205e-04,   1.36613902e-04,\n",
       "           5.80724324e-05,   1.60010485e-04,   1.98236926e-03,\n",
       "          -2.29349712e-05,   1.66432865e-04,  -2.27152947e-04],\n",
       "        [  2.18570142e-04,   1.11289411e-04,   4.32145271e-05,\n",
       "          -2.40365722e-03,  -3.03217994e-03,  -2.69918517e-04,\n",
       "           1.06617503e-02,  -5.40652175e-04,  -4.79468060e-03,\n",
       "           1.60993317e-04,   1.01088210e-04,   2.81701711e-04,\n",
       "           3.14328274e-05,   3.58460391e-04,  -7.44090423e-05,\n",
       "           2.48689281e-05,   3.96220560e-04,   6.86186520e-03,\n",
       "           5.39575825e-04,  -6.91775687e-05,  -6.51019480e-04],\n",
       "        [  3.60723834e-05,   8.40463452e-05,   1.04735920e-05,\n",
       "           1.88845330e-05,   4.02010835e-05,   2.44345945e-05,\n",
       "          -5.40652175e-04,   2.49782949e-04,  -2.31881292e-04,\n",
       "          -1.66079781e-04,  -7.31015581e-05,   2.06390418e-06,\n",
       "           1.10336028e-05,   2.15749887e-05,   1.16654577e-05,\n",
       "           5.11896025e-06,   4.65776829e-06,   3.94609462e-04,\n",
       "          -3.91609907e-05,  -8.80890507e-06,   1.22069068e-05],\n",
       "        [  2.75813937e-04,   1.25624651e-03,   2.01983887e-04,\n",
       "           5.55573788e-04,  -4.83842467e-03,  -1.03155067e-03,\n",
       "          -4.79468060e-03,  -2.31881292e-04,   1.10115606e-01,\n",
       "           8.17216430e-05,   5.49144726e-04,   2.89218607e-04,\n",
       "           4.90870716e-05,   3.00688929e-04,   1.60773375e-04,\n",
       "           7.65389461e-05,   1.50840046e-04,  -1.05716086e-03,\n",
       "          -2.12656497e-04,   8.33768440e-05,  -9.58456684e-05],\n",
       "        [  5.56242685e-05,   2.86192913e-04,   6.95845839e-05,\n",
       "           1.11692389e-04,   1.73774872e-04,   9.92101874e-05,\n",
       "           1.60993317e-04,  -1.66079781e-04,   8.17216430e-05,\n",
       "           2.07261981e-02,  -3.34257182e-04,  -2.25598700e-05,\n",
       "           2.77578201e-05,  -9.46743392e-07,   3.42476785e-05,\n",
       "           5.17181322e-06,  -6.65855804e-05,   4.41935092e-04,\n",
       "          -1.58933992e-05,   5.11362336e-05,  -6.64899787e-05],\n",
       "        [  2.01024949e-04,   1.07891072e-03,   2.46390542e-04,\n",
       "           3.62123102e-04,   6.54981961e-04,   3.79795753e-04,\n",
       "           1.01088210e-04,  -7.31015581e-05,   5.49144726e-04,\n",
       "          -3.34257182e-04,   1.08719314e-01,  -2.37350079e-03,\n",
       "           1.20003842e-04,  -2.83370983e-06,   1.45027786e-04,\n",
       "           3.86067523e-05,   2.61714583e-05,   2.32941099e-03,\n",
       "          -1.80580522e-04,   1.28567334e-04,  -1.31837886e-04],\n",
       "        [  2.50004594e-04,   4.69680178e-04,   7.73812156e-05,\n",
       "           2.26784736e-04,   2.64272096e-04,   1.60015106e-04,\n",
       "           2.81701711e-04,   2.06390418e-06,   2.89218607e-04,\n",
       "          -2.25598700e-05,  -2.37350079e-03,   2.08125847e-03,\n",
       "           5.80329648e-05,  -1.18951111e-04,   2.64375091e-05,\n",
       "           2.11400202e-05,   1.57902938e-04,   3.99327335e-03,\n",
       "          -6.34092818e-05,  -9.39361306e-05,  -4.16627722e-05],\n",
       "        [  4.10027849e-05,   2.71161985e-04,   5.62466770e-05,\n",
       "           8.27976006e-05,   1.11332939e-04,   6.02317952e-05,\n",
       "           3.14328274e-05,   1.10336028e-05,   4.90870716e-05,\n",
       "           2.77578201e-05,   1.20003842e-04,   5.80329648e-05,\n",
       "           2.27054043e-03,   8.05363477e-05,   1.90876522e-05,\n",
       "           2.07790127e-05,   1.71481548e-04,  -2.11793797e-03,\n",
       "          -7.20129942e-05,   1.91346251e-05,  -3.18620491e-06],\n",
       "        [  2.88500157e-04,   5.94014552e-04,   9.55961676e-05,\n",
       "           2.77680825e-04,   3.03460587e-04,   1.90870205e-04,\n",
       "           3.58460391e-04,   2.15749887e-05,   3.00688929e-04,\n",
       "          -9.46743392e-07,  -2.83370983e-06,  -1.18951111e-04,\n",
       "           8.05363477e-05,   1.15994785e-02,  -9.95643143e-05,\n",
       "          -3.12469493e-03,  -2.36968747e-03,   2.51687901e-03,\n",
       "          -9.72278507e-05,  -1.04784682e-04,  -3.35738398e-05],\n",
       "        [ -1.59629054e-06,   3.92280365e-04,   1.04141022e-04,\n",
       "           9.23268609e-05,   2.26672823e-04,   1.36613902e-04,\n",
       "          -7.44090423e-05,   1.16654577e-05,   1.60773375e-04,\n",
       "           3.42476785e-05,   1.45027786e-04,   2.64375091e-05,\n",
       "           1.90876522e-05,  -9.95643143e-05,   4.92179145e-02,\n",
       "          -2.11431899e-03,  -2.79961257e-02,   1.92463964e-02,\n",
       "          -3.55195982e-05,   1.30917975e-04,  -9.14220594e-05],\n",
       "        [  3.04520999e-05,   1.83601621e-04,   3.82283106e-05,\n",
       "           6.03214370e-05,   9.71454743e-05,   5.80724324e-05,\n",
       "           2.48689281e-05,   5.11896025e-06,   7.65389461e-05,\n",
       "           5.17181322e-06,   3.86067523e-05,   2.11400202e-05,\n",
       "           2.07790127e-05,  -3.12469493e-03,  -2.11431899e-03,\n",
       "           1.24520760e-02,  -2.21910184e-03,   1.33140362e-03,\n",
       "          -5.07134577e-05,   9.48278505e-06,   4.22356121e-07],\n",
       "        [  3.28442101e-04,   6.09392474e-04,   5.87460370e-05,\n",
       "           3.42755773e-04,   2.90265184e-04,   1.60010485e-04,\n",
       "           3.96220560e-04,   4.65776829e-06,   1.50840046e-04,\n",
       "          -6.65855804e-05,   2.61714583e-05,   1.57902938e-04,\n",
       "           1.71481548e-04,  -2.36968747e-03,  -2.79961257e-02,\n",
       "          -2.21910184e-03,   4.49536758e-02,  -6.50368816e-02,\n",
       "          -3.75139995e-04,  -3.12503337e-04,   2.71865310e-04],\n",
       "        [  7.34483998e-03,   7.20053819e-03,   1.11453915e-03,\n",
       "           4.62025419e-03,   2.62770022e-03,   1.98236926e-03,\n",
       "           6.86186520e-03,   3.94609462e-04,  -1.05716086e-03,\n",
       "           4.41935092e-04,   2.32941099e-03,   3.99327335e-03,\n",
       "          -2.11793797e-03,   2.51687901e-03,   1.92463964e-02,\n",
       "           1.33140362e-03,  -6.50368816e-02,   8.74535655e-01,\n",
       "           5.05044497e-03,  -1.02334251e-03,  -6.34372977e-03],\n",
       "        [  2.56154981e-04,  -3.94619353e-04,  -3.57343549e-05,\n",
       "          -1.06777336e-04,  -2.24066946e-04,  -2.29349712e-05,\n",
       "           5.39575825e-04,  -3.91609907e-05,  -2.12656497e-04,\n",
       "          -1.58933992e-05,  -1.80580522e-04,  -6.34092818e-05,\n",
       "          -7.20129942e-05,  -9.72278507e-05,  -3.55195982e-05,\n",
       "          -5.07134577e-05,  -3.75139995e-04,   5.05044497e-03,\n",
       "           8.67399528e-04,   2.62078542e-04,  -7.94260935e-04],\n",
       "        [ -1.41531839e-05,   3.18047987e-04,   1.32892164e-04,\n",
       "           2.10546540e-05,   2.12331580e-04,   1.66432865e-04,\n",
       "          -6.91775687e-05,  -8.80890507e-06,   8.33768440e-05,\n",
       "           5.11362336e-05,   1.28567334e-04,  -9.39361306e-05,\n",
       "           1.91346251e-05,  -1.04784682e-04,   1.30917975e-04,\n",
       "           9.48278505e-06,  -3.12503337e-04,  -1.02334251e-03,\n",
       "           2.62078542e-04,   3.57677782e-04,  -4.10720288e-04],\n",
       "        [ -3.62998808e-04,  -3.22419803e-04,  -1.34573094e-04,\n",
       "          -9.71196260e-05,  -1.60720928e-04,  -2.27152947e-04,\n",
       "          -6.51019480e-04,   1.22069068e-05,  -9.58456684e-05,\n",
       "          -6.64899787e-05,  -1.31837886e-04,  -4.16627722e-05,\n",
       "          -3.18620491e-06,  -3.35738398e-05,  -9.14220594e-05,\n",
       "           4.22356121e-07,   2.71865310e-04,  -6.34372977e-03,\n",
       "          -7.94260935e-04,  -4.10720288e-04,   9.37491460e-04]]),\n",
       " 'dloglike': 3.2293202790024225,\n",
       " 'edm': 5.7048272343590835e-05,\n",
       " 'errors': array([ 0.04457808,  0.45973441,  0.17812039,  0.15371679,  0.37090415,\n",
       "         0.22405897,  0.10325575,  0.01580452,  0.33183672,  0.14396596,\n",
       "         0.32972612,  0.04562081,  0.04765019,  0.10770087,  0.22185111,\n",
       "         0.11158887,  0.21202282,  0.93516611,  0.02945165,  0.01891237,\n",
       "         0.03061848]),\n",
       " 'fit_quality': 3,\n",
       " 'fit_status': 0,\n",
       " 'fit_success': True,\n",
       " 'indices': array([ 3, 18, 21, 27, 30, 33, 36, 39, 43, 49, 55, 58, 62, 65, 68, 71, 77,\n",
       "        87, 93, 94, 96]),\n",
       " 'is_norm': array([ True,  True,  True,  True,  True,  True,  True,  True,  True,\n",
       "         True,  True,  True,  True,  True,  True,  True,  True,  True,\n",
       "         True, False,  True], dtype=bool),\n",
       " 'loglike': -77162.2659449146,\n",
       " 'niter': 1,\n",
       " 'par_names': ['Prefactor',\n",
       "  'Prefactor',\n",
       "  'Prefactor',\n",
       "  'Prefactor',\n",
       "  'Prefactor',\n",
       "  'Prefactor',\n",
       "  'Prefactor',\n",
       "  'norm',\n",
       "  'Prefactor',\n",
       "  'Prefactor',\n",
       "  'Prefactor',\n",
       "  'norm',\n",
       "  'Prefactor',\n",
       "  'Prefactor',\n",
       "  'Prefactor',\n",
       "  'Prefactor',\n",
       "  'norm',\n",
       "  'Prefactor',\n",
       "  'Prefactor',\n",
       "  'Index',\n",
       "  'Normalization'],\n",
       " 'src_names': ['4FGL J1033.1+4115',\n",
       "  '4FGL J1041.7+3902',\n",
       "  '4FGL J1051.4+3942',\n",
       "  '4FGL J1054.2+3926',\n",
       "  '4FGL J1100.3+4020',\n",
       "  '4FGL J1101.4+4108',\n",
       "  '4FGL J1101.5+3904',\n",
       "  '4FGL J1104.4+3812',\n",
       "  '4FGL J1105.8+3944',\n",
       "  '4FGL J1109.6+3735',\n",
       "  '4FGL J1111.0+3542',\n",
       "  '4FGL J1112.5+3448',\n",
       "  '4FGL J1120.8+4212',\n",
       "  '4FGL J1127.8+3618',\n",
       "  '4FGL J1128.8+3757',\n",
       "  '4FGL J1129.1+3703',\n",
       "  '4FGL J1131.0+3815',\n",
       "  '4FGL J1139.0+4033',\n",
       "  'galdiff',\n",
       "  'galdiff',\n",
       "  'isodiff'],\n",
       " 'values': array([ 0.2683158 ,  1.71724841,  0.91251854,  0.59319554,  2.66630159,\n",
       "         1.1951639 ,  0.60469351,  1.89400602,  1.20699155,  0.55504488,\n",
       "         0.80160037,  1.03498394,  0.76364549,  2.01532605,  1.53072037,\n",
       "         0.72515254,  1.02209604,  2.79065466,  0.95905597,  0.05231487,\n",
       "         1.03365229])}"
      ]
     },
     "execution_count": 10,
     "metadata": {},
     "output_type": "execute_result"
    }
   ],
   "source": [
    "gta.fit();"
   ]
  },
  {
   "cell_type": "code",
   "execution_count": 15,
   "metadata": {},
   "outputs": [
    {
     "name": "stderr",
     "output_type": "stream",
     "text": [
      "2020-03-15 21:05:50 INFO    GTBinnedAnalysis.write_xml(): Writing /home/mpotto/Pesquisa/astroph/tutorials/fermipy/mkn421/fit_model_00.xml...\n",
      "2020-03-15 21:05:50 INFO    GTAnalysis.write_fits(): Writing /home/mpotto/Pesquisa/astroph/tutorials/fermipy/mkn421/fit_model.fits...\n",
      "2020-03-15 21:05:51 INFO    GTAnalysis.write_roi(): Writing /home/mpotto/Pesquisa/astroph/tutorials/fermipy/mkn421/fit_model.npy...\n"
     ]
    }
   ],
   "source": [
    "gta.write_roi('fit_model')"
   ]
  },
  {
   "cell_type": "markdown",
   "metadata": {},
   "source": [
    "Once we have optimized our model for the ROI we can use ```residmap()``` and ```tsmap()``` to asses the fit quality and look for new sources."
   ]
  },
  {
   "cell_type": "code",
   "execution_count": 16,
   "metadata": {},
   "outputs": [
    {
     "name": "stderr",
     "output_type": "stream",
     "text": [
      "2020-03-15 21:07:38 INFO    GTAnalysis.residmap(): Generating residual maps\n",
      "2020-03-15 21:07:38 INFO    GTAnalysis.add_source(): Adding source residmap_testsource\n",
      "2020-03-15 21:07:39 INFO    GTAnalysis.delete_source(): Deleting source residmap_testsource\n",
      "2020-03-15 21:07:41 INFO    GTAnalysis.residmap(): Finished residual maps\n",
      "2020-03-15 21:07:41 INFO    GTAnalysis.residmap(): Execution time: 3.86 s\n",
      "2020-03-15 21:07:41 INFO    GTAnalysis.tsmap(): Generating TS map\n",
      "2020-03-15 21:07:43 INFO    GTAnalysis._make_tsmap_fast(): Fitting test source.\n",
      "2020-03-15 21:08:00 INFO    GTAnalysis.tsmap(): Finished TS map\n",
      "2020-03-15 21:08:00 INFO    GTAnalysis.tsmap(): Execution time: 18.84 s\n"
     ]
    }
   ],
   "source": [
    "# Dictionary defining the spatial/spectral parameters of the test source\n",
    "model = {'SpatialModel' : 'PointSource', 'Index' : 2.0,\n",
    "         'SpectrumType' : 'PowerLaw'}\n",
    "\n",
    "m0 = gta.residmap('fit_model', model=model, make_plots=True)\n",
    "m1 = gta.tsmap('fit_model', model=model, make_plots=True)"
   ]
  },
  {
   "cell_type": "markdown",
   "metadata": {},
   "source": [
    "By default, calls to ```fit()``` will execute a global spectral fit over the entire energy range of the analysis. To extract a bin-by-bin flux spectrum (SED or spectral energy distribution) you can call ```sed()``` method with the source name."
   ]
  },
  {
   "cell_type": "code",
   "execution_count": 21,
   "metadata": {},
   "outputs": [
    {
     "name": "stderr",
     "output_type": "stream",
     "text": [
      "2020-03-15 21:16:06 INFO    GTAnalysis.sed(): Computing SED for 4FGL J1104.4+3812\n",
      "2020-03-15 21:16:15 INFO    GTAnalysis._make_sed(): Fitting SED\n",
      "2020-03-15 21:16:15 INFO    GTAnalysis.free_source(): Fixing parameters for galdiff               : ['Index']\n",
      "2020-03-15 21:16:20 INFO    GTAnalysis.sed(): Finished SED\n",
      "2020-03-15 21:16:21 INFO    GTAnalysis.sed(): Execution time: 14.70 s\n"
     ]
    }
   ],
   "source": [
    "gta.sed('mkn421', make_plots=True);"
   ]
  },
  {
   "cell_type": "markdown",
   "metadata": {},
   "source": [
    "## Extracting Analysis Results\n",
    "\n",
    "[**&uarr; Return to Contents**](#Fermipy)"
   ]
  },
  {
   "cell_type": "code",
   "execution_count": 18,
   "metadata": {},
   "outputs": [],
   "source": [
    "import numpy as np"
   ]
  },
  {
   "cell_type": "markdown",
   "metadata": {},
   "source": [
    "Loading from ```.npy``` format file."
   ]
  },
  {
   "cell_type": "code",
   "execution_count": 19,
   "metadata": {},
   "outputs": [],
   "source": [
    "c = np.load('fit_model.npy').flat[0]"
   ]
  },
  {
   "cell_type": "code",
   "execution_count": 23,
   "metadata": {},
   "outputs": [
    {
     "data": {
      "text/plain": [
       "['roi', 'stversion', 'version', 'config', 'sources']"
      ]
     },
     "execution_count": 23,
     "metadata": {},
     "output_type": "execute_result"
    }
   ],
   "source": [
    "c.keys()"
   ]
  },
  {
   "cell_type": "code",
   "execution_count": 30,
   "metadata": {},
   "outputs": [
    {
     "data": {
      "text/plain": [
       "['4FGL J1101.5+3904',\n",
       " '4FGL J1129.5+3034',\n",
       " '4FGL J1128.8+3757',\n",
       " '4FGL J1105.8+3944',\n",
       " '4FGL J1138.2+4115',\n",
       " '4FGL J1100.3+4020',\n",
       " '4FGL J1039.2+3258',\n",
       " '4FGL J1051.6+3253',\n",
       " '4FGL J1139.0+4033',\n",
       " '4FGL J1106.7+3623']"
      ]
     },
     "execution_count": 30,
     "metadata": {},
     "output_type": "execute_result"
    }
   ],
   "source": [
    "c['sources'].keys()[:10]"
   ]
  },
  {
   "cell_type": "markdown",
   "metadata": {},
   "source": [
    "Information about individual sources in the ROI can be gathered in a catalog FITS file."
   ]
  },
  {
   "cell_type": "code",
   "execution_count": 31,
   "metadata": {},
   "outputs": [],
   "source": [
    "from astropy.table import Table"
   ]
  },
  {
   "cell_type": "code",
   "execution_count": 32,
   "metadata": {},
   "outputs": [
    {
     "name": "stderr",
     "output_type": "stream",
     "text": [
      "WARNING: hdu= was not specified but multiple tables are present, reading in first available table (hdu=1) [astropy.io.fits.connect]\n"
     ]
    }
   ],
   "source": [
    "tab = Table.read('fit_model.fits')"
   ]
  },
  {
   "cell_type": "code",
   "execution_count": 41,
   "metadata": {},
   "outputs": [
    {
     "data": {
      "text/html": [
       "<div>\n",
       "<style scoped>\n",
       "    .dataframe tbody tr th:only-of-type {\n",
       "        vertical-align: middle;\n",
       "    }\n",
       "\n",
       "    .dataframe tbody tr th {\n",
       "        vertical-align: top;\n",
       "    }\n",
       "\n",
       "    .dataframe thead th {\n",
       "        text-align: right;\n",
       "    }\n",
       "</style>\n",
       "<table border=\"1\" class=\"dataframe\">\n",
       "  <thead>\n",
       "    <tr style=\"text-align: right;\">\n",
       "      <th></th>\n",
       "      <th>name</th>\n",
       "      <th>class</th>\n",
       "      <th>ts</th>\n",
       "      <th>npred</th>\n",
       "      <th>flux</th>\n",
       "    </tr>\n",
       "  </thead>\n",
       "  <tbody>\n",
       "    <tr>\n",
       "      <th>0</th>\n",
       "      <td>4FGL J1104.4+3812</td>\n",
       "      <td>BLL</td>\n",
       "      <td>86584.887885</td>\n",
       "      <td>29653.653811</td>\n",
       "      <td>1.999230e-07</td>\n",
       "    </tr>\n",
       "    <tr>\n",
       "      <th>1</th>\n",
       "      <td>4FGL J1101.5+3904</td>\n",
       "      <td>bcu</td>\n",
       "      <td>44.926957</td>\n",
       "      <td>1320.780916</td>\n",
       "      <td>1.315601e-08</td>\n",
       "    </tr>\n",
       "    <tr>\n",
       "      <th>2</th>\n",
       "      <td>4FGL J1109.6+3735</td>\n",
       "      <td>bll</td>\n",
       "      <td>44.199183</td>\n",
       "      <td>120.808769</td>\n",
       "      <td>7.998021e-10</td>\n",
       "    </tr>\n",
       "    <tr>\n",
       "      <th>3</th>\n",
       "      <td>4FGL J1105.8+3944</td>\n",
       "      <td>bll</td>\n",
       "      <td>28.509169</td>\n",
       "      <td>242.528664</td>\n",
       "      <td>1.983474e-09</td>\n",
       "    </tr>\n",
       "    <tr>\n",
       "      <th>4</th>\n",
       "      <td>4FGL J1106.7+3623</td>\n",
       "      <td></td>\n",
       "      <td>5.441834</td>\n",
       "      <td>336.755649</td>\n",
       "      <td>3.513795e-09</td>\n",
       "    </tr>\n",
       "    <tr>\n",
       "      <th>5</th>\n",
       "      <td>4FGL J1100.3+4020</td>\n",
       "      <td>bll</td>\n",
       "      <td>166.705277</td>\n",
       "      <td>323.441088</td>\n",
       "      <td>2.302102e-09</td>\n",
       "    </tr>\n",
       "    <tr>\n",
       "      <th>6</th>\n",
       "      <td>4FGL J1054.2+3926</td>\n",
       "      <td>bcu</td>\n",
       "      <td>24.775421</td>\n",
       "      <td>301.199487</td>\n",
       "      <td>2.671951e-09</td>\n",
       "    </tr>\n",
       "    <tr>\n",
       "      <th>7</th>\n",
       "      <td>4FGL J1111.0+3542</td>\n",
       "      <td>bll</td>\n",
       "      <td>12.782255</td>\n",
       "      <td>108.831085</td>\n",
       "      <td>9.124106e-10</td>\n",
       "    </tr>\n",
       "    <tr>\n",
       "      <th>8</th>\n",
       "      <td>4FGL J1051.4+3942</td>\n",
       "      <td>bll</td>\n",
       "      <td>78.725214</td>\n",
       "      <td>157.072765</td>\n",
       "      <td>1.074298e-09</td>\n",
       "    </tr>\n",
       "    <tr>\n",
       "      <th>9</th>\n",
       "      <td>4FGL J1101.4+4108</td>\n",
       "      <td>bll</td>\n",
       "      <td>95.072888</td>\n",
       "      <td>157.698643</td>\n",
       "      <td>1.076507e-09</td>\n",
       "    </tr>\n",
       "  </tbody>\n",
       "</table>\n",
       "</div>"
      ],
      "text/plain": [
       "                name class            ts         npred          flux\n",
       "0  4FGL J1104.4+3812   BLL  86584.887885  29653.653811  1.999230e-07\n",
       "1  4FGL J1101.5+3904   bcu     44.926957   1320.780916  1.315601e-08\n",
       "2  4FGL J1109.6+3735   bll     44.199183    120.808769  7.998021e-10\n",
       "3  4FGL J1105.8+3944   bll     28.509169    242.528664  1.983474e-09\n",
       "4  4FGL J1106.7+3623            5.441834    336.755649  3.513795e-09\n",
       "5  4FGL J1100.3+4020   bll    166.705277    323.441088  2.302102e-09\n",
       "6  4FGL J1054.2+3926   bcu     24.775421    301.199487  2.671951e-09\n",
       "7  4FGL J1111.0+3542   bll     12.782255    108.831085  9.124106e-10\n",
       "8  4FGL J1051.4+3942   bll     78.725214    157.072765  1.074298e-09\n",
       "9  4FGL J1101.4+4108   bll     95.072888    157.698643  1.076507e-09"
      ]
     },
     "execution_count": 41,
     "metadata": {},
     "output_type": "execute_result"
    }
   ],
   "source": [
    "tab[['name', 'class', 'ts', 'npred', 'flux']].to_pandas().head(10)"
   ]
  },
  {
   "cell_type": "code",
   "execution_count": 54,
   "metadata": {},
   "outputs": [
    {
     "data": {
      "text/html": [
       "&lt;Row index=0&gt;\n",
       "<table id=\"table140341211969360\">\n",
       "<thead><tr><th>param_names [10]</th><th>param_values [10]</th><th>param_errors [10]</th></tr></thead>\n",
       "<thead><tr><th>str32</th><th>float64</th><th>float64</th></tr></thead>\n",
       "<tr><td>norm ..</td><td>1.89400602234e-11 .. nan</td><td>1.58045230647e-13 .. nan</td></tr>\n",
       "</table>"
      ],
      "text/plain": [
       "<Row index=0>\n",
       "param_names [10]    param_values [10]        param_errors [10]    \n",
       "     str32               float64                  float64         \n",
       "---------------- ------------------------ ------------------------\n",
       "        norm ..  1.89400602234e-11 .. nan 1.58045230647e-13 .. nan"
      ]
     },
     "execution_count": 54,
     "metadata": {},
     "output_type": "execute_result"
    }
   ],
   "source": [
    "tab[['param_names','param_values','param_errors']][0]"
   ]
  },
  {
   "cell_type": "markdown",
   "metadata": {},
   "source": [
    "## Reloading from a Previous State\n",
    "\n",
    "[**&uarr; Return to Contents**](#Fermipy)"
   ]
  },
  {
   "cell_type": "markdown",
   "metadata": {},
   "source": [
    "Construct a new instance of ```GTAnalysis``` from a previously saved results file."
   ]
  },
  {
   "cell_type": "code",
   "execution_count": 55,
   "metadata": {},
   "outputs": [
    {
     "name": "stderr",
     "output_type": "stream",
     "text": [
      "2020-03-15 21:30:05 INFO    GTAnalysis.__init__(): \n",
      "--------------------------------------------------------------------------------\n",
      "fermipy version 0.18.1 \n",
      "ScienceTools version unknown\n",
      "2020-03-15 21:30:06 INFO    GTAnalysis.setup(): Running setup.\n",
      "2020-03-15 21:30:06 INFO    GTBinnedAnalysis.setup(): Running setup for component 00\n",
      "2020-03-15 21:30:06 INFO    GTBinnedAnalysis._select_data(): Skipping data selection.\n",
      "2020-03-15 21:30:06 INFO    GTBinnedAnalysis.setup(): Using external LT cube.\n",
      "2020-03-15 21:30:07 INFO    GTBinnedAnalysis._create_expcube(): Skipping gtexpcube.\n",
      "2020-03-15 21:30:07 INFO    GTBinnedAnalysis._create_srcmaps(): Skipping gtsrcmaps.\n",
      "2020-03-15 21:30:07 INFO    GTBinnedAnalysis.setup(): Finished setup for component 00\n",
      "2020-03-15 21:30:07 INFO    GTBinnedAnalysis._create_binned_analysis(): Creating BinnedAnalysis for component 00.\n",
      "2020-03-15 21:30:18 INFO    GTAnalysis.setup(): Finished setup.\n",
      "2020-03-15 21:30:18 INFO    GTAnalysis.load_roi(): Loading ROI file: /home/mpotto/Pesquisa/astroph/tutorials/fermipy/mkn421/fit_model.npy\n",
      "2020-03-15 21:30:18 INFO    GTBinnedAnalysis._create_binned_analysis(): Creating BinnedAnalysis for component 00.\n",
      "2020-03-15 21:30:29 INFO    GTAnalysis.load_roi(): Finished Loading ROI\n"
     ]
    }
   ],
   "source": [
    "gta_reloaded = GTAnalysis.create('fit_model.npy')"
   ]
  },
  {
   "cell_type": "markdown",
   "metadata": {},
   "source": [
    "Or load the same instance of ```GTAnalysis``` on a previous state saved via ```write_roi()```."
   ]
  },
  {
   "cell_type": "code",
   "execution_count": 68,
   "metadata": {},
   "outputs": [
    {
     "name": "stderr",
     "output_type": "stream",
     "text": [
      "2020-03-15 21:33:13 INFO    GTAnalysis.__init__(): \n",
      "--------------------------------------------------------------------------------\n",
      "fermipy version 0.18.1 \n",
      "ScienceTools version unknown\n"
     ]
    }
   ],
   "source": [
    "gta = GTAnalysis('config.yaml')"
   ]
  },
  {
   "cell_type": "code",
   "execution_count": 69,
   "metadata": {},
   "outputs": [
    {
     "name": "stderr",
     "output_type": "stream",
     "text": [
      "2020-03-15 21:33:14 INFO    GTAnalysis.setup(): Running setup.\n",
      "2020-03-15 21:33:14 INFO    GTBinnedAnalysis.setup(): Running setup for component 00\n",
      "2020-03-15 21:33:14 INFO    GTBinnedAnalysis._select_data(): Skipping data selection.\n",
      "2020-03-15 21:33:14 INFO    GTBinnedAnalysis.setup(): Using external LT cube.\n",
      "2020-03-15 21:33:14 INFO    GTBinnedAnalysis._create_expcube(): Skipping gtexpcube.\n",
      "2020-03-15 21:33:14 INFO    GTBinnedAnalysis._create_srcmaps(): Skipping gtsrcmaps.\n",
      "2020-03-15 21:33:14 INFO    GTBinnedAnalysis.setup(): Finished setup for component 00\n",
      "2020-03-15 21:33:14 INFO    GTBinnedAnalysis._create_binned_analysis(): Creating BinnedAnalysis for component 00.\n",
      "2020-03-15 21:33:25 INFO    GTAnalysis.setup(): Initializing source properties\n",
      "2020-03-15 21:33:26 INFO    GTAnalysis.setup(): Finished setup.\n"
     ]
    }
   ],
   "source": [
    "gta.setup()"
   ]
  },
  {
   "cell_type": "markdown",
   "metadata": {},
   "source": [
    "*Save a pre-fit state*"
   ]
  },
  {
   "cell_type": "code",
   "execution_count": 70,
   "metadata": {},
   "outputs": [
    {
     "name": "stderr",
     "output_type": "stream",
     "text": [
      "2020-03-15 21:33:26 INFO    GTBinnedAnalysis.write_xml(): Writing /home/mpotto/Pesquisa/astroph/tutorials/fermipy/mkn421/prefit_model_00.xml...\n",
      "2020-03-15 21:33:26 INFO    GTAnalysis.write_fits(): Writing /home/mpotto/Pesquisa/astroph/tutorials/fermipy/mkn421/prefit_model.fits...\n",
      "2020-03-15 21:33:27 INFO    GTAnalysis.write_roi(): Writing /home/mpotto/Pesquisa/astroph/tutorials/fermipy/mkn421/prefit_model.npy...\n"
     ]
    }
   ],
   "source": [
    "gta.write_roi('prefit_model')"
   ]
  },
  {
   "cell_type": "code",
   "execution_count": 71,
   "metadata": {},
   "outputs": [
    {
     "name": "stderr",
     "output_type": "stream",
     "text": [
      "2020-03-15 21:33:27 INFO    GTAnalysis.print_roi(): \n",
      "name                SpatialModel   SpectrumType     offset        ts       npred\n",
      "--------------------------------------------------------------------------------\n",
      "4FGL J1104.4+3812   PointSource    LogParabola       0.000       nan     29970.1\n",
      "4FGL J1101.5+3904   PointSource    PowerLaw          1.038       nan      1451.6\n",
      "4FGL J1109.6+3735   PointSource    PowerLaw          1.192       nan       148.3\n",
      "4FGL J1105.8+3944   PointSource    PowerLaw          1.558       nan       210.1\n",
      "4FGL J1106.7+3623   PointSource    PowerLaw          1.863       nan       584.4\n",
      "4FGL J1100.3+4020   PointSource    PowerLaw          2.272       nan       338.2\n",
      "4FGL J1054.2+3926   PointSource    PowerLaw          2.343       nan       251.9\n",
      "4FGL J1111.0+3542   PointSource    PowerLaw          2.820       nan       157.7\n",
      "4FGL J1051.4+3942   PointSource    PowerLaw          2.942       nan       146.6\n",
      "4FGL J1101.4+4108   PointSource    PowerLaw          2.994       nan       181.4\n",
      "4FGL J1112.5+3448   PointSource    LogParabola       3.775       nan      2389.8\n",
      "4FGL J1041.7+3902   PointSource    PowerLaw          4.513       nan       145.5\n",
      "4FGL J1128.8+3757   PointSource    PowerLaw          4.795       nan       736.3\n",
      "4FGL J1127.8+3618   PointSource    PowerLaw          5.021       nan      1774.5\n",
      "4FGL J1129.1+3703   PointSource    PowerLaw          5.022       nan       326.4\n",
      "4FGL J1120.8+4212   PointSource    PowerLaw          5.068       nan       682.7\n",
      "4FGL J1131.0+3815   PointSource    LogParabola       5.212       nan      1148.9\n",
      "4FGL J1051.6+3253   PointSource    PowerLaw          5.926       nan        90.7\n",
      "4FGL J1109.8+4406   PointSource    PowerLaw          5.981       nan       236.2\n",
      "4FGL J1033.7+3708   PointSource    PowerLaw          6.176       nan       216.6\n",
      "4FGL J1032.6+3737   PointSource    PowerLaw          6.293       nan       119.6\n",
      "4FGL J1033.1+4115   PointSource    PowerLaw          6.758       nan       662.9\n",
      "4FGL J1139.0+4033   PointSource    PowerLaw          7.081       nan       169.5\n",
      "4FGL J1138.2+4115   PointSource    PowerLaw          7.176       nan        27.2\n",
      "4FGL J1033.5+4221   PointSource    PowerLaw          7.206       nan         9.4\n",
      "4FGL J1039.2+3258   PointSource    PowerLaw          7.322       nan       126.4\n",
      "4FGL J1136.2+3407   PointSource    PowerLaw          7.604       nan       147.5\n",
      "4FGL J1035.6+4409   PointSource    PowerLaw          8.042       nan        58.8\n",
      "4FGL J1129.5+3034   PointSource    PowerLaw          9.208       nan        29.5\n",
      "4FGL J1145.5+4423   PointSource    PowerLaw          9.878       nan        11.8\n",
      "isodiff             ConstantValue  FileFunction      -----       nan     46726.3\n",
      "galdiff             MapCubeFunctio PowerLaw          -----       nan     30913.5\n",
      "\n"
     ]
    }
   ],
   "source": [
    "gta.print_roi()"
   ]
  },
  {
   "cell_type": "markdown",
   "metadata": {},
   "source": [
    "*Do some modifications*"
   ]
  },
  {
   "cell_type": "code",
   "execution_count": 72,
   "metadata": {},
   "outputs": [
    {
     "name": "stderr",
     "output_type": "stream",
     "text": [
      "2020-03-15 21:33:32 INFO    GTAnalysis.free_source(): Freeing parameters for 4FGL J1104.4+3812     : ['norm', 'alpha', 'beta']\n"
     ]
    }
   ],
   "source": [
    "gta.free_source('mkn421')"
   ]
  },
  {
   "cell_type": "code",
   "execution_count": 73,
   "metadata": {},
   "outputs": [
    {
     "name": "stderr",
     "output_type": "stream",
     "text": [
      "2020-03-15 21:33:33 INFO    GTAnalysis.fit(): Starting fit.\n",
      "2020-03-15 21:33:34 INFO    GTAnalysis.fit(): Fit returned successfully. Quality:   3 Status:   0\n",
      "2020-03-15 21:33:34 INFO    GTAnalysis.fit(): LogLike:   -77229.850 DeltaLogLike:       12.921 \n"
     ]
    }
   ],
   "source": [
    "gta.fit();"
   ]
  },
  {
   "cell_type": "code",
   "execution_count": 74,
   "metadata": {},
   "outputs": [
    {
     "name": "stderr",
     "output_type": "stream",
     "text": [
      "2020-03-15 21:33:40 INFO    GTAnalysis.print_roi(): \n",
      "name                SpatialModel   SpectrumType     offset        ts       npred\n",
      "--------------------------------------------------------------------------------\n",
      "4FGL J1104.4+3812   PointSource    LogParabola       0.000  95876.87     30604.8\n",
      "4FGL J1101.5+3904   PointSource    PowerLaw          1.038       nan      1451.6\n",
      "4FGL J1109.6+3735   PointSource    PowerLaw          1.192       nan       148.3\n",
      "4FGL J1105.8+3944   PointSource    PowerLaw          1.558       nan       210.1\n",
      "4FGL J1106.7+3623   PointSource    PowerLaw          1.863       nan       584.4\n",
      "4FGL J1100.3+4020   PointSource    PowerLaw          2.272       nan       338.2\n",
      "4FGL J1054.2+3926   PointSource    PowerLaw          2.343       nan       251.9\n",
      "4FGL J1111.0+3542   PointSource    PowerLaw          2.820       nan       157.7\n",
      "4FGL J1051.4+3942   PointSource    PowerLaw          2.942       nan       146.6\n",
      "4FGL J1101.4+4108   PointSource    PowerLaw          2.994       nan       181.4\n",
      "4FGL J1112.5+3448   PointSource    LogParabola       3.775       nan      2389.8\n",
      "4FGL J1041.7+3902   PointSource    PowerLaw          4.513       nan       145.5\n",
      "4FGL J1128.8+3757   PointSource    PowerLaw          4.795       nan       736.3\n",
      "4FGL J1127.8+3618   PointSource    PowerLaw          5.021       nan      1774.5\n",
      "4FGL J1129.1+3703   PointSource    PowerLaw          5.022       nan       326.4\n",
      "4FGL J1120.8+4212   PointSource    PowerLaw          5.068       nan       682.7\n",
      "4FGL J1131.0+3815   PointSource    LogParabola       5.212       nan      1148.9\n",
      "4FGL J1051.6+3253   PointSource    PowerLaw          5.926       nan        90.7\n",
      "4FGL J1109.8+4406   PointSource    PowerLaw          5.981       nan       236.2\n",
      "4FGL J1033.7+3708   PointSource    PowerLaw          6.176       nan       216.6\n",
      "4FGL J1032.6+3737   PointSource    PowerLaw          6.293       nan       119.6\n",
      "4FGL J1033.1+4115   PointSource    PowerLaw          6.758       nan       662.9\n",
      "4FGL J1139.0+4033   PointSource    PowerLaw          7.081       nan       169.5\n",
      "4FGL J1138.2+4115   PointSource    PowerLaw          7.176       nan        27.2\n",
      "4FGL J1033.5+4221   PointSource    PowerLaw          7.206       nan         9.4\n",
      "4FGL J1039.2+3258   PointSource    PowerLaw          7.322       nan       126.4\n",
      "4FGL J1136.2+3407   PointSource    PowerLaw          7.604       nan       147.5\n",
      "4FGL J1035.6+4409   PointSource    PowerLaw          8.042       nan        58.8\n",
      "4FGL J1129.5+3034   PointSource    PowerLaw          9.208       nan        29.5\n",
      "4FGL J1145.5+4423   PointSource    PowerLaw          9.878       nan        11.8\n",
      "isodiff             ConstantValue  FileFunction      -----       nan     46726.3\n",
      "galdiff             MapCubeFunctio PowerLaw          -----       nan     30913.5\n",
      "\n"
     ]
    }
   ],
   "source": [
    "gta.print_roi()"
   ]
  },
  {
   "cell_type": "markdown",
   "metadata": {},
   "source": [
    "*Reload pre-fit model*"
   ]
  },
  {
   "cell_type": "code",
   "execution_count": 75,
   "metadata": {},
   "outputs": [
    {
     "name": "stderr",
     "output_type": "stream",
     "text": [
      "2020-03-15 21:33:45 INFO    GTAnalysis.load_roi(): Loading ROI file: /home/mpotto/Pesquisa/astroph/tutorials/fermipy/mkn421/prefit_model.npy\n",
      "2020-03-15 21:33:45 INFO    GTBinnedAnalysis._create_binned_analysis(): Creating BinnedAnalysis for component 00.\n",
      "2020-03-15 21:33:56 INFO    GTAnalysis.load_roi(): Finished Loading ROI\n"
     ]
    }
   ],
   "source": [
    "gta.load_roi('prefit_model')"
   ]
  },
  {
   "cell_type": "code",
   "execution_count": 76,
   "metadata": {},
   "outputs": [
    {
     "name": "stderr",
     "output_type": "stream",
     "text": [
      "2020-03-15 21:33:56 INFO    GTAnalysis.print_roi(): \n",
      "name                SpatialModel   SpectrumType     offset        ts       npred\n",
      "--------------------------------------------------------------------------------\n",
      "4FGL J1104.4+3812   PointSource    LogParabola       0.000       nan     29970.1\n",
      "4FGL J1101.5+3904   PointSource    PowerLaw          1.038       nan      1451.6\n",
      "4FGL J1109.6+3735   PointSource    PowerLaw          1.192       nan       148.3\n",
      "4FGL J1105.8+3944   PointSource    PowerLaw          1.558       nan       210.1\n",
      "4FGL J1106.7+3623   PointSource    PowerLaw          1.863       nan       584.4\n",
      "4FGL J1100.3+4020   PointSource    PowerLaw          2.272       nan       338.2\n",
      "4FGL J1054.2+3926   PointSource    PowerLaw          2.343       nan       251.9\n",
      "4FGL J1111.0+3542   PointSource    PowerLaw          2.820       nan       157.7\n",
      "4FGL J1051.4+3942   PointSource    PowerLaw          2.942       nan       146.6\n",
      "4FGL J1101.4+4108   PointSource    PowerLaw          2.994       nan       181.4\n",
      "4FGL J1112.5+3448   PointSource    LogParabola       3.775       nan      2389.8\n",
      "4FGL J1041.7+3902   PointSource    PowerLaw          4.513       nan       145.5\n",
      "4FGL J1128.8+3757   PointSource    PowerLaw          4.795       nan       736.3\n",
      "4FGL J1127.8+3618   PointSource    PowerLaw          5.021       nan      1774.5\n",
      "4FGL J1129.1+3703   PointSource    PowerLaw          5.022       nan       326.4\n",
      "4FGL J1120.8+4212   PointSource    PowerLaw          5.068       nan       682.7\n",
      "4FGL J1131.0+3815   PointSource    LogParabola       5.212       nan      1148.9\n",
      "4FGL J1051.6+3253   PointSource    PowerLaw          5.926       nan        90.7\n",
      "4FGL J1109.8+4406   PointSource    PowerLaw          5.981       nan       236.2\n",
      "4FGL J1033.7+3708   PointSource    PowerLaw          6.176       nan       216.6\n",
      "4FGL J1032.6+3737   PointSource    PowerLaw          6.293       nan       119.6\n",
      "4FGL J1033.1+4115   PointSource    PowerLaw          6.758       nan       662.9\n",
      "4FGL J1139.0+4033   PointSource    PowerLaw          7.081       nan       169.5\n",
      "4FGL J1138.2+4115   PointSource    PowerLaw          7.176       nan        27.2\n",
      "4FGL J1033.5+4221   PointSource    PowerLaw          7.206       nan         9.4\n",
      "4FGL J1039.2+3258   PointSource    PowerLaw          7.322       nan       126.4\n",
      "4FGL J1136.2+3407   PointSource    PowerLaw          7.604       nan       147.5\n",
      "4FGL J1035.6+4409   PointSource    PowerLaw          8.042       nan        58.8\n",
      "4FGL J1129.5+3034   PointSource    PowerLaw          9.208       nan        29.5\n",
      "4FGL J1145.5+4423   PointSource    PowerLaw          9.878       nan        11.8\n",
      "galdiff             MapCubeFunctio PowerLaw          -----       nan     30913.5\n",
      "isodiff             ConstantValue  FileFunction      -----       nan     46726.3\n",
      "\n"
     ]
    }
   ],
   "source": [
    "gta.print_roi()"
   ]
  },
  {
   "cell_type": "markdown",
   "metadata": {},
   "source": [
    "## Querying and Downloading data with astroquery\n",
    "\n",
    "[**&uarr; Return to Contents**](#Fermipy)"
   ]
  },
  {
   "cell_type": "markdown",
   "metadata": {},
   "source": [
    "Query using astroquery Fermi API."
   ]
  },
  {
   "cell_type": "code",
   "execution_count": 14,
   "metadata": {},
   "outputs": [],
   "source": [
    "from astroquery import fermi"
   ]
  },
  {
   "cell_type": "code",
   "execution_count": 5,
   "metadata": {},
   "outputs": [],
   "source": [
    "result = fermi.FermiLAT.query_object(name_or_coords='238.929,11.1901', \n",
    "                                     searchradius='30',\n",
    "                                     timesys='MET',\n",
    "                                     obsdates='239557417, 256970880',\n",
    "                                     energyrange_MeV='100,300000')"
   ]
  },
  {
   "cell_type": "markdown",
   "metadata": {},
   "source": [
    "Download using ```urllib``` request."
   ]
  },
  {
   "cell_type": "code",
   "execution_count": null,
   "metadata": {},
   "outputs": [],
   "source": [
    "from six.moves.urllib import request"
   ]
  },
  {
   "cell_type": "code",
   "execution_count": 6,
   "metadata": {},
   "outputs": [],
   "source": [
    "image_ph1 = request.urlopen(result[-1])"
   ]
  },
  {
   "cell_type": "markdown",
   "metadata": {},
   "source": [
    "Save the image as ```.fits```"
   ]
  },
  {
   "cell_type": "code",
   "execution_count": 7,
   "metadata": {},
   "outputs": [],
   "source": [
    "with open('test.fits', 'w') as image:\n",
    "    image.write(image_ph1.read())"
   ]
  },
  {
   "cell_type": "markdown",
   "metadata": {},
   "source": [
    "Verify the download by checking the PrimaryHDU header."
   ]
  },
  {
   "cell_type": "code",
   "execution_count": 9,
   "metadata": {},
   "outputs": [],
   "source": [
    "from astropy.io import fits"
   ]
  },
  {
   "cell_type": "code",
   "execution_count": 10,
   "metadata": {},
   "outputs": [],
   "source": [
    "with fits.open('test.fits') as hdul:\n",
    "    header = hdul[0].header"
   ]
  },
  {
   "cell_type": "code",
   "execution_count": 11,
   "metadata": {},
   "outputs": [
    {
     "data": {
      "text/plain": [
       "SIMPLE  =                    T / file does conform to FITS standard             \n",
       "BITPIX  =                    8 / number of bits per data pixel                  \n",
       "NAXIS   =                    0 / number of data axes                            \n",
       "EXTEND  =                    T / FITS dataset may contain extensions            \n",
       "COMMENT   FITS (Flexible Image Transport System) format is defined in 'Astronomy\n",
       "COMMENT   and Astrophysics', volume 376, page 359; bibcode: 2001A&A...376..359H \n",
       "CHECKSUM= 'd9VYe6UVd6UVd6UV'   / HDU checksum updated 2020-03-15T05:38:29       \n",
       "TELESCOP= 'GLAST   '           / name of telescope generating data              \n",
       "INSTRUME= 'LAT     '           / name of instrument generating data             \n",
       "EQUINOX =                2000. / equinox for ra and dec                         \n",
       "RADECSYS= 'FK5     '           / world coord. system for this file (FK5 or FK4) \n",
       "DATE    = '2020-03-15T01:38:27' / file creation date (YYYY-MM-DDThh:mm:ss U     \n",
       "DATE-OBS= '2008-11-13T00:37:48.0000' / start date and time of the observation (U\n",
       "DATE-END= '2009-02-22T04:47:58.0000' / end date and time of the observation (UTC\n",
       "TSTART  =           248229469. / mission time of the start of the observation   \n",
       "TSTOP   =           256970880. / mission time of the end of the observation     \n",
       "TIMEUNIT= 's       '           / units for the time related keywords            \n",
       "TIMEZERO=                   0. / clock correction                               \n",
       "TIMESYS = 'TT      '           / type of time system that is used               \n",
       "TIMEREF = 'LOCAL   '           / reference frame used for times                 \n",
       "CLOCKAPP=                    F / whether a clock drift correction has been appli\n",
       "GPS_OUT =                    F / whether GPS time was unavailable at any time du\n",
       "MJDREFI =               51910. / Integer part of MJD corresponding to SC clock s\n",
       "MJDREFF =  0.00074287037037037 / Fractional part of MJD corresponding to SC cloc\n",
       "OBSERVER= 'Peter Michelson'    / GLAST/LAT PI                                   \n",
       "FILENAME= 'L200315013826F357373F57_PH01.fits' / name of this file               \n",
       "ORIGIN  = 'FSSC    '           / name of organization making file               \n",
       "CREATOR = 'photonDatabase $Name:  $' / software and version creating file       \n",
       "VERSION = '305     '           / release version of the file                    \n",
       "PROC_VER=                  305 / processing version of this file                \n",
       "DATASUM = '         0'         / data unit checksum updated 2017-11-06T16:21:12 "
      ]
     },
     "execution_count": 11,
     "metadata": {},
     "output_type": "execute_result"
    }
   ],
   "source": [
    "header"
   ]
  },
  {
   "cell_type": "code",
   "execution_count": null,
   "metadata": {},
   "outputs": [],
   "source": []
  }
 ],
 "metadata": {
  "kernelspec": {
   "display_name": "Python 2",
   "language": "python",
   "name": "python2"
  },
  "language_info": {
   "codemirror_mode": {
    "name": "ipython",
    "version": 2
   },
   "file_extension": ".py",
   "mimetype": "text/x-python",
   "name": "python",
   "nbconvert_exporter": "python",
   "pygments_lexer": "ipython2",
   "version": "2.7.14"
  }
 },
 "nbformat": 4,
 "nbformat_minor": 4
}
