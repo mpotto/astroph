{
 "cells": [
  {
   "cell_type": "markdown",
   "metadata": {},
   "source": [
    "# Fermipy\n",
    "\n",
    "Notes on the [fermipy quickstart guide](https://fermipy.readthedocs.io/en/latest/quickstart.html) and on the notebook tutorials.\n",
    "\n",
    "**Contents**\n",
    "* [Quickstart guide](#Quickstart-guide)\n",
    "* [Creating an Analysis Script](#Creating-an-Analysis-Script)\n",
    "* [Extracting Analysis Results](#Extracting-Analysis-Results)\n",
    "* [*Extra*: queries and download data with astroquery](#Querying-and-Downloading-data-with-astroquery)\n",
    "\n",
    "**References**\n",
    "* [Mapping on the HEALPix grid - Calabretta *et al.*](https://fits.gsfc.nasa.gov/wcs/mhg_20050615.pdf)\n",
    "* [The HEALPix Primer - Górski *et al.*](https://healpix.jpl.nasa.gov/pdf/intro.pdf)\n",
    "* [Data Analysis on the Sphere - Sureau *et al.*](http://ada7.cosmostat.org/ADA7_Tutorial_6.pdf)\n",
    "* [Galactic Interstellar Emission Model for the 4FGL Catalog Analysis - *Fermi*-LAT Collaboration](https://fermi.gsfc.nasa.gov/ssc/data/analysis/software/aux/4fgl/Galactic_Diffuse_Emission_Model_for_the_4FGL_Catalog_Analysis.pdf)"
   ]
  },
  {
   "cell_type": "markdown",
   "metadata": {},
   "source": [
    "## Quickstart guide\n",
    "\n",
    "[**&uarr; Return to Contents**](#Fermipy)"
   ]
  },
  {
   "cell_type": "code",
   "execution_count": 1,
   "metadata": {},
   "outputs": [
    {
     "name": "stdout",
     "output_type": "stream",
     "text": [
      "/home/mpotto/Pesquisa/astroph/tutorials/fermipy/mkn421\n"
     ]
    }
   ],
   "source": [
    "% cd /home/mpotto/Pesquisa/astroph/tutorials/fermipy/mkn421"
   ]
  },
  {
   "cell_type": "markdown",
   "metadata": {},
   "source": [
    "### Create a Configuration file\n",
    "\n",
    "Check the syntax on the page [Configuration](https://fermipy.readthedocs.io/en/latest/config.html#config), [Cicerone Glossary](https://fermi.gsfc.nasa.gov/ssc/data/analysis/documentation/Cicerone/Glossary.html) and other Cicerone threads for more info. Configuration files defines the data selection and analysis parameters. \n",
    "\n",
    "Our documented configuration file is ```config.yaml```\n",
    "\n",
    "```yaml\n",
    "data:\n",
    "# The data section defines the input data files for the analysis.\n",
    "\n",
    "  evfile : ft1.lst      # Path to FT1 files or list or list of files.          \n",
    "  scfile : ft2.fits     # Path to FT2 (spacecraft) file. The spacecraft FITS file with the time history of the spacecraft position, LAT orientation and LAT livetime. Also called an FT2 file.\n",
    "  ltcube : ltcube.fits  # Path to livetime cube.\n",
    "\n",
    "binning:\n",
    "# The binning section controls the spatial and binning of the data.\n",
    "\n",
    "  roiwidth   : 10.0     # width of the ROI in degrees.\n",
    "  binsz      : 0.1      # spatial bin size in degrees.\n",
    "  binsperdec : 8        # number of bins per decade.\n",
    "\n",
    "selection :\n",
    "# The selection section collects parameters relatedd to the data selection and target definition. The majority of the parameters are arguments to gtselect and gtmktime.\n",
    "\n",
    "  emin : 100            # Minimum energy (MeV)\n",
    "  emax : 316227.76      # Maximum energy (MeV)\n",
    "  zmax    : 90          # Maximum zenith angle.\n",
    "  evclass : 128         # Event class selection.\n",
    "  evtype  : 3           # Event type selection according to the IRF (in our case P8R2, Pass 8 Release 2)\n",
    "  tmin    : 239557414   # Minimum time (MET, Mission Elapsed Time)\n",
    "  tmax    : 428903014   # Maximum time (MET)\n",
    "  filter  : null        # Filter string for gtmktime selection.\n",
    "  target  : 'mkn421'     # Object on which to center the ROI. Has precedence over ra/dec or glon/glat\n",
    "\n",
    "gtlike:\n",
    "# The gtlike section controls the setup of the likelihood analysis \n",
    "\n",
    "  edisp : True                              # Enable correction for energy dispersion.\n",
    "  irfs : 'P8R2_SOURCE_V6'                   # Set the IRF (Instrument Response Function) string.\n",
    "  edisp_disable : ['isodiff','galdiff']     # List of sources for which edisp correction should be disabled.\n",
    "\n",
    "model:\n",
    "# The model section collects options that control the inclusion of point-source and difuse\n",
    "# components in the model. 'galdiff' and 'isodiff' sets the templates for the Galactic IEM\n",
    "# (Interstellar emission model) and istropic diffuse.\n",
    "\n",
    "  src_roiwidth : 15.0                                   # Width of square region in degrees centered on the ROI that selects sources for inclusion in the model. If this parameter is none  then no selection is applied. This selection will be ORed with the src_radius selection.\n",
    "  galdiff  : '$FERMI_DIFFUSE_DIR/gll_iem_v07.fits'      # Set the path to one or more galactic IEM mapcubes. A separate component will be generated for each item in this list.\n",
    "  isodiff  : 'iso_P8R2_SOURCE_V6_v06.txt'               # Set the path to one or more isotropic templates. A separate component will be generated for each item in this list.\n",
    "  catalogs : ['4FGL']                                   # List of catalogs that will be merged to form a master analysis catalog from which sources will be drawn. FGL stands for Fermi Gamma-ray LAT. 1FGL was released at 1 year, 2FGL at 2 year and 3FGL at 4 year. 4FGL was released on February 2019 and is based on 8 years (50 MeV - 1 TeV range).\n",
    "\n",
    "#components:\n",
    "# The components section gives the user the option to combine multiple data selections into a joint likelihood. It contains a list of dictionaries with the same hierarchy as the root analysis configuration. Each element of the list defines the analysis parameters for an independent sub-selection of the data. Any component not defined in the dictionary default to the value defined in the root config. \n",
    "\n",
    "# Example (changing event types in the IRF)\n",
    "\n",
    "#    - { selection: { evtype : 4} }      # Set the evtype to PSF0 \n",
    "#    - { selection: { evtype : 8} }      # PSF1\n",
    "#    - { selection: { evtype : 16} }     # PSF2\n",
    "#    - { selection: { evtype : 32} }     # PSF3\n",
    "```"
   ]
  },
  {
   "cell_type": "markdown",
   "metadata": {},
   "source": [
    "## Creating an Analysis Script\n",
    "\n",
    "[**&uarr; Return to Contents**](#Fermipy)"
   ]
  },
  {
   "cell_type": "code",
   "execution_count": 20,
   "metadata": {},
   "outputs": [],
   "source": [
    "from fermipy.gtanalysis import GTAnalysis"
   ]
  },
  {
   "cell_type": "code",
   "execution_count": 21,
   "metadata": {},
   "outputs": [
    {
     "name": "stderr",
     "output_type": "stream",
     "text": [
      "2020-04-08 14:55:49 INFO    GTAnalysis.__init__(): \n",
      "--------------------------------------------------------------------------------\n",
      "fermipy version 0.18.1 \n",
      "ScienceTools version unknown\n"
     ]
    }
   ],
   "source": [
    "gta = GTAnalysis('config.yaml', logging={'verbosity': 3})"
   ]
  },
  {
   "cell_type": "markdown",
   "metadata": {},
   "source": [
    "Data preparation and response calculations (selecting data, creating counts and exposure maps, *etc.*). This step is *cached* so subsequent calls will run much faster."
   ]
  },
  {
   "cell_type": "code",
   "execution_count": 22,
   "metadata": {},
   "outputs": [
    {
     "name": "stderr",
     "output_type": "stream",
     "text": [
      "2020-04-08 14:55:50 INFO    GTAnalysis.setup(): Running setup.\n",
      "2020-04-08 14:55:50 INFO    GTBinnedAnalysis.setup(): Running setup for component 00\n",
      "2020-04-08 14:55:50 INFO    GTBinnedAnalysis._select_data(): Skipping data selection.\n",
      "2020-04-08 14:55:50 INFO    GTBinnedAnalysis.setup(): Using external LT cube.\n",
      "2020-04-08 14:55:51 INFO    GTBinnedAnalysis._create_expcube(): Skipping gtexpcube.\n",
      "2020-04-08 14:55:51 INFO    GTBinnedAnalysis._create_srcmaps(): Skipping gtsrcmaps.\n",
      "2020-04-08 14:55:51 INFO    GTBinnedAnalysis.setup(): Finished setup for component 00\n",
      "2020-04-08 14:55:51 INFO    GTBinnedAnalysis._create_binned_analysis(): Creating BinnedAnalysis for component 00.\n",
      "2020-04-08 14:56:03 INFO    GTAnalysis.setup(): Initializing source properties\n",
      "2020-04-08 14:56:03 INFO    GTAnalysis.setup(): Finished setup.\n"
     ]
    }
   ],
   "source": [
    "gta.setup()"
   ]
  },
  {
   "cell_type": "markdown",
   "metadata": {},
   "source": [
    "Loop over all model components in the ROI and fit their normalization and spectral shape parameters. Also computer the TS (test statistic) of all sources which can be useful to identify weak sources. "
   ]
  },
  {
   "cell_type": "code",
   "execution_count": 9,
   "metadata": {},
   "outputs": [
    {
     "name": "stderr",
     "output_type": "stream",
     "text": [
      "2020-04-06 13:01:55 INFO    GTAnalysis.optimize(): Starting\n"
     ]
    },
    {
     "name": "stdout",
     "output_type": "stream",
     "text": [
      "Joint fit  ['isodiff', 'galdiff', '4FGL J1104.4+3812', '4FGL J1112.5+3448', '4FGL J1127.8+3618']\n"
     ]
    },
    {
     "name": "stderr",
     "output_type": "stream",
     "text": [
      "/home/mpotto/anaconda3/envs/fermi/lib/python2.7/site-packages/scipy/interpolate/fitpack2.py:224: UserWarning: \n",
      "The maximal number of iterations maxit (set to 20 by the program)\n",
      "allowed for finding a smoothing spline with fp=s has been reached: s\n",
      "too small.\n",
      "There is an approximation returned but the corresponding weighted sum\n",
      "of squared residuals does not satisfy the condition abs(fp-s)/s < tol.\n",
      "  warnings.warn(message)\n"
     ]
    },
    {
     "name": "stdout",
     "output_type": "stream",
     "text": [
      "Fitting shape 4FGL J1104.4+3812 TS:  86171.358\n",
      "Fitting shape isodiff TS:  14504.756\n",
      "Fitting shape galdiff TS:   3572.598\n",
      "Fitting shape 4FGL J1120.8+4212 TS:   1100.555\n",
      "Fitting shape 4FGL J1112.5+3448 TS:    947.669\n",
      "Fitting shape 4FGL J1127.8+3618 TS:    808.873\n",
      "Fitting shape 4FGL J1100.3+4020 TS:    163.682\n",
      "Fitting shape 4FGL J1128.8+3757 TS:    153.984\n",
      "Fitting shape 4FGL J1129.1+3703 TS:    114.334\n",
      "Fitting shape 4FGL J1101.4+4108 TS:     90.001\n",
      "Fitting shape 4FGL J1131.0+3815 TS:     77.382\n",
      "Fitting shape 4FGL J1051.4+3942 TS:     74.626\n",
      "Fitting shape 4FGL J1101.5+3904 TS:     60.936\n",
      "Fitting shape 4FGL J1033.1+4115 TS:     44.325\n",
      "Fitting shape 4FGL J1109.6+3735 TS:     42.905\n",
      "Fitting shape 4FGL J1105.8+3944 TS:     27.748\n"
     ]
    },
    {
     "name": "stderr",
     "output_type": "stream",
     "text": [
      "2020-04-06 13:02:10 INFO    GTAnalysis.optimize(): Finished\n",
      "2020-04-06 13:02:10 INFO    GTAnalysis.optimize(): LogLike: -77165.495265 Delta-LogLike: 77.276440\n",
      "2020-04-06 13:02:10 INFO    GTAnalysis.optimize(): Execution time: 14.38 s\n"
     ]
    }
   ],
   "source": [
    "gta.optimize();"
   ]
  },
  {
   "cell_type": "markdown",
   "metadata": {},
   "source": [
    "Print optimization results (notice the fitted spectrum type and ts)."
   ]
  },
  {
   "cell_type": "code",
   "execution_count": 10,
   "metadata": {},
   "outputs": [
    {
     "name": "stderr",
     "output_type": "stream",
     "text": [
      "2020-04-06 13:02:28 INFO    GTAnalysis.print_roi(): \n",
      "name                SpatialModel   SpectrumType     offset        ts       npred\n",
      "--------------------------------------------------------------------------------\n",
      "4FGL J1104.4+3812   PointSource    LogParabola       0.000  94758.00     29566.0\n",
      "4FGL J1101.5+3904   PointSource    PowerLaw          1.038     61.32      1344.3\n",
      "4FGL J1109.6+3735   PointSource    PowerLaw          1.192     43.90       121.8\n",
      "4FGL J1105.8+3944   PointSource    PowerLaw          1.558     28.81       244.7\n",
      "4FGL J1106.7+3623   PointSource    PowerLaw          1.863      5.44       336.8\n",
      "4FGL J1100.3+4020   PointSource    PowerLaw          2.272    163.80       319.9\n",
      "4FGL J1054.2+3926   PointSource    PowerLaw          2.343     24.93       299.2\n",
      "4FGL J1111.0+3542   PointSource    PowerLaw          2.820     12.54       109.7\n",
      "4FGL J1051.4+3942   PointSource    PowerLaw          2.942     77.00       155.9\n",
      "4FGL J1101.4+4108   PointSource    PowerLaw          2.994     92.89       156.5\n",
      "4FGL J1112.5+3448   PointSource    LogParabola       3.775   1053.14      2982.7\n",
      "4FGL J1041.7+3902   PointSource    PowerLaw          4.513     23.51       123.8\n",
      "4FGL J1128.8+3757   PointSource    PowerLaw          4.795    141.21       651.3\n",
      "4FGL J1127.8+3618   PointSource    PowerLaw          5.021    821.87      1964.4\n",
      "4FGL J1129.1+3703   PointSource    PowerLaw          5.022    116.22       419.2\n",
      "4FGL J1120.8+4212   PointSource    PowerLaw          5.068   1104.64       711.3\n",
      "4FGL J1131.0+3815   PointSource    LogParabola       5.212     70.58       891.1\n",
      "4FGL J1051.6+3253   PointSource    PowerLaw          5.926      5.02       182.2\n",
      "4FGL J1109.8+4406   PointSource    PowerLaw          5.981      3.56       226.2\n",
      "4FGL J1033.7+3708   PointSource    PowerLaw          6.176      8.83       378.0\n",
      "4FGL J1032.6+3737   PointSource    PowerLaw          6.293      0.11        43.9\n",
      "4FGL J1033.1+4115   PointSource    PowerLaw          6.758     47.55       739.4\n",
      "4FGL J1139.0+4033   PointSource    PowerLaw          7.081     10.12       398.9\n",
      "4FGL J1138.2+4115   PointSource    PowerLaw          7.176      0.00         2.3\n",
      "4FGL J1033.5+4221   PointSource    PowerLaw          7.206      0.06        19.5\n",
      "4FGL J1039.2+3258   PointSource    PowerLaw          7.322      3.84       153.0\n",
      "4FGL J1136.2+3407   PointSource    PowerLaw          7.604      2.71       200.6\n",
      "4FGL J1035.6+4409   PointSource    PowerLaw          8.042      0.13        36.4\n",
      "4FGL J1129.5+3034   PointSource    PowerLaw          9.208      0.62        96.2\n",
      "4FGL J1145.5+4423   PointSource    PowerLaw          9.878      0.52        84.5\n",
      "isodiff             ConstantValue  FileFunction      -----  42289.16     51445.4\n",
      "galdiff             MapCubeFunctio PowerLaw          -----  11082.81     28086.7\n",
      "\n"
     ]
    }
   ],
   "source": [
    "gta.print_roi()"
   ]
  },
  {
   "cell_type": "markdown",
   "metadata": {},
   "source": [
    "By default all models parameters are initially fixed. We can then free or fix parameters using the ```free_source()``` or ```free_sources()``` methods. In the following, we free the normalization of catalog sources within 3º of the ROI and free the galactic and isotropic diffuse components."
   ]
  },
  {
   "cell_type": "code",
   "execution_count": 7,
   "metadata": {},
   "outputs": [
    {
     "name": "stderr",
     "output_type": "stream",
     "text": [
      "2020-03-16 13:44:43 INFO    GTAnalysis.free_source(): Freeing parameters for 4FGL J1104.4+3812     : ['norm']\n",
      "2020-03-16 13:44:43 INFO    GTAnalysis.free_source(): Freeing parameters for 4FGL J1101.5+3904     : ['Prefactor']\n",
      "2020-03-16 13:44:43 INFO    GTAnalysis.free_source(): Freeing parameters for 4FGL J1109.6+3735     : ['Prefactor']\n",
      "2020-03-16 13:44:43 INFO    GTAnalysis.free_source(): Freeing parameters for 4FGL J1105.8+3944     : ['Prefactor']\n",
      "2020-03-16 13:44:43 INFO    GTAnalysis.free_source(): Freeing parameters for 4FGL J1106.7+3623     : ['Prefactor']\n",
      "2020-03-16 13:44:43 INFO    GTAnalysis.free_source(): Freeing parameters for 4FGL J1100.3+4020     : ['Prefactor']\n",
      "2020-03-16 13:44:43 INFO    GTAnalysis.free_source(): Freeing parameters for 4FGL J1054.2+3926     : ['Prefactor']\n",
      "2020-03-16 13:44:43 INFO    GTAnalysis.free_source(): Freeing parameters for 4FGL J1111.0+3542     : ['Prefactor']\n",
      "2020-03-16 13:44:43 INFO    GTAnalysis.free_source(): Freeing parameters for 4FGL J1051.4+3942     : ['Prefactor']\n",
      "2020-03-16 13:44:43 INFO    GTAnalysis.free_source(): Freeing parameters for 4FGL J1101.4+4108     : ['Prefactor']\n",
      "2020-03-16 13:44:43 INFO    GTAnalysis.free_source(): Freeing parameters for isodiff               : ['Normalization']\n",
      "2020-03-16 13:44:43 INFO    GTAnalysis.free_source(): Freeing parameters for galdiff               : ['Prefactor']\n"
     ]
    }
   ],
   "source": [
    "gta.free_sources(distance=3.0, pars='norm');"
   ]
  },
  {
   "cell_type": "code",
   "execution_count": 8,
   "metadata": {},
   "outputs": [
    {
     "name": "stderr",
     "output_type": "stream",
     "text": [
      "2020-03-16 13:44:43 INFO    GTAnalysis.free_source(): Freeing parameters for galdiff               : ['Index']\n"
     ]
    }
   ],
   "source": [
    "gta.free_source('galdiff')\n",
    "gta.free_source('isodiff')"
   ]
  },
  {
   "cell_type": "markdown",
   "metadata": {},
   "source": [
    "We can also free sources on the basis of their current TS and Npred (this is the number of photons used in the fit)."
   ]
  },
  {
   "cell_type": "code",
   "execution_count": 9,
   "metadata": {},
   "outputs": [
    {
     "name": "stderr",
     "output_type": "stream",
     "text": [
      "2020-03-16 13:44:43 INFO    GTAnalysis.free_source(): Freeing parameters for 4FGL J1112.5+3448     : ['norm']\n",
      "2020-03-16 13:44:43 INFO    GTAnalysis.free_source(): Freeing parameters for 4FGL J1041.7+3902     : ['Prefactor']\n",
      "2020-03-16 13:44:43 INFO    GTAnalysis.free_source(): Freeing parameters for 4FGL J1128.8+3757     : ['Prefactor']\n",
      "2020-03-16 13:44:43 INFO    GTAnalysis.free_source(): Freeing parameters for 4FGL J1127.8+3618     : ['Prefactor']\n",
      "2020-03-16 13:44:43 INFO    GTAnalysis.free_source(): Freeing parameters for 4FGL J1129.1+3703     : ['Prefactor']\n",
      "2020-03-16 13:44:43 INFO    GTAnalysis.free_source(): Freeing parameters for 4FGL J1120.8+4212     : ['Prefactor']\n",
      "2020-03-16 13:44:43 INFO    GTAnalysis.free_source(): Freeing parameters for 4FGL J1131.0+3815     : ['norm']\n",
      "2020-03-16 13:44:43 INFO    GTAnalysis.free_source(): Freeing parameters for 4FGL J1033.1+4115     : ['Prefactor']\n",
      "2020-03-16 13:44:43 INFO    GTAnalysis.free_source(): Freeing parameters for 4FGL J1139.0+4033     : ['Prefactor']\n",
      "2020-03-16 13:44:43 INFO    GTAnalysis.free_source(): Fixing parameters for 4FGL J1106.7+3623     : ['Prefactor']\n"
     ]
    }
   ],
   "source": [
    "gta.free_sources(minmax_ts=[10, None], pars='norm');\n",
    "gta.free_sources(minmax_ts=[None, 10], free=False, pars='norm');\n",
    "gta.free_sources(minmax_npred=[10, 100], free=False, pars='norm');"
   ]
  },
  {
   "cell_type": "code",
   "execution_count": 10,
   "metadata": {},
   "outputs": [
    {
     "name": "stderr",
     "output_type": "stream",
     "text": [
      "2020-03-16 13:44:43 INFO    GTAnalysis.fit(): Starting fit.\n",
      "2020-03-16 13:45:03 INFO    GTAnalysis.fit(): Fit returned successfully. Quality:   3 Status:   0\n",
      "2020-03-16 13:45:03 INFO    GTAnalysis.fit(): LogLike:   -77162.266 DeltaLogLike:        3.229 \n"
     ]
    }
   ],
   "source": [
    "gta.fit();"
   ]
  },
  {
   "cell_type": "code",
   "execution_count": 11,
   "metadata": {},
   "outputs": [
    {
     "name": "stderr",
     "output_type": "stream",
     "text": [
      "2020-03-16 13:45:03 INFO    GTBinnedAnalysis.write_xml(): Writing /home/mpotto/Pesquisa/astroph/tutorials/fermipy/mkn421/fit_model_00.xml...\n",
      "2020-03-16 13:45:03 INFO    GTAnalysis.write_fits(): Writing /home/mpotto/Pesquisa/astroph/tutorials/fermipy/mkn421/fit_model.fits...\n",
      "2020-03-16 13:45:05 INFO    GTAnalysis.write_roi(): Writing /home/mpotto/Pesquisa/astroph/tutorials/fermipy/mkn421/fit_model.npy...\n"
     ]
    }
   ],
   "source": [
    "gta.write_roi('fit_model/fit_model')"
   ]
  },
  {
   "cell_type": "markdown",
   "metadata": {},
   "source": [
    "Once we have optimized our model for the ROI we can use ```residmap()``` and ```tsmap()``` to asses the fit quality and look for new sources."
   ]
  },
  {
   "cell_type": "code",
   "execution_count": 12,
   "metadata": {},
   "outputs": [
    {
     "name": "stderr",
     "output_type": "stream",
     "text": [
      "2020-03-16 13:45:05 INFO    GTAnalysis.residmap(): Generating residual maps\n",
      "2020-03-16 13:45:05 INFO    GTAnalysis.add_source(): Adding source residmap_testsource\n",
      "2020-03-16 13:45:07 INFO    GTAnalysis.delete_source(): Deleting source residmap_testsource\n",
      "2020-03-16 13:45:09 INFO    GTAnalysis.residmap(): Finished residual maps\n",
      "2020-03-16 13:45:09 INFO    GTAnalysis.residmap(): Execution time: 4.10 s\n",
      "2020-03-16 13:45:09 INFO    GTAnalysis.tsmap(): Generating TS map\n",
      "2020-03-16 13:45:11 INFO    GTAnalysis._make_tsmap_fast(): Fitting test source.\n",
      "2020-03-16 13:45:29 INFO    GTAnalysis.tsmap(): Finished TS map\n",
      "2020-03-16 13:45:29 INFO    GTAnalysis.tsmap(): Execution time: 19.22 s\n"
     ]
    }
   ],
   "source": [
    "# Dictionary defining the spatial/spectral parameters of the test source\n",
    "model = {'SpatialModel' : 'PointSource', 'Index' : 2.0,\n",
    "         'SpectrumType' : 'PowerLaw'}\n",
    "\n",
    "m0 = gta.residmap('fit_model', model=model, make_plots=True)\n",
    "m1 = gta.tsmap('fit_model', model=model, make_plots=True)"
   ]
  },
  {
   "cell_type": "markdown",
   "metadata": {},
   "source": [
    "By default, calls to ```fit()``` will execute a global spectral fit over the entire energy range of the analysis. To extract a bin-by-bin flux spectrum (SED or spectral energy distribution) you can call ```sed()``` method with the source name."
   ]
  },
  {
   "cell_type": "code",
   "execution_count": 13,
   "metadata": {},
   "outputs": [
    {
     "name": "stderr",
     "output_type": "stream",
     "text": [
      "2020-03-16 13:45:29 INFO    GTAnalysis.sed(): Computing SED for 4FGL J1104.4+3812\n",
      "2020-03-16 13:45:39 INFO    GTAnalysis._make_sed(): Fitting SED\n",
      "2020-03-16 13:45:39 INFO    GTAnalysis.free_source(): Fixing parameters for galdiff               : ['Index']\n",
      "2020-03-16 13:45:45 INFO    GTAnalysis.sed(): Finished SED\n",
      "2020-03-16 13:45:45 INFO    GTAnalysis.sed(): Execution time: 16.74 s\n"
     ]
    }
   ],
   "source": [
    "gta.sed('mkn421', make_plots=True);"
   ]
  },
  {
   "cell_type": "markdown",
   "metadata": {},
   "source": [
    "## Extracting Analysis Results\n",
    "\n",
    "[**&uarr; Return to Contents**](#Fermipy)"
   ]
  },
  {
   "cell_type": "code",
   "execution_count": 14,
   "metadata": {},
   "outputs": [],
   "source": [
    "import numpy as np"
   ]
  },
  {
   "cell_type": "markdown",
   "metadata": {},
   "source": [
    "Loading from ```.npy``` format file."
   ]
  },
  {
   "cell_type": "code",
   "execution_count": 15,
   "metadata": {},
   "outputs": [],
   "source": [
    "c = np.load('fit_model.npy').flat[0]"
   ]
  },
  {
   "cell_type": "code",
   "execution_count": 16,
   "metadata": {},
   "outputs": [
    {
     "data": {
      "text/plain": [
       "['roi', 'stversion', 'version', 'config', 'sources']"
      ]
     },
     "execution_count": 16,
     "metadata": {},
     "output_type": "execute_result"
    }
   ],
   "source": [
    "c.keys()"
   ]
  },
  {
   "cell_type": "code",
   "execution_count": 17,
   "metadata": {},
   "outputs": [
    {
     "data": {
      "text/plain": [
       "['4FGL J1101.5+3904',\n",
       " '4FGL J1129.5+3034',\n",
       " '4FGL J1128.8+3757',\n",
       " '4FGL J1105.8+3944',\n",
       " '4FGL J1138.2+4115',\n",
       " '4FGL J1100.3+4020',\n",
       " '4FGL J1039.2+3258',\n",
       " '4FGL J1051.6+3253',\n",
       " '4FGL J1139.0+4033',\n",
       " '4FGL J1106.7+3623']"
      ]
     },
     "execution_count": 17,
     "metadata": {},
     "output_type": "execute_result"
    }
   ],
   "source": [
    "c['sources'].keys()[:10]"
   ]
  },
  {
   "cell_type": "markdown",
   "metadata": {},
   "source": [
    "Information about individual sources in the ROI can be gathered in a catalog FITS file."
   ]
  },
  {
   "cell_type": "code",
   "execution_count": 18,
   "metadata": {},
   "outputs": [],
   "source": [
    "from astropy.table import Table"
   ]
  },
  {
   "cell_type": "code",
   "execution_count": 19,
   "metadata": {},
   "outputs": [
    {
     "name": "stderr",
     "output_type": "stream",
     "text": [
      "WARNING: hdu= was not specified but multiple tables are present, reading in first available table (hdu=1) [astropy.io.fits.connect]\n"
     ]
    }
   ],
   "source": [
    "tab = Table.read('fit_model.fits')"
   ]
  },
  {
   "cell_type": "code",
   "execution_count": 20,
   "metadata": {},
   "outputs": [
    {
     "data": {
      "text/html": [
       "<div>\n",
       "<style scoped>\n",
       "    .dataframe tbody tr th:only-of-type {\n",
       "        vertical-align: middle;\n",
       "    }\n",
       "\n",
       "    .dataframe tbody tr th {\n",
       "        vertical-align: top;\n",
       "    }\n",
       "\n",
       "    .dataframe thead th {\n",
       "        text-align: right;\n",
       "    }\n",
       "</style>\n",
       "<table border=\"1\" class=\"dataframe\">\n",
       "  <thead>\n",
       "    <tr style=\"text-align: right;\">\n",
       "      <th></th>\n",
       "      <th>name</th>\n",
       "      <th>class</th>\n",
       "      <th>ts</th>\n",
       "      <th>npred</th>\n",
       "      <th>flux</th>\n",
       "    </tr>\n",
       "  </thead>\n",
       "  <tbody>\n",
       "    <tr>\n",
       "      <th>0</th>\n",
       "      <td>4FGL J1104.4+3812</td>\n",
       "      <td>BLL</td>\n",
       "      <td>86584.887885</td>\n",
       "      <td>29653.653811</td>\n",
       "      <td>1.999230e-07</td>\n",
       "    </tr>\n",
       "    <tr>\n",
       "      <th>1</th>\n",
       "      <td>4FGL J1101.5+3904</td>\n",
       "      <td>bcu</td>\n",
       "      <td>44.926957</td>\n",
       "      <td>1320.780916</td>\n",
       "      <td>1.315601e-08</td>\n",
       "    </tr>\n",
       "    <tr>\n",
       "      <th>2</th>\n",
       "      <td>4FGL J1109.6+3735</td>\n",
       "      <td>bll</td>\n",
       "      <td>44.199183</td>\n",
       "      <td>120.808769</td>\n",
       "      <td>7.998021e-10</td>\n",
       "    </tr>\n",
       "    <tr>\n",
       "      <th>3</th>\n",
       "      <td>4FGL J1105.8+3944</td>\n",
       "      <td>bll</td>\n",
       "      <td>28.509169</td>\n",
       "      <td>242.528664</td>\n",
       "      <td>1.983474e-09</td>\n",
       "    </tr>\n",
       "    <tr>\n",
       "      <th>4</th>\n",
       "      <td>4FGL J1106.7+3623</td>\n",
       "      <td></td>\n",
       "      <td>5.441834</td>\n",
       "      <td>336.755649</td>\n",
       "      <td>3.513795e-09</td>\n",
       "    </tr>\n",
       "    <tr>\n",
       "      <th>5</th>\n",
       "      <td>4FGL J1100.3+4020</td>\n",
       "      <td>bll</td>\n",
       "      <td>166.705277</td>\n",
       "      <td>323.441088</td>\n",
       "      <td>2.302102e-09</td>\n",
       "    </tr>\n",
       "    <tr>\n",
       "      <th>6</th>\n",
       "      <td>4FGL J1054.2+3926</td>\n",
       "      <td>bcu</td>\n",
       "      <td>24.775421</td>\n",
       "      <td>301.199487</td>\n",
       "      <td>2.671951e-09</td>\n",
       "    </tr>\n",
       "    <tr>\n",
       "      <th>7</th>\n",
       "      <td>4FGL J1111.0+3542</td>\n",
       "      <td>bll</td>\n",
       "      <td>12.782255</td>\n",
       "      <td>108.831085</td>\n",
       "      <td>9.124106e-10</td>\n",
       "    </tr>\n",
       "    <tr>\n",
       "      <th>8</th>\n",
       "      <td>4FGL J1051.4+3942</td>\n",
       "      <td>bll</td>\n",
       "      <td>78.725214</td>\n",
       "      <td>157.072765</td>\n",
       "      <td>1.074298e-09</td>\n",
       "    </tr>\n",
       "    <tr>\n",
       "      <th>9</th>\n",
       "      <td>4FGL J1101.4+4108</td>\n",
       "      <td>bll</td>\n",
       "      <td>95.072888</td>\n",
       "      <td>157.698643</td>\n",
       "      <td>1.076507e-09</td>\n",
       "    </tr>\n",
       "  </tbody>\n",
       "</table>\n",
       "</div>"
      ],
      "text/plain": [
       "                name class            ts         npred          flux\n",
       "0  4FGL J1104.4+3812   BLL  86584.887885  29653.653811  1.999230e-07\n",
       "1  4FGL J1101.5+3904   bcu     44.926957   1320.780916  1.315601e-08\n",
       "2  4FGL J1109.6+3735   bll     44.199183    120.808769  7.998021e-10\n",
       "3  4FGL J1105.8+3944   bll     28.509169    242.528664  1.983474e-09\n",
       "4  4FGL J1106.7+3623            5.441834    336.755649  3.513795e-09\n",
       "5  4FGL J1100.3+4020   bll    166.705277    323.441088  2.302102e-09\n",
       "6  4FGL J1054.2+3926   bcu     24.775421    301.199487  2.671951e-09\n",
       "7  4FGL J1111.0+3542   bll     12.782255    108.831085  9.124106e-10\n",
       "8  4FGL J1051.4+3942   bll     78.725214    157.072765  1.074298e-09\n",
       "9  4FGL J1101.4+4108   bll     95.072888    157.698643  1.076507e-09"
      ]
     },
     "execution_count": 20,
     "metadata": {},
     "output_type": "execute_result"
    }
   ],
   "source": [
    "tab[['name', 'class', 'ts', 'npred', 'flux']].to_pandas().head(10)"
   ]
  },
  {
   "cell_type": "code",
   "execution_count": 21,
   "metadata": {},
   "outputs": [
    {
     "data": {
      "text/html": [
       "&lt;Row index=0&gt;\n",
       "<table id=\"table139738681169872\">\n",
       "<thead><tr><th>param_names [10]</th><th>param_values [10]</th><th>param_errors [10]</th></tr></thead>\n",
       "<thead><tr><th>str32</th><th>float64</th><th>float64</th></tr></thead>\n",
       "<tr><td>norm ..</td><td>1.89400602234e-11 .. nan</td><td>1.58045230647e-13 .. nan</td></tr>\n",
       "</table>"
      ],
      "text/plain": [
       "<Row index=0>\n",
       "param_names [10]    param_values [10]        param_errors [10]    \n",
       "     str32               float64                  float64         \n",
       "---------------- ------------------------ ------------------------\n",
       "        norm ..  1.89400602234e-11 .. nan 1.58045230647e-13 .. nan"
      ]
     },
     "execution_count": 21,
     "metadata": {},
     "output_type": "execute_result"
    }
   ],
   "source": [
    "tab[['param_names','param_values','param_errors']][0]"
   ]
  },
  {
   "cell_type": "markdown",
   "metadata": {},
   "source": [
    "## Reloading from a Previous State\n",
    "\n",
    "[**&uarr; Return to Contents**](#Fermipy)"
   ]
  },
  {
   "cell_type": "markdown",
   "metadata": {},
   "source": [
    "Construct a new instance of ```GTAnalysis``` from a previously saved results file."
   ]
  },
  {
   "cell_type": "code",
   "execution_count": 22,
   "metadata": {},
   "outputs": [
    {
     "name": "stderr",
     "output_type": "stream",
     "text": [
      "2020-03-16 13:45:46 INFO    GTAnalysis.__init__(): \n",
      "--------------------------------------------------------------------------------\n",
      "fermipy version 0.18.1 \n",
      "ScienceTools version unknown\n",
      "2020-03-16 13:45:47 INFO    GTAnalysis.setup(): Running setup.\n",
      "2020-03-16 13:45:47 INFO    GTBinnedAnalysis.setup(): Running setup for component 00\n",
      "2020-03-16 13:45:47 INFO    GTBinnedAnalysis._select_data(): Skipping data selection.\n",
      "2020-03-16 13:45:47 INFO    GTBinnedAnalysis.setup(): Using external LT cube.\n",
      "2020-03-16 13:45:48 INFO    GTBinnedAnalysis._create_expcube(): Skipping gtexpcube.\n",
      "2020-03-16 13:45:48 INFO    GTBinnedAnalysis._create_srcmaps(): Skipping gtsrcmaps.\n",
      "2020-03-16 13:45:48 INFO    GTBinnedAnalysis.setup(): Finished setup for component 00\n",
      "2020-03-16 13:45:48 INFO    GTBinnedAnalysis._create_binned_analysis(): Creating BinnedAnalysis for component 00.\n",
      "2020-03-16 13:46:01 INFO    GTAnalysis.setup(): Finished setup.\n",
      "2020-03-16 13:46:01 INFO    GTAnalysis.load_roi(): Loading ROI file: /home/mpotto/Pesquisa/astroph/tutorials/fermipy/mkn421/fit_model.npy\n",
      "2020-03-16 13:46:02 INFO    GTBinnedAnalysis._create_binned_analysis(): Creating BinnedAnalysis for component 00.\n",
      "2020-03-16 13:46:15 INFO    GTAnalysis.load_roi(): Finished Loading ROI\n"
     ]
    }
   ],
   "source": [
    "gta_reloaded = GTAnalysis.create('fit_model.npy')"
   ]
  },
  {
   "cell_type": "markdown",
   "metadata": {},
   "source": [
    "Or load the same instance of ```GTAnalysis``` on a previous state saved via ```write_roi()```."
   ]
  },
  {
   "cell_type": "code",
   "execution_count": 23,
   "metadata": {},
   "outputs": [
    {
     "name": "stderr",
     "output_type": "stream",
     "text": [
      "2020-03-16 13:46:15 INFO    GTAnalysis.__init__(): \n",
      "--------------------------------------------------------------------------------\n",
      "fermipy version 0.18.1 \n",
      "ScienceTools version unknown\n"
     ]
    }
   ],
   "source": [
    "gta = GTAnalysis('config.yaml')"
   ]
  },
  {
   "cell_type": "code",
   "execution_count": 24,
   "metadata": {},
   "outputs": [
    {
     "name": "stderr",
     "output_type": "stream",
     "text": [
      "2020-03-16 13:46:16 INFO    GTAnalysis.setup(): Running setup.\n",
      "2020-03-16 13:46:16 INFO    GTBinnedAnalysis.setup(): Running setup for component 00\n",
      "2020-03-16 13:46:16 INFO    GTBinnedAnalysis._select_data(): Skipping data selection.\n",
      "2020-03-16 13:46:16 INFO    GTBinnedAnalysis.setup(): Using external LT cube.\n",
      "2020-03-16 13:46:17 INFO    GTBinnedAnalysis._create_expcube(): Skipping gtexpcube.\n",
      "2020-03-16 13:46:17 INFO    GTBinnedAnalysis._create_srcmaps(): Skipping gtsrcmaps.\n",
      "2020-03-16 13:46:17 INFO    GTBinnedAnalysis.setup(): Finished setup for component 00\n",
      "2020-03-16 13:46:17 INFO    GTBinnedAnalysis._create_binned_analysis(): Creating BinnedAnalysis for component 00.\n",
      "2020-03-16 13:46:27 INFO    GTAnalysis.setup(): Initializing source properties\n",
      "2020-03-16 13:46:27 INFO    GTAnalysis.setup(): Finished setup.\n"
     ]
    }
   ],
   "source": [
    "gta.setup()"
   ]
  },
  {
   "cell_type": "markdown",
   "metadata": {},
   "source": [
    "*Save a pre-fit state*"
   ]
  },
  {
   "cell_type": "code",
   "execution_count": 25,
   "metadata": {},
   "outputs": [
    {
     "name": "stderr",
     "output_type": "stream",
     "text": [
      "2020-03-16 13:46:27 INFO    GTBinnedAnalysis.write_xml(): Writing /home/mpotto/Pesquisa/astroph/tutorials/fermipy/mkn421/prefit_model_00.xml...\n",
      "2020-03-16 13:46:27 INFO    GTAnalysis.write_fits(): Writing /home/mpotto/Pesquisa/astroph/tutorials/fermipy/mkn421/prefit_model.fits...\n",
      "2020-03-16 13:46:29 INFO    GTAnalysis.write_roi(): Writing /home/mpotto/Pesquisa/astroph/tutorials/fermipy/mkn421/prefit_model.npy...\n"
     ]
    }
   ],
   "source": [
    "gta.write_roi('prefit_model')"
   ]
  },
  {
   "cell_type": "code",
   "execution_count": 26,
   "metadata": {},
   "outputs": [
    {
     "name": "stderr",
     "output_type": "stream",
     "text": [
      "2020-03-16 13:46:29 INFO    GTAnalysis.print_roi(): \n",
      "name                SpatialModel   SpectrumType     offset        ts       npred\n",
      "--------------------------------------------------------------------------------\n",
      "4FGL J1104.4+3812   PointSource    LogParabola       0.000       nan     29970.1\n",
      "4FGL J1101.5+3904   PointSource    PowerLaw          1.038       nan      1451.6\n",
      "4FGL J1109.6+3735   PointSource    PowerLaw          1.192       nan       148.3\n",
      "4FGL J1105.8+3944   PointSource    PowerLaw          1.558       nan       210.1\n",
      "4FGL J1106.7+3623   PointSource    PowerLaw          1.863       nan       584.4\n",
      "4FGL J1100.3+4020   PointSource    PowerLaw          2.272       nan       338.2\n",
      "4FGL J1054.2+3926   PointSource    PowerLaw          2.343       nan       251.9\n",
      "4FGL J1111.0+3542   PointSource    PowerLaw          2.820       nan       157.7\n",
      "4FGL J1051.4+3942   PointSource    PowerLaw          2.942       nan       146.6\n",
      "4FGL J1101.4+4108   PointSource    PowerLaw          2.994       nan       181.4\n",
      "4FGL J1112.5+3448   PointSource    LogParabola       3.775       nan      2389.8\n",
      "4FGL J1041.7+3902   PointSource    PowerLaw          4.513       nan       145.5\n",
      "4FGL J1128.8+3757   PointSource    PowerLaw          4.795       nan       736.3\n",
      "4FGL J1127.8+3618   PointSource    PowerLaw          5.021       nan      1774.5\n",
      "4FGL J1129.1+3703   PointSource    PowerLaw          5.022       nan       326.4\n",
      "4FGL J1120.8+4212   PointSource    PowerLaw          5.068       nan       682.7\n",
      "4FGL J1131.0+3815   PointSource    LogParabola       5.212       nan      1148.9\n",
      "4FGL J1051.6+3253   PointSource    PowerLaw          5.926       nan        90.7\n",
      "4FGL J1109.8+4406   PointSource    PowerLaw          5.981       nan       236.2\n",
      "4FGL J1033.7+3708   PointSource    PowerLaw          6.176       nan       216.6\n",
      "4FGL J1032.6+3737   PointSource    PowerLaw          6.293       nan       119.6\n",
      "4FGL J1033.1+4115   PointSource    PowerLaw          6.758       nan       662.9\n",
      "4FGL J1139.0+4033   PointSource    PowerLaw          7.081       nan       169.5\n",
      "4FGL J1138.2+4115   PointSource    PowerLaw          7.176       nan        27.2\n",
      "4FGL J1033.5+4221   PointSource    PowerLaw          7.206       nan         9.4\n",
      "4FGL J1039.2+3258   PointSource    PowerLaw          7.322       nan       126.4\n",
      "4FGL J1136.2+3407   PointSource    PowerLaw          7.604       nan       147.5\n",
      "4FGL J1035.6+4409   PointSource    PowerLaw          8.042       nan        58.8\n",
      "4FGL J1129.5+3034   PointSource    PowerLaw          9.208       nan        29.5\n",
      "4FGL J1145.5+4423   PointSource    PowerLaw          9.878       nan        11.8\n",
      "isodiff             ConstantValue  FileFunction      -----       nan     46726.3\n",
      "galdiff             MapCubeFunctio PowerLaw          -----       nan     30913.5\n",
      "\n"
     ]
    }
   ],
   "source": [
    "gta.print_roi()"
   ]
  },
  {
   "cell_type": "markdown",
   "metadata": {},
   "source": [
    "*Do some modifications*"
   ]
  },
  {
   "cell_type": "code",
   "execution_count": 27,
   "metadata": {},
   "outputs": [
    {
     "name": "stderr",
     "output_type": "stream",
     "text": [
      "2020-03-16 13:46:29 INFO    GTAnalysis.free_source(): Freeing parameters for 4FGL J1104.4+3812     : ['norm', 'alpha', 'beta']\n"
     ]
    }
   ],
   "source": [
    "gta.free_source('mkn421')"
   ]
  },
  {
   "cell_type": "code",
   "execution_count": 28,
   "metadata": {},
   "outputs": [
    {
     "name": "stderr",
     "output_type": "stream",
     "text": [
      "2020-03-16 13:46:29 INFO    GTAnalysis.fit(): Starting fit.\n",
      "2020-03-16 13:46:29 INFO    GTAnalysis.fit(): Fit returned successfully. Quality:   3 Status:   0\n",
      "2020-03-16 13:46:29 INFO    GTAnalysis.fit(): LogLike:   -77229.850 DeltaLogLike:       12.921 \n"
     ]
    }
   ],
   "source": [
    "gta.fit();"
   ]
  },
  {
   "cell_type": "code",
   "execution_count": 29,
   "metadata": {},
   "outputs": [
    {
     "name": "stderr",
     "output_type": "stream",
     "text": [
      "2020-03-16 13:46:29 INFO    GTAnalysis.print_roi(): \n",
      "name                SpatialModel   SpectrumType     offset        ts       npred\n",
      "--------------------------------------------------------------------------------\n",
      "4FGL J1104.4+3812   PointSource    LogParabola       0.000  95876.87     30604.8\n",
      "4FGL J1101.5+3904   PointSource    PowerLaw          1.038       nan      1451.6\n",
      "4FGL J1109.6+3735   PointSource    PowerLaw          1.192       nan       148.3\n",
      "4FGL J1105.8+3944   PointSource    PowerLaw          1.558       nan       210.1\n",
      "4FGL J1106.7+3623   PointSource    PowerLaw          1.863       nan       584.4\n",
      "4FGL J1100.3+4020   PointSource    PowerLaw          2.272       nan       338.2\n",
      "4FGL J1054.2+3926   PointSource    PowerLaw          2.343       nan       251.9\n",
      "4FGL J1111.0+3542   PointSource    PowerLaw          2.820       nan       157.7\n",
      "4FGL J1051.4+3942   PointSource    PowerLaw          2.942       nan       146.6\n",
      "4FGL J1101.4+4108   PointSource    PowerLaw          2.994       nan       181.4\n",
      "4FGL J1112.5+3448   PointSource    LogParabola       3.775       nan      2389.8\n",
      "4FGL J1041.7+3902   PointSource    PowerLaw          4.513       nan       145.5\n",
      "4FGL J1128.8+3757   PointSource    PowerLaw          4.795       nan       736.3\n",
      "4FGL J1127.8+3618   PointSource    PowerLaw          5.021       nan      1774.5\n",
      "4FGL J1129.1+3703   PointSource    PowerLaw          5.022       nan       326.4\n",
      "4FGL J1120.8+4212   PointSource    PowerLaw          5.068       nan       682.7\n",
      "4FGL J1131.0+3815   PointSource    LogParabola       5.212       nan      1148.9\n",
      "4FGL J1051.6+3253   PointSource    PowerLaw          5.926       nan        90.7\n",
      "4FGL J1109.8+4406   PointSource    PowerLaw          5.981       nan       236.2\n",
      "4FGL J1033.7+3708   PointSource    PowerLaw          6.176       nan       216.6\n",
      "4FGL J1032.6+3737   PointSource    PowerLaw          6.293       nan       119.6\n",
      "4FGL J1033.1+4115   PointSource    PowerLaw          6.758       nan       662.9\n",
      "4FGL J1139.0+4033   PointSource    PowerLaw          7.081       nan       169.5\n",
      "4FGL J1138.2+4115   PointSource    PowerLaw          7.176       nan        27.2\n",
      "4FGL J1033.5+4221   PointSource    PowerLaw          7.206       nan         9.4\n",
      "4FGL J1039.2+3258   PointSource    PowerLaw          7.322       nan       126.4\n",
      "4FGL J1136.2+3407   PointSource    PowerLaw          7.604       nan       147.5\n",
      "4FGL J1035.6+4409   PointSource    PowerLaw          8.042       nan        58.8\n",
      "4FGL J1129.5+3034   PointSource    PowerLaw          9.208       nan        29.5\n",
      "4FGL J1145.5+4423   PointSource    PowerLaw          9.878       nan        11.8\n",
      "isodiff             ConstantValue  FileFunction      -----       nan     46726.3\n",
      "galdiff             MapCubeFunctio PowerLaw          -----       nan     30913.5\n",
      "\n"
     ]
    }
   ],
   "source": [
    "gta.print_roi()"
   ]
  },
  {
   "cell_type": "markdown",
   "metadata": {},
   "source": [
    "*Reload pre-fit model*"
   ]
  },
  {
   "cell_type": "code",
   "execution_count": 30,
   "metadata": {},
   "outputs": [
    {
     "name": "stderr",
     "output_type": "stream",
     "text": [
      "2020-03-16 13:46:29 INFO    GTAnalysis.load_roi(): Loading ROI file: /home/mpotto/Pesquisa/astroph/tutorials/fermipy/mkn421/prefit_model.npy\n",
      "2020-03-16 13:46:29 INFO    GTBinnedAnalysis._create_binned_analysis(): Creating BinnedAnalysis for component 00.\n",
      "2020-03-16 13:46:40 INFO    GTAnalysis.load_roi(): Finished Loading ROI\n"
     ]
    }
   ],
   "source": [
    "gta.load_roi('prefit_model')"
   ]
  },
  {
   "cell_type": "code",
   "execution_count": 31,
   "metadata": {},
   "outputs": [
    {
     "name": "stderr",
     "output_type": "stream",
     "text": [
      "2020-03-16 13:46:40 INFO    GTAnalysis.print_roi(): \n",
      "name                SpatialModel   SpectrumType     offset        ts       npred\n",
      "--------------------------------------------------------------------------------\n",
      "4FGL J1104.4+3812   PointSource    LogParabola       0.000       nan     29970.1\n",
      "4FGL J1101.5+3904   PointSource    PowerLaw          1.038       nan      1451.6\n",
      "4FGL J1109.6+3735   PointSource    PowerLaw          1.192       nan       148.3\n",
      "4FGL J1105.8+3944   PointSource    PowerLaw          1.558       nan       210.1\n",
      "4FGL J1106.7+3623   PointSource    PowerLaw          1.863       nan       584.4\n",
      "4FGL J1100.3+4020   PointSource    PowerLaw          2.272       nan       338.2\n",
      "4FGL J1054.2+3926   PointSource    PowerLaw          2.343       nan       251.9\n",
      "4FGL J1111.0+3542   PointSource    PowerLaw          2.820       nan       157.7\n",
      "4FGL J1051.4+3942   PointSource    PowerLaw          2.942       nan       146.6\n",
      "4FGL J1101.4+4108   PointSource    PowerLaw          2.994       nan       181.4\n",
      "4FGL J1112.5+3448   PointSource    LogParabola       3.775       nan      2389.8\n",
      "4FGL J1041.7+3902   PointSource    PowerLaw          4.513       nan       145.5\n",
      "4FGL J1128.8+3757   PointSource    PowerLaw          4.795       nan       736.3\n",
      "4FGL J1127.8+3618   PointSource    PowerLaw          5.021       nan      1774.5\n",
      "4FGL J1129.1+3703   PointSource    PowerLaw          5.022       nan       326.4\n",
      "4FGL J1120.8+4212   PointSource    PowerLaw          5.068       nan       682.7\n",
      "4FGL J1131.0+3815   PointSource    LogParabola       5.212       nan      1148.9\n",
      "4FGL J1051.6+3253   PointSource    PowerLaw          5.926       nan        90.7\n",
      "4FGL J1109.8+4406   PointSource    PowerLaw          5.981       nan       236.2\n",
      "4FGL J1033.7+3708   PointSource    PowerLaw          6.176       nan       216.6\n",
      "4FGL J1032.6+3737   PointSource    PowerLaw          6.293       nan       119.6\n",
      "4FGL J1033.1+4115   PointSource    PowerLaw          6.758       nan       662.9\n",
      "4FGL J1139.0+4033   PointSource    PowerLaw          7.081       nan       169.5\n",
      "4FGL J1138.2+4115   PointSource    PowerLaw          7.176       nan        27.2\n",
      "4FGL J1033.5+4221   PointSource    PowerLaw          7.206       nan         9.4\n",
      "4FGL J1039.2+3258   PointSource    PowerLaw          7.322       nan       126.4\n",
      "4FGL J1136.2+3407   PointSource    PowerLaw          7.604       nan       147.5\n",
      "4FGL J1035.6+4409   PointSource    PowerLaw          8.042       nan        58.8\n",
      "4FGL J1129.5+3034   PointSource    PowerLaw          9.208       nan        29.5\n",
      "4FGL J1145.5+4423   PointSource    PowerLaw          9.878       nan        11.8\n",
      "galdiff             MapCubeFunctio PowerLaw          -----       nan     30913.5\n",
      "isodiff             ConstantValue  FileFunction      -----       nan     46726.3\n",
      "\n"
     ]
    }
   ],
   "source": [
    "gta.print_roi()"
   ]
  },
  {
   "cell_type": "markdown",
   "metadata": {},
   "source": [
    "## Querying and Downloading data with astroquery\n",
    "\n",
    "[**&uarr; Return to Contents**](#Fermipy)"
   ]
  },
  {
   "cell_type": "markdown",
   "metadata": {},
   "source": [
    "Query using astroquery Fermi API."
   ]
  },
  {
   "cell_type": "code",
   "execution_count": 32,
   "metadata": {},
   "outputs": [
    {
     "name": "stderr",
     "output_type": "stream",
     "text": [
      "/home/mpotto/anaconda3/envs/fermi/lib/python2.7/site-packages/astroquery/fermi/__init__.py:37: UserWarning: Experimental: Fermi-LAT has not yet been refactored to have its API match the rest of astroquery.\n",
      "  warnings.warn(\"Experimental: Fermi-LAT has not yet been refactored to have \"\n"
     ]
    }
   ],
   "source": [
    "from astroquery import fermi"
   ]
  },
  {
   "cell_type": "code",
   "execution_count": 33,
   "metadata": {},
   "outputs": [],
   "source": [
    "result = fermi.FermiLAT.query_object(name_or_coords='238.929,11.1901', \n",
    "                                     searchradius='30',\n",
    "                                     timesys='MET',\n",
    "                                     obsdates='239557417, 256970880',\n",
    "                                     energyrange_MeV='100,300000')"
   ]
  },
  {
   "cell_type": "markdown",
   "metadata": {},
   "source": [
    "Download using ```urllib``` request."
   ]
  },
  {
   "cell_type": "code",
   "execution_count": 34,
   "metadata": {},
   "outputs": [],
   "source": [
    "from six.moves.urllib import request"
   ]
  },
  {
   "cell_type": "code",
   "execution_count": 35,
   "metadata": {},
   "outputs": [],
   "source": [
    "image_ph1 = request.urlopen(result[-1])"
   ]
  },
  {
   "cell_type": "markdown",
   "metadata": {},
   "source": [
    "Save the image as ```.fits```"
   ]
  },
  {
   "cell_type": "code",
   "execution_count": null,
   "metadata": {},
   "outputs": [],
   "source": [
    "with open('test.fits', 'w') as image:\n",
    "    image.write(image_ph1.read())"
   ]
  },
  {
   "cell_type": "markdown",
   "metadata": {},
   "source": [
    "Verify the download by checking the PrimaryHDU header."
   ]
  },
  {
   "cell_type": "code",
   "execution_count": null,
   "metadata": {},
   "outputs": [],
   "source": [
    "from astropy.io import fits"
   ]
  },
  {
   "cell_type": "code",
   "execution_count": null,
   "metadata": {},
   "outputs": [],
   "source": [
    "with fits.open('test.fits') as hdul:\n",
    "    header = hdul[0].header"
   ]
  }
 ],
 "metadata": {
  "kernelspec": {
   "display_name": "Python 2",
   "language": "python",
   "name": "python2"
  },
  "language_info": {
   "codemirror_mode": {
    "name": "ipython",
    "version": 2
   },
   "file_extension": ".py",
   "mimetype": "text/x-python",
   "name": "python",
   "nbconvert_exporter": "python",
   "pygments_lexer": "ipython2",
   "version": "2.7.14"
  }
 },
 "nbformat": 4,
 "nbformat_minor": 4
}
