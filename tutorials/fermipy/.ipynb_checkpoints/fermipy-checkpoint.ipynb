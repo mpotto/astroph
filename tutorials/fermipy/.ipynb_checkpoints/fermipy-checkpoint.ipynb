{
 "cells": [
  {
   "cell_type": "markdown",
   "metadata": {},
   "source": [
    "# Fermipy\n",
    "\n",
    "Notes on the [```fermipy```quickstart guide](https://fermipy.readthedocs.io/en/latest/quickstart.html)\n",
    "\n",
    "**Contents**\n",
    "* [Quickstart Guide](#Quickstart-guide)"
   ]
  },
  {
   "cell_type": "markdown",
   "metadata": {},
   "source": [
    "## Likelihood Analysis with ```fermipy```\n",
    "[**&uarr; Return to Contents**](#Fermipy)"
   ]
  },
  {
   "cell_type": "code",
   "execution_count": 1,
   "metadata": {},
   "outputs": [],
   "source": [
    "import numpy as np\n",
    "import matplotlib.pyplot as plt\n",
    "import os"
   ]
  },
  {
   "cell_type": "code",
   "execution_count": 2,
   "metadata": {},
   "outputs": [],
   "source": [
    "from astropy.io import fits"
   ]
  },
  {
   "cell_type": "markdown",
   "metadata": {},
   "source": [
    "*Querying and downloading data with ```astroquery```*"
   ]
  },
  {
   "cell_type": "code",
   "execution_count": 9,
   "metadata": {},
   "outputs": [
    {
     "name": "stderr",
     "output_type": "stream",
     "text": [
      "/home/mpotto/anaconda3/envs/fermi/lib/python2.7/site-packages/astroquery/fermi/__init__.py:37: UserWarning: Experimental: Fermi-LAT has not yet been refactored to have its API match the rest of astroquery.\n",
      "  warnings.warn(\"Experimental: Fermi-LAT has not yet been refactored to have \"\n"
     ]
    }
   ],
   "source": [
    "from astroquery import fermi\n",
    "from six.moves.urllib import request"
   ]
  },
  {
   "cell_type": "code",
   "execution_count": 16,
   "metadata": {},
   "outputs": [],
   "source": [
    "result = fermi.FermiLAT.query_object(name_or_coords='238.929,11.1901', \n",
    "                                     searchradius='30',\n",
    "                                     timesys='MET',\n",
    "                                     obsdates='239557417, 256970880',\n",
    "                                     energyrange_MeV='100,300000')\n"
   ]
  },
  {
   "cell_type": "code",
   "execution_count": 17,
   "metadata": {},
   "outputs": [],
   "source": [
    "image_ph1 = request.urlopen(result[-1])"
   ]
  },
  {
   "cell_type": "code",
   "execution_count": 18,
   "metadata": {},
   "outputs": [],
   "source": [
    "with open('test.fits', 'w') as image:\n",
    "    image.write(image_ph1.read())"
   ]
  },
  {
   "cell_type": "code",
   "execution_count": 28,
   "metadata": {},
   "outputs": [],
   "source": [
    "with fits.open('test.fits') as hdul:\n",
    "    header = hdul[0].header"
   ]
  },
  {
   "cell_type": "code",
   "execution_count": 29,
   "metadata": {},
   "outputs": [
    {
     "data": {
      "text/plain": [
       "SIMPLE  =                    T / file does conform to FITS standard             \n",
       "BITPIX  =                    8 / number of bits per data pixel                  \n",
       "NAXIS   =                    0 / number of data axes                            \n",
       "EXTEND  =                    T / FITS dataset may contain extensions            \n",
       "COMMENT   FITS (Flexible Image Transport System) format is defined in 'Astronomy\n",
       "COMMENT   and Astrophysics', volume 376, page 359; bibcode: 2001A&A...376..359H \n",
       "CHECKSUM= 'd9VYe6UVd6UVd6UV'   / HDU checksum updated 2020-03-15T05:38:29       \n",
       "TELESCOP= 'GLAST   '           / name of telescope generating data              \n",
       "INSTRUME= 'LAT     '           / name of instrument generating data             \n",
       "EQUINOX =                2000. / equinox for ra and dec                         \n",
       "RADECSYS= 'FK5     '           / world coord. system for this file (FK5 or FK4) \n",
       "DATE    = '2020-03-15T01:38:27' / file creation date (YYYY-MM-DDThh:mm:ss U     \n",
       "DATE-OBS= '2008-11-13T00:37:48.0000' / start date and time of the observation (U\n",
       "DATE-END= '2009-02-22T04:47:58.0000' / end date and time of the observation (UTC\n",
       "TSTART  =           248229469. / mission time of the start of the observation   \n",
       "TSTOP   =           256970880. / mission time of the end of the observation     \n",
       "TIMEUNIT= 's       '           / units for the time related keywords            \n",
       "TIMEZERO=                   0. / clock correction                               \n",
       "TIMESYS = 'TT      '           / type of time system that is used               \n",
       "TIMEREF = 'LOCAL   '           / reference frame used for times                 \n",
       "CLOCKAPP=                    F / whether a clock drift correction has been appli\n",
       "GPS_OUT =                    F / whether GPS time was unavailable at any time du\n",
       "MJDREFI =               51910. / Integer part of MJD corresponding to SC clock s\n",
       "MJDREFF =  0.00074287037037037 / Fractional part of MJD corresponding to SC cloc\n",
       "OBSERVER= 'Peter Michelson'    / GLAST/LAT PI                                   \n",
       "FILENAME= 'L200315013826F357373F57_PH01.fits' / name of this file               \n",
       "ORIGIN  = 'FSSC    '           / name of organization making file               \n",
       "CREATOR = 'photonDatabase $Name:  $' / software and version creating file       \n",
       "VERSION = '305     '           / release version of the file                    \n",
       "PROC_VER=                  305 / processing version of this file                \n",
       "DATASUM = '         0'         / data unit checksum updated 2017-11-06T16:21:12 "
      ]
     },
     "execution_count": 29,
     "metadata": {},
     "output_type": "execute_result"
    }
   ],
   "source": [
    "header"
   ]
  },
  {
   "cell_type": "code",
   "execution_count": null,
   "metadata": {},
   "outputs": [],
   "source": []
  }
 ],
 "metadata": {
  "kernelspec": {
   "display_name": "Python 2",
   "language": "python",
   "name": "python2"
  },
  "language_info": {
   "codemirror_mode": {
    "name": "ipython",
    "version": 2
   },
   "file_extension": ".py",
   "mimetype": "text/x-python",
   "name": "python",
   "nbconvert_exporter": "python",
   "pygments_lexer": "ipython2",
   "version": "2.7.14"
  }
 },
 "nbformat": 4,
 "nbformat_minor": 4
}
